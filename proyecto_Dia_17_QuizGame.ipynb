{
 "cells": [
  {
   "cell_type": "markdown",
   "metadata": {},
   "source": [
    "## Day 17 Proyect: Quiz Game"
   ]
  },
  {
   "cell_type": "markdown",
   "metadata": {},
   "source": [
    "### Quiz Game – Proyecto del Día 17 📝\n",
    "\n",
    "En este juego de preguntas (Verdadero/Falso) se muestran preguntas de conocimiento general. El usuario debe responder \"Verdadero\" o \"Falso\". Cada respuesta correcta suma un punto y se le informa al usuario su puntuación actual. El juego continúa hasta que se acaben las preguntas del cuestionario.\n",
    "\n",
    "El código se organiza en las siguientes secciones:\n",
    "- Datos de las preguntas.\n",
    "- Definición de la clase **Question** para modelar cada pregunta.\n",
    "- Banco de las preguntas generado por la clase **Question**\n",
    "- Definición de la clase **QuizBrain**, que gestiona la presentación de las preguntas, la verificación de respuestas y el seguimiento del puntaje.\n",
    "- Lógica principal para iniciar el juego."
   ]
  },
  {
   "cell_type": "markdown",
   "metadata": {},
   "source": [
    "#### Banco de Preguntas\n",
    "Cada pregunta se muestra junto con la respuesta correcta\n"
   ]
  },
  {
   "cell_type": "code",
   "execution_count": 1,
   "metadata": {},
   "outputs": [],
   "source": [
    "# Lista de diccionarios con las preguntas\n",
    "question_data = [\n",
    "    {\"text\": \"La sangre de una babosa es verde.\", \"answer\": \"Verdadero\"},\n",
    "    {\"text\": \"El animal más ruidoso es el elefante africano.\", \"answer\": \"Falso\"},\n",
    "    {\"text\": \"Aproximadamente una cuarta parte de los huesos humanos están en los pies.\", \"answer\": \"Verdadero\"},\n",
    "    {\"text\": \"La superficie total de los pulmones humanos es del tamaño de un campo de fútbol.\", \"answer\": \"Verdadero\"},\n",
    "    {\"text\": \"En Virginia Occidental, EE. UU., si atropellas accidentalmente a un animal con tu coche, puedes llevártelo a casa para comerlo.\", \"answer\": \"Verdadero\"},\n",
    "    {\"text\": \"En Londres, Reino Unido, si mueres en el Parlamento, tienes derecho a un funeral de Estado.\", \"answer\": \"Falso\"},\n",
    "    {\"text\": \"Es ilegal orinar en el océano en Portugal.\", \"answer\": \"Verdadero\"},\n",
    "    {\"text\": \"Puedes bajar a una vaca por las escaleras, pero no subirla.\", \"answer\": \"Falso\"},\n",
    "    {\"text\": \"Google originalmente se llamaba 'Backrub'.\", \"answer\": \"Verdadero\"},\n",
    "    {\"text\": \"El apellido de soltera de la madre de Buzz Aldrin era 'Moon' (Luna).\", \"answer\": \"Verdadero\"},\n",
    "    {\"text\": \"Ningún pedazo de papel cuadrado y seco se puede doblar por la mitad más de 7 veces.\", \"answer\": \"Falso\"},\n",
    "    {\"text\": \"Unas pocas onzas de chocolate pueden matar a un perro pequeño.\", \"answer\": \"Verdadero\"}\n",
    "]\n"
   ]
  },
  {
   "cell_type": "code",
   "execution_count": null,
   "metadata": {},
   "outputs": [],
   "source": [
    "question_data[0]['text']"
   ]
  },
  {
   "cell_type": "markdown",
   "metadata": {},
   "source": [
    "### Clase Question: \n",
    "- **Question:**  \n",
    "  Modela cada pregunta del banco de preguntas junto con su respuesta"
   ]
  },
  {
   "cell_type": "code",
   "execution_count": 2,
   "metadata": {},
   "outputs": [
    {
     "name": "stdout",
     "output_type": "stream",
     "text": [
      "Pregunta: La sangre de una babosa es verde. \n",
      "Respuesta: Verdadero\n"
     ]
    }
   ],
   "source": [
    "class Question:\n",
    "    \"\"\"Modelo de pregunta para el Quiz Game.\"\"\"\n",
    "    def __init__(self, q_text, q_answer):\n",
    "        \"\"\"\n",
    "        Inicializa una nueva pregunta.\n",
    "        Parámetros:\n",
    "          q_text (str): El texto de la pregunta.\n",
    "          q_answer (str): La respuesta correcta (\"Verdadero\" o \"Falso\").\n",
    "        \"\"\"\n",
    "        self.text = q_text\n",
    "        self.answer = q_answer\n",
    "\n",
    "# Ejemplo de prueba:\n",
    "q = Question(question_data[0]['text'], question_data[0]['answer'])\n",
    "print(f\"Pregunta: {q.text}\",f\"\\nRespuesta: {q.answer}\")\n"
   ]
  },
  {
   "cell_type": "markdown",
   "metadata": {},
   "source": [
    "#### Banco de Preguntas\n",
    "Crear un banco de preguntas a partir de una base de datos de preguntas usando la clase `Question`"
   ]
  },
  {
   "cell_type": "code",
   "execution_count": 3,
   "metadata": {},
   "outputs": [],
   "source": [
    "# Convertir la base de datos de preguntas (lista de diccionarios) en una lista de objetos Question\n",
    "question_bank = []\n",
    "for question in question_data:\n",
    "    new_question = Question(question[\"text\"], question[\"answer\"])\n",
    "    question_bank.append(new_question)\n",
    "\n"
   ]
  },
  {
   "cell_type": "code",
   "execution_count": 4,
   "metadata": {},
   "outputs": [
    {
     "name": "stdout",
     "output_type": "stream",
     "text": [
      "Pregunta: La sangre de una babosa es verde. \n",
      "Respuesta: Verdadero\n",
      "Pregunta: El animal más ruidoso es el elefante africano. \n",
      "Respuesta: Falso\n",
      "Pregunta: Aproximadamente una cuarta parte de los huesos humanos están en los pies. \n",
      "Respuesta: Verdadero\n",
      "Pregunta: La superficie total de los pulmones humanos es del tamaño de un campo de fútbol. \n",
      "Respuesta: Verdadero\n",
      "Pregunta: En Virginia Occidental, EE. UU., si atropellas accidentalmente a un animal con tu coche, puedes llevártelo a casa para comerlo. \n",
      "Respuesta: Verdadero\n"
     ]
    }
   ],
   "source": [
    "# Verificación de las primeras 5 observaciones del banco de preguntas\n",
    "for q in question_bank[:5]:\n",
    "    print(f\"Pregunta: {q.text}\", f\"\\nRespuesta: {q.answer}\")\n"
   ]
  },
  {
   "cell_type": "markdown",
   "metadata": {},
   "source": [
    "### Clase QuizBrain: \n",
    "- **QuizBrain:**  \n",
    "  Gestiona la lógica del Quiz Game."
   ]
  },
  {
   "cell_type": "code",
   "execution_count": 5,
   "metadata": {},
   "outputs": [],
   "source": [
    "class QuizBrain:\n",
    "    \"\"\"Gestiona la lógica del Quiz Game.\"\"\"\n",
    "    def __init__(self, q_list):\n",
    "        \"\"\"\n",
    "        Inicializa el QuizBrain.\n",
    "        Parámetros:\n",
    "          q_list (list): Lista de objetos Question.\n",
    "        \"\"\"\n",
    "        self.question_list = q_list\n",
    "        self.question_number = 0\n",
    "        self.score = 0\n",
    "\n",
    "    def still_has_questions(self):\n",
    "        \"\"\"Retorna True si quedan preguntas, de lo contrario False.\"\"\"\n",
    "        return self.question_number < len(self.question_list)\n",
    "\n",
    "    def next_question(self):\n",
    "        \"\"\"Presenta la siguiente pregunta y solicita la respuesta del usuario.\"\"\"\n",
    "        current_question = self.question_list[self.question_number]\n",
    "        self.question_number += 1\n",
    "        # Mostrar el número de pregunta (empezando en 1)\n",
    "        user_answer = input(f\"Q.{self.question_number}: {current_question.text} (Verdadero/Falso): \")\n",
    "        self.check_answer(user_answer, current_question.answer)\n",
    "\n",
    "    def check_answer(self, user_answer, correct_answer):\n",
    "        \"\"\"Comprueba la respuesta del usuario, actualiza la puntuación y muestra feedback.\"\"\"\n",
    "        if user_answer.lower() == correct_answer.lower():\n",
    "            self.score += 1\n",
    "            print(\"¡Correcto!\")\n",
    "        else:\n",
    "            print(\"Incorrecto.\")\n",
    "        print(f\"La respuesta correcta era: {correct_answer}.\")\n",
    "        print(f\"Tu puntuación es: {self.score}/{self.question_number}\\n\")\n"
   ]
  },
  {
   "cell_type": "markdown",
   "metadata": {},
   "source": [
    "#### Lógica Principal del Quiz"
   ]
  },
  {
   "cell_type": "code",
   "execution_count": 6,
   "metadata": {},
   "outputs": [],
   "source": [
    "def start_quiz():\n",
    "    \"\"\"Inicia el cuestionario.\"\"\"\n",
    "    print(\"¡Bienvenido al Quiz de Verdadero/Falso!\")\n",
    "    # Inicializa el objeto QuizBrain con la lista de preguntas\n",
    "    quiz = QuizBrain(question_bank)\n",
    "    # Mientras haya preguntas disponibles, continúa el cuestionario\n",
    "    while quiz.still_has_questions():\n",
    "        quiz.next_question()\n",
    "\n",
    "    print(\"¡Has completado el cuestionario!\")\n",
    "    print(f\"Tu puntuación final fue: {quiz.score}/{len(quiz.question_list)}\")\n"
   ]
  },
  {
   "cell_type": "code",
   "execution_count": 7,
   "metadata": {},
   "outputs": [
    {
     "name": "stdout",
     "output_type": "stream",
     "text": [
      "¡Bienvenido al Quiz de Verdadero/Falso!\n",
      "¡Correcto!\n",
      "La respuesta correcta era: Verdadero.\n",
      "Tu puntuación es: 1/1\n",
      "\n",
      "¡Correcto!\n",
      "La respuesta correcta era: Falso.\n",
      "Tu puntuación es: 2/2\n",
      "\n",
      "¡Correcto!\n",
      "La respuesta correcta era: Verdadero.\n",
      "Tu puntuación es: 3/3\n",
      "\n",
      "Incorrecto.\n",
      "La respuesta correcta era: Verdadero.\n",
      "Tu puntuación es: 3/4\n",
      "\n",
      "¡Correcto!\n",
      "La respuesta correcta era: Verdadero.\n",
      "Tu puntuación es: 4/5\n",
      "\n",
      "Incorrecto.\n",
      "La respuesta correcta era: Falso.\n",
      "Tu puntuación es: 4/6\n",
      "\n",
      "¡Correcto!\n",
      "La respuesta correcta era: Verdadero.\n",
      "Tu puntuación es: 5/7\n",
      "\n",
      "¡Correcto!\n",
      "La respuesta correcta era: Falso.\n",
      "Tu puntuación es: 6/8\n",
      "\n",
      "Incorrecto.\n",
      "La respuesta correcta era: Verdadero.\n",
      "Tu puntuación es: 6/9\n",
      "\n",
      "¡Correcto!\n",
      "La respuesta correcta era: Verdadero.\n",
      "Tu puntuación es: 7/10\n",
      "\n",
      "Incorrecto.\n",
      "La respuesta correcta era: Falso.\n",
      "Tu puntuación es: 7/11\n",
      "\n",
      "¡Correcto!\n",
      "La respuesta correcta era: Verdadero.\n",
      "Tu puntuación es: 8/12\n",
      "\n",
      "¡Has completado el cuestionario!\n",
      "Tu puntuación final fue: 8/12\n"
     ]
    }
   ],
   "source": [
    "# Iniciar el quiz\n",
    "start_quiz()"
   ]
  },
  {
   "cell_type": "markdown",
   "metadata": {},
   "source": [
    "#### Conclusión\n",
    "\n",
    "En este proyecto hemos aplicado conceptos fundamentales de Python, tales como:\n",
    "- **Listas y Diccionarios:**  \n",
    "  Uso de una lista de diccionarios para almacenar los datos de las preguntas y conversión de estos en objetos.\n",
    "- **Clases y Objetos:**  \n",
    "  Creación de la clase `Question` para modelar cada pregunta y la clase `QuizBrain` para gestionar el flujo del cuestionario.\n",
    "- **Bucles y Condicionales:**  \n",
    "  Uso de bucles `while` y condicionales para recorrer la lista de preguntas, comprobar respuestas y actualizar la puntuación.\n",
    "- **Interacción con el Usuario:**  \n",
    "  Se solicita la respuesta para cada pregunta y se muestra feedback inmediato, incluyendo la puntuación actual.\n",
    "\n",
    "Este enfoque demuestra cómo descomponer un problema complejo (un juego de preguntas) en partes manejables y modularizar el código para que sea claro y escalable.\n"
   ]
  }
 ],
 "metadata": {
  "kernelspec": {
   "display_name": "base",
   "language": "python",
   "name": "python3"
  },
  "language_info": {
   "codemirror_mode": {
    "name": "ipython",
    "version": 3
   },
   "file_extension": ".py",
   "mimetype": "text/x-python",
   "name": "python",
   "nbconvert_exporter": "python",
   "pygments_lexer": "ipython3",
   "version": "3.11.7"
  }
 },
 "nbformat": 4,
 "nbformat_minor": 2
}
