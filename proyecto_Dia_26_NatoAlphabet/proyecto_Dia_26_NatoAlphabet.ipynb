{
 "cells": [
  {
   "cell_type": "markdown",
   "id": "c4579d9c",
   "metadata": {},
   "source": [
    "## Day 26 Proyect: NATO Alphabet"
   ]
  },
  {
   "cell_type": "markdown",
   "id": "7c5ab5ef",
   "metadata": {},
   "source": [
    "### NATO Phonetic Alphabet – Proyecto del Día 26 🔤\n",
    "\n",
    "En este proyecto creamos un conversor de palabras a su equivalente en el **alfabeto fonético de la OTAN (NATO)**.  \n",
    "Por ejemplo, si el usuario escribe \"Hola\", la salida sería: `[\"Hotel\", \"Oscar\", \"Lima\", \"Alpha\"]`.\n",
    "\n",
    "📌 Este proyecto refuerza:\n",
    "- Lectura de archivos `.csv` con `pandas`\n",
    "- Uso de comprensión de diccionarios y listas\n",
    "- Validación de entradas del usuario\n",
    "- Uso del método `iterrows()` y estructuras de datos\n",
    "\n",
    "El archivo `nato_phonetic_alphabet.csv` contiene el mapeo de letras a código fonético.\n"
   ]
  },
  {
   "cell_type": "markdown",
   "id": "443117cb",
   "metadata": {},
   "source": [
    "#### Paso 1: Leer el archivo CSV y crear el diccionario fonético\n",
    "\n",
    "Se utiliza `pandas` para cargar el archivo `nato_phonetic_alphabet.csv`, que contiene dos columnas:  \n",
    "- `letter` (letra)\n",
    "- `code` (palabra fonética correspondiente)\n",
    "\n",
    "Luego se utiliza **comprensión de diccionario** para crear una estructura del tipo:  \n",
    "```python\n",
    "{\"A\": \"Alpha\", \"B\": \"Bravo\", ...}"
   ]
  },
  {
   "cell_type": "code",
   "execution_count": 1,
   "id": "49fdb0fe",
   "metadata": {},
   "outputs": [],
   "source": [
    "# Importar pandas para manipulación de datos\n",
    "import pandas as pd\n"
   ]
  },
  {
   "cell_type": "code",
   "execution_count": 2,
   "id": "c07dbe62",
   "metadata": {},
   "outputs": [
    {
     "name": "stdout",
     "output_type": "stream",
     "text": [
      "   letter      code\n",
      "0       A      Alfa\n",
      "1       B     Bravo\n",
      "2       C   Charlie\n",
      "3       D     Delta\n",
      "4       E      Echo\n",
      "5       F   Foxtrot\n",
      "6       G      Golf\n",
      "7       H     Hotel\n",
      "8       I     India\n",
      "9       J    Juliet\n",
      "10      K      Kilo\n",
      "11      L      Lima\n",
      "12      M      Mike\n",
      "13      N  November\n",
      "14      O     Oscar\n",
      "15      P      Papa\n",
      "16      Q    Quebec\n",
      "17      R     Romeo\n",
      "18      S    Sierra\n",
      "19      T     Tango\n",
      "20      U   Uniform\n",
      "21      V    Victor\n",
      "22      W   Whiskey\n",
      "23      X     X-ray\n",
      "24      Y    Yankee\n",
      "25      Z      Zulu\n"
     ]
    }
   ],
   "source": [
    "# Cargar el archivo CSV\n",
    "df = pd.read_csv(\"nato_phonetic_alphabet.csv\")\n",
    "\n",
    "print(df)"
   ]
  },
  {
   "cell_type": "code",
   "execution_count": 3,
   "id": "1846fd36",
   "metadata": {},
   "outputs": [
    {
     "name": "stdout",
     "output_type": "stream",
     "text": [
      "Diccionario fonético cargado correctamente:\n",
      "{'A': 'Alfa', 'B': 'Bravo', 'C': 'Charlie', 'D': 'Delta', 'E': 'Echo', 'F': 'Foxtrot', 'G': 'Golf', 'H': 'Hotel', 'I': 'India', 'J': 'Juliet', 'K': 'Kilo', 'L': 'Lima', 'M': 'Mike', 'N': 'November', 'O': 'Oscar', 'P': 'Papa', 'Q': 'Quebec', 'R': 'Romeo', 'S': 'Sierra', 'T': 'Tango', 'U': 'Uniform', 'V': 'Victor', 'W': 'Whiskey', 'X': 'X-ray', 'Y': 'Yankee', 'Z': 'Zulu'}\n"
     ]
    }
   ],
   "source": [
    "# Crear el diccionario con comprensión de diccionario (dictionary comprehension)\n",
    "phonetic_dict = {row.letter: row.code for (index, row) in df.iterrows()}  # Uso de iterrows() para iterar sobre las filas del DataFrame\n",
    "\n",
    "# Mostrar el diccionario\n",
    "print(\"Diccionario fonético cargado correctamente:\")\n",
    "print(phonetic_dict)"
   ]
  },
  {
   "cell_type": "markdown",
   "id": "d734bf45",
   "metadata": {},
   "source": [
    "#### Paso 2: Solicitar una palabra y convertirla usando el alfabeto fonético\n",
    "\n",
    "- Se solicita al usuario que escriba una palabra.  \n",
    "- Luego se convierte cada letra a su correspondiente código fonético usando comprensión de listas.  \n",
    "- La entrada se convierte a mayúsculas para que coincida con las claves del diccionario."
   ]
  },
  {
   "cell_type": "code",
   "execution_count": 4,
   "id": "e5f9d06a",
   "metadata": {},
   "outputs": [
    {
     "name": "stdout",
     "output_type": "stream",
     "text": [
      "['Delta', 'Echo', 'Romeo', 'Romeo', 'India', 'Charlie', 'Kilo']\n"
     ]
    }
   ],
   "source": [
    "# Solicitar al usuario una palabra\n",
    "palabra = input(\"Escribe una palabra: \").upper()\n",
    "\n",
    "# Generar la lista fonética usando comprensión de listas\n",
    "output_list = [phonetic_dict[letra] for letra in palabra]\n",
    "print(output_list)"
   ]
  },
  {
   "cell_type": "markdown",
   "id": "cd314d98",
   "metadata": {},
   "source": [
    "#### Paso 3: Validación de entrada y manejo de errores (Try / Except)\n",
    "\n",
    "- Para asegurar una mejor experiencia de usuario, se valida que solo se ingresen letras.  \n",
    "- Si se detecta un carácter inválido, se notifica y se vuelve a solicitar la entrada."
   ]
  },
  {
   "cell_type": "code",
   "execution_count": 5,
   "id": "33bf7afb",
   "metadata": {},
   "outputs": [
    {
     "name": "stdout",
     "output_type": "stream",
     "text": [
      "❌ Revisa la palabra 'D3RR1CK'. Solo se permiten letras del alfabeto. Intenta de nuevo.\n",
      "✅ DERRICK en alfabeto fonético NATO: 🔍\n",
      "['Delta', 'Echo', 'Romeo', 'Romeo', 'India', 'Charlie', 'Kilo']\n"
     ]
    }
   ],
   "source": [
    "# Función que encapsula todo el flujo con manejo de errores\n",
    "def generar_fonetico():\n",
    "    while True:\n",
    "        palabra = input(\"Escribe una palabra: \").upper()\n",
    "        try:\n",
    "            output_list = [phonetic_dict[letra] for letra in palabra]\n",
    "        except KeyError:\n",
    "            print(f\"❌ Revisa la palabra '{palabra}'. Solo se permiten letras del alfabeto. Intenta de nuevo.\")\n",
    "        else:\n",
    "            print(f\"✅ {palabra} en alfabeto fonético NATO: 🔍\")\n",
    "            print(output_list)\n",
    "            break\n",
    "\n",
    "# Ejecutar\n",
    "generar_fonetico()\n"
   ]
  },
  {
   "cell_type": "markdown",
   "id": "e76a1ac2",
   "metadata": {},
   "source": [
    "#### 🧠 Conclusión\n",
    "\n",
    "En este proyecto hemos reforzado los siguientes conceptos clave de Python:\n",
    "\n",
    "- 📥 Lectura de archivos `.csv` con `pandas`\n",
    "- 🧱 Creación de diccionarios usando comprensión de diccionarios (`{new_key: new_value for (key, value) in dictionary}`)\n",
    "- 🔁 Iteración con `iterrows()` sobre `DataFrame`\n",
    "- 🧠 Comprensión de listas para construir la conversión\n",
    "- ❗ Manejo de errores con `try` / `except` para validar la entrada del usuario\n",
    "\n",
    "Este pequeño programa interactivo demuestra cómo unir varias herramientas de Python para crear un flujo claro, robusto y útil.\n"
   ]
  }
 ],
 "metadata": {
  "kernelspec": {
   "display_name": "Python 3",
   "language": "python",
   "name": "python3"
  },
  "language_info": {
   "codemirror_mode": {
    "name": "ipython",
    "version": 3
   },
   "file_extension": ".py",
   "mimetype": "text/x-python",
   "name": "python",
   "nbconvert_exporter": "python",
   "pygments_lexer": "ipython3",
   "version": "3.9.6"
  }
 },
 "nbformat": 4,
 "nbformat_minor": 5
}
