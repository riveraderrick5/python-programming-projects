{
 "cells": [
  {
   "cell_type": "markdown",
   "metadata": {},
   "source": [
    "## Day 37 Proyect: Habit Tracker"
   ]
  },
  {
   "cell_type": "markdown",
   "metadata": {},
   "source": [
    "### Habit Tracker – Proyecto del Día 37 📈🚴\n",
    "\n",
    "Este proyecto utiliza la API de **Pixela** para crear un graficador de hábitos diario.  \n",
    "Puedes registrar datos como kilómetros recorridos, páginas leídas o minutos de meditación, y visualizarlos en una gráfica.\n",
    "\n",
    "🔧 Tecnologías aplicadas:\n",
    "- `requests` para hacer llamadas HTTP (`POST`, `PUT`, `DELETE`)\n",
    "- Autenticación por headers\n",
    "- Formato de fechas con `datetime`\n",
    "- Automatización del registro de hábitos\n"
   ]
  },
  {
   "cell_type": "markdown",
   "metadata": {},
   "source": [
    "#### Paso 1: Crear usuario en Pixela\n",
    "\n",
    "Se realiza una solicitud `POST` con los datos del usuario y token de autenticación.\n"
   ]
  },
  {
   "cell_type": "code",
   "execution_count": 8,
   "metadata": {},
   "outputs": [],
   "source": [
    "# Importar librerías necesarias\n",
    "import requests                     # La librería para realizar peticiones HTTP\n",
    "from datetime import datetime       # La librería para trabajar con fechas y horas"
   ]
  },
  {
   "cell_type": "code",
   "execution_count": null,
   "metadata": {},
   "outputs": [],
   "source": [
    "# Definir las credenciales iniciales\n",
    "USERNAME = USERNAME\n",
    "TOKEN = \"miToken123456\"\n",
    "GRAPH_ID = \"ciclismo1\""
   ]
  },
  {
   "cell_type": "code",
   "execution_count": null,
   "metadata": {},
   "outputs": [
    {
     "name": "stdout",
     "output_type": "stream",
     "text": [
      "{\"message\":\"Success. Let's visit https://pixe.la/@riveraderrick5 , it is your profile page!\",\"isSuccess\":true}\n"
     ]
    }
   ],
   "source": [
    "# URL del endpoint de Pixela para crear un nuevo usuario\n",
    "pixela_endpoint = \"https://pixe.la/v1/users\"\n",
    "\n",
    "# Parámetros del nuevo usuario a crear\n",
    "user_params = {\n",
    "    \"token\": TOKEN,\n",
    "    \"username\": USERNAME,\n",
    "    \"agreeTermsOfService\": \"yes\",\n",
    "    \"notMinor\": \"yes\"\n",
    "}\n",
    "\n",
    "# Realizar una petición POST al endpoint de Pixela para crear un nuevo usuario\n",
    "response = requests.post(url=pixela_endpoint\n",
    "                        ,json=user_params)\n",
    "\n",
    "# Imprimir el código de estado de la respuesta\n",
    "print(response.text)\n"
   ]
  },
  {
   "cell_type": "markdown",
   "metadata": {},
   "source": [
    "#### Paso 2: Crear un gráfico en tu cuenta Pixela\n",
    "\n",
    "Cada gráfico se identifica con un `graph_id` único. Se define nombre, unidad, tipo y color.\n"
   ]
  },
  {
   "cell_type": "code",
   "execution_count": 5,
   "metadata": {},
   "outputs": [],
   "source": [
    "# Headers para una petición autenticada\n",
    "headers = {\n",
    "    \"X-USER-TOKEN\": TOKEN\n",
    "}"
   ]
  },
  {
   "cell_type": "code",
   "execution_count": null,
   "metadata": {},
   "outputs": [
    {
     "name": "stdout",
     "output_type": "stream",
     "text": [
      "{\"message\":\"Success.\",\"isSuccess\":true}\n"
     ]
    }
   ],
   "source": [
    "# URL del endpoint para crear un nuevo gráfico\n",
    "graph_endpoint = f\"{pixela_endpoint}/{USERNAME}/graphs\"\n",
    "\n",
    "# Parámetros del nuevo gráfico a crear\n",
    "graph_config = {\n",
    "    \"id\": GRAPH_ID,\n",
    "    \"name\": \"Ciclismo Diario\",\n",
    "    \"unit\": \"km\",\n",
    "    \"type\": \"float\",\n",
    "    \"color\": \"sora\"  # Otros: shibafu, momiji, sora, ichou, ajisai, kuro\n",
    "}\n",
    "\n",
    "# Realizar una petición POST al endpoint de Pixela para crear un nuevo gráfico\n",
    "response = requests.post(url=graph_endpoint\n",
    "                        ,json=graph_config\n",
    "                        ,headers=headers)\n",
    "\n",
    "# Imprimir el código de estado de la respuesta\n",
    "print(response.text)\n"
   ]
  },
  {
   "cell_type": "markdown",
   "metadata": {},
   "source": [
    "#### Paso 3: Agregar un nuevo registro diario (pixel)\n",
    "\n",
    "Cada pixel representa un día. El formato de fecha debe ser `yyyymmdd`.\n"
   ]
  },
  {
   "cell_type": "code",
   "execution_count": null,
   "metadata": {},
   "outputs": [
    {
     "name": "stdout",
     "output_type": "stream",
     "text": [
      "{\"message\":\"Success.\",\"isSuccess\":true}\n"
     ]
    }
   ],
   "source": [
    "# URL del endpoint para crear un nuevo pixel (registro de datos)\n",
    "pixel_creation_endpoint = f\"{pixela_endpoint}/{USERNAME}/graphs/{GRAPH_ID}\"\n",
    "\n",
    "# Obtener la fecha actual en formato YYYYMMDD\n",
    "today = datetime.now().strftime(\"%Y%m%d\")           # Formato de fecha requerido por Pixela\n",
    "\n",
    "# Parámetros del nuevo pixel a crear\n",
    "pixel_data = {\n",
    "    \"date\": today,\n",
    "    \"quantity\": \"9.74\"  # Kilómetros recorridos hoy\n",
    "}\n",
    "\n",
    "# Realizar una petición POST al endpoint de Pixela para crear un nuevo pixel\n",
    "response = requests.post(url=pixel_creation_endpoint\n",
    "                        ,json=pixel_data\n",
    "                        ,headers=headers)\n",
    "\n",
    "# Imprimir el código de estado de la respuesta\n",
    "print(response.text)\n"
   ]
  },
  {
   "cell_type": "markdown",
   "metadata": {},
   "source": [
    "![Habit Tracker](./Habit_Tracker_Post.jpg)\n",
    "\n",
    "*Habit Tracker POST*"
   ]
  },
  {
   "cell_type": "markdown",
   "metadata": {},
   "source": [
    "#### Paso 4: Actualizar o eliminar un registro existente\n",
    "\n",
    "Se usan métodos `PUT` (actualizar) y `DELETE` (eliminar), especificando la fecha.\n"
   ]
  },
  {
   "cell_type": "code",
   "execution_count": 12,
   "metadata": {},
   "outputs": [
    {
     "data": {
      "text/plain": [
       "'{\"message\":\"Success.\",\"isSuccess\":true}'"
      ]
     },
     "execution_count": 12,
     "metadata": {},
     "output_type": "execute_result"
    }
   ],
   "source": [
    "# URL del endpoint para actualizar un pixel existente\n",
    "update_endpoint = f\"{pixel_creation_endpoint}/{today}\"\n",
    "\n",
    "# Parámetros del nuevo pixel a actualizar\n",
    "new_pixel_data = {\n",
    "    \"quantity\": \"7.2\"  # Nuevo valor\n",
    "}\n",
    "\n",
    "# Realizar una petición PUT al endpoint de Pixela para actualizar el pixel\n",
    "response = requests.put(url=update_endpoint\n",
    "                        ,json=new_pixel_data\n",
    "                        ,headers=headers)\n",
    "\n",
    "# Imprimir el código de estado de la respuesta\n",
    "(response.text)\n",
    "\n",
    "# ❌ Eliminar un registro\n",
    "# response = requests.delete(url=update_endpoint, headers=headers)\n",
    "# print(response.text)"
   ]
  },
  {
   "cell_type": "markdown",
   "metadata": {},
   "source": [
    "![Habit Tracker](./Habit_Tracker_Put.jpg)\n",
    "\n",
    "*Habit Tracker PUT*"
   ]
  },
  {
   "cell_type": "markdown",
   "metadata": {},
   "source": [
    "#### 🧠 Conclusión\n",
    "\n",
    "Este proyecto fue una excelente práctica para:\n",
    "\n",
    "- Realizar múltiples tipos de solicitudes HTTP (`GET`, `POST`, `PUT`, `DELETE`)\n",
    "- Implementar autenticación por token mediante headers\n",
    "- Integrar APIs externas (Pixela)\n",
    "- Automatizar hábitos saludables de forma visual y motivadora\n",
    "- Formatear fechas correctamente con `datetime.strftime()`"
   ]
  }
 ],
 "metadata": {
  "kernelspec": {
   "display_name": "base",
   "language": "python",
   "name": "python3"
  },
  "language_info": {
   "codemirror_mode": {
    "name": "ipython",
    "version": 3
   },
   "file_extension": ".py",
   "mimetype": "text/x-python",
   "name": "python",
   "nbconvert_exporter": "python",
   "pygments_lexer": "ipython3",
   "version": "3.11.7"
  }
 },
 "nbformat": 4,
 "nbformat_minor": 2
}
