{
 "cells": [
  {
   "cell_type": "markdown",
   "id": "748d612b",
   "metadata": {},
   "source": [
    "## Day 44 Proyect: Motivational Poster Website"
   ]
  },
  {
   "cell_type": "markdown",
   "id": "79837cff",
   "metadata": {},
   "source": [
    "### Proyecto Día 44 – Poster Motivacional 🖼️💪\n",
    "\n",
    "Este proyecto consiste en diseñar una página tipo “motivational meme” al estilo de los posters noventeros.  \n",
    "El objetivo es aplicar lo aprendido sobre diseño visual en CSS:\n",
    "\n",
    "🎯 Requisitos mínimos:\n",
    "- Imagen con borde blanco de 5px\n",
    "- Fondo negro con texto blanco\n",
    "- Tipografía personalizada desde Google Fonts\n",
    "- Título principal en mayúsculas (usando `text-transform`)\n",
    "- Contenido centrado en la pantalla (usando `width` + `margin`)\n"
   ]
  },
  {
   "cell_type": "markdown",
   "id": "46ad7c54",
   "metadata": {},
   "source": [
    "#### 🧱 Estructura HTML\n",
    "\n",
    "Todo el contenido está contenido dentro de un `div` con clase `.poster`, lo cual facilita el centrado de la imagen, el título y el texto.\n"
   ]
  },
  {
   "cell_type": "code",
   "execution_count": 1,
   "id": "3880e56c",
   "metadata": {},
   "outputs": [],
   "source": [
    "from IPython.display import display, HTML      # Libreria para mostrar HTML"
   ]
  },
  {
   "cell_type": "code",
   "execution_count": 2,
   "id": "28c117fc",
   "metadata": {},
   "outputs": [
    {
     "data": {
      "text/html": [
       "\n",
       "<!DOCTYPE html>\n",
       "<html lang=\"es\">\n",
       "  <head>\n",
       "    <meta charset=\"UTF-8\">\n",
       "    <title>Motivación</title>\n",
       "    <link rel=\"stylesheet\" href=\"style.css\">\n",
       "    <link rel=\"preconnect\" href=\"https://fonts.googleapis.com\">\n",
       "    <link rel=\"preconnect\" href=\"https://fonts.gstatic.com\" crossorigin>\n",
       "    <link href=\"https://fonts.googleapis.com/css2?family=Libre+Baskerville&display=swap\" rel=\"stylesheet\">\n",
       "  </head>\n",
       "  <body>\n",
       "    <div class=\"poster\">\n",
       "      <img src=\"assets/images/daenerys.jpeg\" alt=\"Game of Thrones\">\n",
       "      <h1>ESE INCREÍBLE MOMENTO</h1>\n",
       "      <p>Cuando encuentras el aguacate perfecto en el súper.</p>\n",
       "    </div>\n",
       "  </body>\n",
       "</html>\n",
       "\n"
      ],
      "text/plain": [
       "<IPython.core.display.HTML object>"
      ]
     },
     "metadata": {},
     "output_type": "display_data"
    }
   ],
   "source": [
    "html_content = \"\"\"\n",
    "<!DOCTYPE html>\n",
    "<html lang=\"es\">\n",
    "  <head>\n",
    "    <meta charset=\"UTF-8\">\n",
    "    <title>Motivación</title>\n",
    "    <link rel=\"stylesheet\" href=\"style.css\">\n",
    "    <link rel=\"preconnect\" href=\"https://fonts.googleapis.com\">\n",
    "    <link rel=\"preconnect\" href=\"https://fonts.gstatic.com\" crossorigin>\n",
    "    <link href=\"https://fonts.googleapis.com/css2?family=Libre+Baskerville&display=swap\" rel=\"stylesheet\">\n",
    "  </head>\n",
    "  <body>\n",
    "    <div class=\"poster\">\n",
    "      <img src=\"assets/images/daenerys.jpeg\" alt=\"Game of Thrones\">\n",
    "      <h1>ESE INCREÍBLE MOMENTO</h1>\n",
    "      <p>Cuando encuentras el aguacate perfecto en el súper.</p>\n",
    "    </div>\n",
    "  </body>\n",
    "</html>\n",
    "\n",
    "\"\"\"\n",
    "\n",
    "display(HTML(html_content))"
   ]
  },
  {
   "cell_type": "markdown",
   "id": "893ed810",
   "metadata": {},
   "source": [
    "#### 🧠 Conclusión\n",
    "\n",
    "En este proyecto final de la sección HTML + CSS aplicamos:\n",
    "\n",
    "- 🖼️ Contenedor `.poster` para centrar visualmente\n",
    "- 🟦 Bordes y márgenes para estructura\n",
    "- 🎨 Personalización visual con Google Fonts\n",
    "- 🔠 Transformación de texto con `text-transform`\n",
    "- 📐 Ajuste del layout mediante `%` y `px`\n",
    "\n",
    "Este mini sitio puede extenderse con nuevos memes o servir de plantilla para galerías visuales.\n"
   ]
  }
 ],
 "metadata": {
  "kernelspec": {
   "display_name": "base",
   "language": "python",
   "name": "python3"
  },
  "language_info": {
   "codemirror_mode": {
    "name": "ipython",
    "version": 3
   },
   "file_extension": ".py",
   "mimetype": "text/x-python",
   "name": "python",
   "nbconvert_exporter": "python",
   "pygments_lexer": "ipython3",
   "version": "3.11.7"
  }
 },
 "nbformat": 4,
 "nbformat_minor": 5
}
