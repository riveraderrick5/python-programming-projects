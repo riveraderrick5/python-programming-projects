{
 "cells": [
  {
   "cell_type": "markdown",
   "metadata": {},
   "source": [
    "## Day 20 Proyect: Snake Game - Part 1"
   ]
  },
  {
   "cell_type": "markdown",
   "metadata": {},
   "source": [
    "### Snake Game – Proyecto del Día 20 🐍\n",
    "\n",
    "En este proyecto creamos un juego clásico de la serpiente (Snake Game) utilizando el módulo **turtle** de Python.  \n",
    "El juego consiste en una serpiente compuesta por múltiples segmentos que se mueve de forma continua por la pantalla.  \n",
    "El usuario puede controlar la dirección de la serpiente mediante las teclas de flecha (Arriba, Abajo, Izquierda, Derecha).  \n",
    "  \n",
    "**Características principales:**\n",
    "- **Definición de la Clase Snake:** Se modela la serpiente como una clase que maneja la creación de segmentos, el movimiento y el cambio de dirección.\n",
    "- **Movimiento Continuo:** La serpiente se mueve de forma continua en el bucle principal, actualizando la pantalla con cada paso.\n",
    "- **Control del Usuario:** Se configuran keybindings para cambiar la dirección de la serpiente, evitando movimientos opuestos que puedan hacer que se \"muerda\" a sí misma.\n",
    "  \n",
    "Este proyecto refuerza conceptos fundamentales de Python como la programación orientada a objetos, el uso de bucles y la interacción con el usuario mediante gráficos.\n"
   ]
  },
  {
   "cell_type": "markdown",
   "metadata": {},
   "source": [
    "![Snake Game](./proyecto_Dia_20_image.jpg)\n",
    "\n",
    "*Snake Game*"
   ]
  },
  {
   "cell_type": "markdown",
   "metadata": {},
   "source": [
    "#### Paso 1: Configuración de la Clase Snake\n",
    "\n",
    "Aquí se define la clase `Snake`, que modela el comportamiento de la serpiente. La clase incluye:\n",
    "- La creación de la serpiente (inicialmente 3 segmentos).\n",
    "- Un método `move()` que actualiza la posición de cada segmento.\n",
    "- Métodos para cambiar la dirección (`up()`, `down()`, `left()`, `right()`), con validaciones para evitar que la serpiente se mueva en dirección opuesta a la actual.\n"
   ]
  },
  {
   "cell_type": "code",
   "execution_count": 1,
   "metadata": {},
   "outputs": [],
   "source": [
    "from turtle import Turtle                           # Importación local para encapsular la funcionalidad\n",
    "starting_positions = [(0, 0), (-20, 0), (-40, 0)]   # Posiciones iniciales de los segmentos de la serpiente\n",
    "move_distance = 20                                  # Constante para la distancia de movimiento\n",
    "UP = 90                                             # Dirección hacia arriba\n",
    "DOWN = 270                                          # Dirección hacia abajo\n",
    "LEFT = 180                                          # Dirección hacia la izquierda\n",
    "RIGHT = 0                                           # Dirección hacia la derecha\n",
    "\n",
    "\n",
    "class Snake:\n",
    "    \"\"\"Clase que modela la serpiente del juego.\"\"\"\n",
    "\n",
    "    def __init__(self):\n",
    "        \"\"\"Inicializa la serpiente con 3 segmentos en posiciones predeterminadas.\"\"\"\n",
    "        self.segments = []\n",
    "        self.create_snake()\n",
    "        self.head = self.segments[0]            # La cabeza es el primer segmento\n",
    "\n",
    "    def create_snake(self):\n",
    "        \"\"\"Crea la serpiente con 3 segmentos en posiciones iniciales.\"\"\"\n",
    "        for position in starting_positions:\n",
    "            segment = Turtle(\"square\")          # Crea un nuevo segmento de la serpiente\n",
    "            segment.color(\"white\")              # Color del segmento\n",
    "            segment.penup()                     # Evita que el segmento deje un rastro al moverse\n",
    "            segment.goto(position)              # Coloca el segmento en la posición inicial\n",
    "            self.segments.append(segment)       # Añade el segmento a la lista de segmentos\n",
    "\n",
    "    def move(self):\n",
    "        \"\"\"Mueve la serpiente: cada segmento sigue al anterior y la cabeza avanza.\"\"\"\n",
    "        # Mueve cada segmento al lugar del segmento anterior\n",
    "        for seg_num in range(len(self.segments) - 1, 0, -1):    # Itera desde el último segmento hasta el segundo\n",
    "            new_x = self.segments[seg_num - 1].xcor()           # Obtiene la posición x del segmento anterior\n",
    "            new_y = self.segments[seg_num - 1].ycor()           # Obtiene la posición y del segmento anterior\n",
    "            self.segments[seg_num].goto(new_x, new_y)           # Mueve el segmento actual a la nueva posición\n",
    "        \n",
    "        self.head.forward(move_distance)                   # Mueve la cabeza hacia adelante en la dirección actual\n",
    "\n",
    "    def up(self):\n",
    "        \"\"\"Cambia la dirección de la serpiente a arriba (90°) si no se mueve hacia abajo.\"\"\"\n",
    "        if self.head.heading() != DOWN:\n",
    "            self.head.setheading(UP)\n",
    "\n",
    "    def down(self):\n",
    "        \"\"\"Cambia la dirección de la serpiente a abajo (270°) si no se mueve hacia arriba.\"\"\"\n",
    "        if self.head.heading() != UP:\n",
    "            self.head.setheading(DOWN)\n",
    "\n",
    "    def left(self):\n",
    "        \"\"\"Cambia la dirección de la serpiente a la izquierda (180°) si no se mueve hacia la derecha.\"\"\"\n",
    "        if self.head.heading() != RIGHT:\n",
    "            self.head.setheading(LEFT)      \n",
    "\n",
    "    def right(self):\n",
    "        \"\"\"Cambia la dirección de la serpiente a la derecha (0°) si no se mueve hacia la izquierda.\"\"\"\n",
    "        if self.head.heading() != LEFT:\n",
    "            self.head.setheading(RIGHT)\n"
   ]
  },
  {
   "cell_type": "markdown",
   "metadata": {},
   "source": [
    "#### Paso 2: Ejecución del Proyecto\n",
    "\n",
    "En esta sección se configura la pantalla, se crea una instancia de la clase `Snake` y se configura la escucha de teclas para controlar la dirección. Luego, se ejecuta el bucle principal del juego en el que la serpiente se mueve continuamente.\n"
   ]
  },
  {
   "cell_type": "code",
   "execution_count": 2,
   "metadata": {},
   "outputs": [],
   "source": [
    "from turtle import Screen              # Importación de la clase Screen para crear la ventana del juego\n",
    "import time                            # Importación de la librería time para controlar el tiempo entre movimientos\n",
    "\n",
    "# Configuración de la pantalla\n",
    "screen = Screen()                                   # Crear una instancia de la pantalla\n",
    "screen.setup(width=600, height=600)                 # Tamaño de la pantalla\n",
    "screen.bgcolor(\"black\")                             # Color negro de fondo de la pantalla\n",
    "screen.title(\"My Snake Game\")                       # Agregar título en la animación\n",
    "screen.tracer(0)                                    # Desactivar la animación automática para mayor control\n",
    "\n",
    "# Crear la serpiente (instanciar la clase Snake)\n",
    "snake = Snake()                 \n",
    "\n",
    "# Configurar controles del teclado\n",
    "screen.listen()         \n",
    "screen.onkey(snake.up, \"Up\")        \n",
    "screen.onkey(snake.down, \"Down\")\n",
    "screen.onkey(snake.left, \"Left\")\n",
    "screen.onkey(snake.right, \"Right\")\n",
    "\n",
    "# Bucle principal del juego: la serpiente se mueve continuamente\n",
    "game_is_on = True\n",
    "while game_is_on:\n",
    "    screen.update()\n",
    "    time.sleep(0.1)  # Controla la velocidad del movimiento\n",
    "    snake.move()\n",
    "    # Condiciones de finalización: colisión con la pared\n",
    "    if snake.head.xcor() > 290 or snake.head.xcor() < -290 or snake.head.ycor() > 290 or snake.head.ycor() < -290:\n",
    "        game_is_on = False     \n",
    "\n",
    "screen.exitonclick()\n"
   ]
  }
 ],
 "metadata": {
  "kernelspec": {
   "display_name": "base",
   "language": "python",
   "name": "python3"
  },
  "language_info": {
   "codemirror_mode": {
    "name": "ipython",
    "version": 3
   },
   "file_extension": ".py",
   "mimetype": "text/x-python",
   "name": "python",
   "nbconvert_exporter": "python",
   "pygments_lexer": "ipython3",
   "version": "3.11.7"
  }
 },
 "nbformat": 4,
 "nbformat_minor": 2
}
