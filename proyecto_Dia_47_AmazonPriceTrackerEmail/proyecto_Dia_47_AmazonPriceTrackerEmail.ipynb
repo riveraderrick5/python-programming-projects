{
 "cells": [
  {
   "cell_type": "markdown",
   "id": "296073e2",
   "metadata": {},
   "source": [
    "## Day 47 Proyect: Amazon Price Tracker Email"
   ]
  },
  {
   "cell_type": "markdown",
   "id": "43bcb4cb",
   "metadata": {},
   "source": [
    "### Proyecto Día 47 – Alerta de Precio desde Amazon con Email 📉📬\n",
    "\n",
    "Este proyecto automatiza la monitorización del precio de un producto en Amazon.  \n",
    "Si el precio baja por debajo de un umbral predefinido, se envía una alerta por correo electrónico al usuario.\n",
    "\n",
    "🔧 Herramientas aplicadas:\n",
    "- Web scraping con `requests` y `BeautifulSoup`\n",
    "- Headers personalizados para evitar bloqueo por bots\n",
    "- Envío de correos con `smtplib` usando contraseña de aplicación\n"
   ]
  },
  {
   "cell_type": "markdown",
   "id": "735a0397",
   "metadata": {},
   "source": [
    "## Paso 1 – Scraping del precio y nombre del producto\n",
    "\n",
    "Obtenemos el HTML del producto en Amazon, localizamos el título y el precio.\n"
   ]
  },
  {
   "cell_type": "code",
   "execution_count": 1,
   "id": "cd4dcbab",
   "metadata": {},
   "outputs": [],
   "source": [
    "import requests                             # Libreria para hacer peticiones HTTP\n",
    "from bs4 import BeautifulSoup               # Libreria para parsear/extraer datos de HTML\n",
    "import smtplib                              # Libreria para enviar correos\n",
    "import os                                   # Libreria para interactuar con el sistema operativo\n",
    "from dotenv import load_dotenv              # Libreria para cargar variables de entorno desde un archivo .env\n",
    "from email.mime.text import MIMEText        # Libreria para cuerpos de correos en texto plano\n",
    "from email.header import Header             # Libreria para codificar encabezados de correos"
   ]
  },
  {
   "cell_type": "code",
   "execution_count": 2,
   "id": "cadbb97d",
   "metadata": {},
   "outputs": [
    {
     "data": {
      "text/plain": [
       "True"
      ]
     },
     "execution_count": 2,
     "metadata": {},
     "output_type": "execute_result"
    }
   ],
   "source": [
    "# Carga las variables del archivo .env\n",
    "load_dotenv()  "
   ]
  },
  {
   "cell_type": "code",
   "execution_count": 3,
   "id": "6ed28f50",
   "metadata": {},
   "outputs": [],
   "source": [
    "# URL del producto a monitorear\n",
    "URL = \"https://www.amazon.com.mx/dp/B085WBNFTP/\"\n",
    "\n",
    "# Headers para simular navegador  (esto es útil para evitar bloqueos por parte del servidor)\n",
    "headers = {\n",
    "    \"User-Agent\": \"Mozilla/5.0 (Windows NT 10.0; Win64; x64)\",\n",
    "    \"Accept-Language\": \"es-ES,es;q=0.9,en;q=0.8\"\n",
    "}\n",
    "\n",
    "# Realiza la solicitud GET al endpoint de la página web\n",
    "response = requests.get(URL, headers=headers)\n",
    "\n",
    "# Crea un objeto BeautifulSoup para parsear el HTML\n",
    "soup = BeautifulSoup(response.text, \"html.parser\")\n",
    "\n",
    "#print(soup.prettify())  # Imprime el HTML formateado para ver la estructura\n"
   ]
  },
  {
   "cell_type": "code",
   "execution_count": 4,
   "id": "24d0ddb0",
   "metadata": {},
   "outputs": [
    {
     "name": "stdout",
     "output_type": "stream",
     "text": [
      "Título del producto: Birdman Falcon Performance Proteina Premium En Polvo, 30gr proteina, 3gr Creatina, 45 Porciones Sabor Golden Vanilla 1.9Kg\n",
      "Precio del producto: 1331\n"
     ]
    }
   ],
   "source": [
    "# Extraer el título usando el selector div \n",
    "title_element = soup.find('div', class_='_c3AtZ_title-component-overflow3_3SMef')  # Busca el elemento del título\n",
    "product_title = (title_element \n",
    "                .get_text()                                         # Extrae el texto\n",
    "                .split(\":\")[1]                                      # Divide el texto por \":\" y toma el segundo elemento\n",
    "                .strip()                                            # Elimina espacios en blanco al inicio y al final\n",
    "                ) if title_element else \"Título no encontrado\"      # Si no se encuentra, asigna un valor por defecto\n",
    "\n",
    "# Extraer el precio usando el selector span\n",
    "price_element = soup.find(\"span\", class_=\"a-price-whole\")       # Busca el elemento del precio\n",
    "product_price = (price_element\n",
    "                .get_text()                                     # Extrae el texto\n",
    "                .replace(\",\", \"\")                               # Reemplaza las comas por nada\n",
    "                .replace(\".\", \"\")                               # Reemplaza los puntos por nada\n",
    "                ) if price_element else \"Precio no encontrado\"  # Si no se encuentra, asigna un valor por defecto\n",
    "\n",
    "# Imprime el título y el precio del producto\n",
    "print(f\"Título del producto: {product_title}\")\n",
    "print(f\"Precio del producto: {product_price}\")\n"
   ]
  },
  {
   "cell_type": "markdown",
   "id": "7e726e2c",
   "metadata": {},
   "source": [
    "#### Paso 2 – Comparar precio con umbral y enviar email si es necesario\n",
    "\n",
    "Establecemos un precio objetivo y enviamos un correo si el precio actual está por debajo de ese umbral.\n"
   ]
  },
  {
   "cell_type": "code",
   "execution_count": 5,
   "id": "6589844c",
   "metadata": {},
   "outputs": [],
   "source": [
    "# Datos de autenticación \n",
    "EMAIL_SENDER_MAIL = os.environ[\"EMAIL_SENDER_MAIL\"]\n",
    "EMAIL_APP_PASS = os.environ[\"EMAIL_APP_PASS\"]\n",
    "EMAIL_RECEIVER_MAIL = os.environ[\"EMAIL_RECEIVER_MAIL\"]"
   ]
  },
  {
   "cell_type": "code",
   "execution_count": 6,
   "id": "d1054510",
   "metadata": {},
   "outputs": [],
   "source": [
    "# Umbral de alerta\n",
    "PRECIO_OBJETIVO = 1500"
   ]
  },
  {
   "cell_type": "code",
   "execution_count": 7,
   "id": "26728019",
   "metadata": {},
   "outputs": [],
   "source": [
    "# Crear el cuerpo del mensaje\n",
    "mail_body = f\"\"\"\n",
    "📦 Producto: {product_title}\n",
    "\n",
    "💰 Precio actual: ${product_price}\n",
    "\n",
    "🛒 Compra aquí: {URL}\n",
    "\"\"\""
   ]
  },
  {
   "cell_type": "code",
   "execution_count": 8,
   "id": "f4bee421",
   "metadata": {},
   "outputs": [
    {
     "name": "stdout",
     "output_type": "stream",
     "text": [
      "✅ Precio por debajo del objetivo. Se enviará correo.\n",
      "✅ Correo enviado a riveraderrick5@gmail.com\n"
     ]
    }
   ],
   "source": [
    "# Verificar si el precio es menor que el precio objetivo\n",
    "if int(product_price) < PRECIO_OBJETIVO:\n",
    "    # Si el precio es menor al objetivo, se envía un correo\n",
    "    \n",
    "    print(\"✅ Precio por debajo del objetivo. Se enviará correo.\")\n",
    "\n",
    "    # Crear el objeto MIMEText con charset utf-8\n",
    "    msg = MIMEText(mail_body, _subtype=\"plain\", _charset=\"utf-8\")\n",
    "\n",
    "    #  Asignar cabeceras \n",
    "    msg['From']    = EMAIL_SENDER_MAIL\n",
    "    msg['To']      = EMAIL_RECEIVER_MAIL\n",
    "    msg['Subject'] = f\"🔔 Alerta de precio: {product_title[:52]}...\"\n",
    "\n",
    "    # Enviar correo usando SMTPlib\n",
    "    with smtplib.SMTP(\"smtp.gmail.com\", port=587) as connection:\n",
    "        connection.starttls()                                               # Iniciar conexión segura\n",
    "        connection.login(user=EMAIL_SENDER_MAIL, password=EMAIL_APP_PASS)   # Iniciar sesión con tus credenciales\n",
    "        connection.send_message(msg)                                        # Enviar el mensaje\n",
    "        print(f\"✅ Correo enviado a {EMAIL_RECEIVER_MAIL}\")\n",
    "\n",
    "else:\n",
    "    # Si el precio no es menor al objetivo, no se envía correo\n",
    "    print(\"⏳ Aún no baja del precio deseado. No se envía notificación.\")"
   ]
  },
  {
   "cell_type": "markdown",
   "id": "ff215d21",
   "metadata": {},
   "source": [
    "#### 🧠 Conclusión\n",
    "\n",
    "Este proyecto pone en práctica habilidades valiosas:\n",
    "\n",
    "- 💡 Scraping en sitios reales con estructura dinámica\n",
    "- 💻 Simulación de navegación real mediante headers HTTP\n",
    "- 📧 Automatización de alertas vía email con `smtplib`\n",
    "- 🔐 Manejo seguro de credenciales con variables de entorno"
   ]
  }
 ],
 "metadata": {
  "kernelspec": {
   "display_name": "base",
   "language": "python",
   "name": "python3"
  },
  "language_info": {
   "codemirror_mode": {
    "name": "ipython",
    "version": 3
   },
   "file_extension": ".py",
   "mimetype": "text/x-python",
   "name": "python",
   "nbconvert_exporter": "python",
   "pygments_lexer": "ipython3",
   "version": "3.11.7"
  }
 },
 "nbformat": 4,
 "nbformat_minor": 5
}
