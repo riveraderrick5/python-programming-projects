{
 "cells": [
  {
   "cell_type": "markdown",
   "id": "ed6813f2",
   "metadata": {},
   "source": [
    "## Day 35 Proyect: Rain Alert"
   ]
  },
  {
   "cell_type": "markdown",
   "id": "34694491",
   "metadata": {},
   "source": [
    "### Proyecto Día 35 – Alerta de Lluvia ☔ \n",
    "\n",
    "Este proyecto consulta la API de OpenWeatherMap para predecir si lloverá en las próximas 12 horas.  \n",
    "Si se detecta lluvia, se envía un mensaje por **WhatsApp** usando la API de Twilio.\n",
    "\n",
    "🔧 Tecnologías utilizadas:\n",
    "- API: [OpenWeatherMap](https://openweathermap.org/api)\n",
    "- Comunicación: [Twilio WhatsApp Sandbox](https://console.twilio.com/us1/develop/sms/try-it-out/whatsapp-learn)\n",
    "- Python: `requests`, `os`, `twilio`"
   ]
  },
  {
   "cell_type": "markdown",
   "id": "c0319b97",
   "metadata": {},
   "source": [
    "#### Paso 1: Configurar APIs y parámetros de conexión\n",
    "Incluye el punto de conexión de OpenWeatherMap y parámetros como latitud, longitud, `cnt`, y tu `API_KEY`.\n"
   ]
  },
  {
   "cell_type": "code",
   "execution_count": 2,
   "id": "f516def3",
   "metadata": {},
   "outputs": [],
   "source": [
    "import requests\n",
    "from twilio.rest import Client"
   ]
  },
  {
   "cell_type": "code",
   "execution_count": null,
   "id": "0dad019f",
   "metadata": {},
   "outputs": [],
   "source": [
    "# 📍 Coordenadas personales\n",
    "LAT = 19.646700\n",
    "LON = -99.211708\n",
    "\n",
    "# API Key de OpenWeatherMap (se recomienda usar variables de entorno)\n",
    "OWM_API_KEY = \"OWM_API_KEY\"\n",
    "\n",
    "# Endpoint de OpenWeatherMap para previsión cada 3 horas\n",
    "OWM_ENDPOINT = \"https://api.openweathermap.org/data/2.5/forecast\"\n",
    "\n",
    "# Parámetros de la consulta (próximas 12 horas = 4 periodos)\n",
    "weather_params = {\n",
    "    \"lat\": LAT,\n",
    "    \"lon\": LON,\n",
    "    \"appid\": OWM_API_KEY,\n",
    "    \"cnt\": 4\n",
    "}"
   ]
  },
  {
   "cell_type": "markdown",
   "id": "9c3f9441",
   "metadata": {},
   "source": [
    "#### Paso 2: Consultar el clima y determinar si va a llover 🌧️\n",
    "\n",
    "Verificamos si algún `weather.id` en las próximas 12 horas indica precipitación (< 700).\n"
   ]
  },
  {
   "cell_type": "code",
   "execution_count": 4,
   "id": "c7142105",
   "metadata": {},
   "outputs": [
    {
     "name": "stdout",
     "output_type": "stream",
     "text": [
      "✅ Solicitud exitosa\n"
     ]
    }
   ],
   "source": [
    "# Crear la solicitud al API de OpenWeatherMap\n",
    "response = requests.get(url=OWM_ENDPOINT\n",
    "                        ,params=weather_params\n",
    "                        )\n",
    "\n",
    "# Validar la solicitud\n",
    "if response.status_code == 200:                         #Si es exitosa imprimimos el mensaje de éxito\n",
    "    print(\"✅ Solicitud exitosa\")\n",
    "else:\n",
    "    print(\"❌ Error:\", response.status_code)            # Si no es exitosa imprimimos el mensaje de error\n",
    "    print(\"Respuesta:\", response.json()[\"message\"]) "
   ]
  },
  {
   "cell_type": "code",
   "execution_count": null,
   "id": "70e1159f",
   "metadata": {},
   "outputs": [],
   "source": [
    "#Obtener los datos de la respuesta\n",
    "weather_data = response.json()\n",
    "\n",
    "# Inicializar bandera\n",
    "will_rain = False\n",
    "\n",
    "for hour_data in weather_data[\"list\"]:\n",
    "    condition_code = int(hour_data[\"weather\"][0][\"id\"])\n",
    "    if condition_code < 700:\n",
    "        will_rain = True\n",
    "        break"
   ]
  },
  {
   "cell_type": "code",
   "execution_count": 6,
   "id": "6ce8d34f",
   "metadata": {},
   "outputs": [
    {
     "name": "stdout",
     "output_type": "stream",
     "text": [
      "🌧️ Lluvia en las próximas 12 horas: True\n"
     ]
    }
   ],
   "source": [
    "print(\"🌧️ Lluvia en las próximas 12 horas:\", will_rain)"
   ]
  },
  {
   "cell_type": "markdown",
   "id": "5e58b9e2",
   "metadata": {},
   "source": [
    "#### Paso 3: Enviar alerta vía WhatsApp si lloverá ☎️\n",
    "\n",
    "Se usa el **Twilio Sandbox para WhatsApp**.\n"
   ]
  },
  {
   "cell_type": "code",
   "execution_count": null,
   "id": "ee9cdb07",
   "metadata": {},
   "outputs": [],
   "source": [
    "# Twilio credentials \n",
    "TWILIO_SID = \"TWILIO_SID\"\n",
    "TWILIO_AUTH_TOKEN = \"TWILIO_AUTH_TOKEN\"\n",
    "\n",
    "# Sandbox de WhatsApp\n",
    "WHATSAPP_FROM = \"whatsapp:+1415523xxxx\"  # Número de Twilio Sandbox\n",
    "WHATSAPP_TO = \"whatsapp:+521556696xxxx\"   # Tu número verificado con prefijo"
   ]
  },
  {
   "cell_type": "code",
   "execution_count": 8,
   "id": "4cf494bf",
   "metadata": {},
   "outputs": [
    {
     "name": "stdout",
     "output_type": "stream",
     "text": [
      "✅ Mensaje enviado: ☔ ¡Alerta de lluvia! Recuerda llevar un paraguas hoy.\n"
     ]
    }
   ],
   "source": [
    "if will_rain:\n",
    "    client = Client(TWILIO_SID, TWILIO_AUTH_TOKEN)\n",
    "    message = client.messages.create(\n",
    "        from_=WHATSAPP_FROM,\n",
    "        to=WHATSAPP_TO,\n",
    "        body=\"☔ ¡Alerta de lluvia! Recuerda llevar un paraguas hoy.\"\n",
    "    )\n",
    "    print(f\"✅ Mensaje enviado: {message.body}\")\n"
   ]
  },
  {
   "cell_type": "markdown",
   "id": "e891d8c8",
   "metadata": {},
   "source": [
    "#### 🧠 Conclusión\n",
    "\n",
    "Este proyecto consolidó múltiples habilidades clave en Python:\n",
    "\n",
    "- Uso de APIs externas (OpenWeatherMap, Twilio)\n",
    "- Manejo de JSON anidados\n",
    "- Lógica condicional aplicada a predicciones meteorológicas\n",
    "- Automatización de alertas vía mensajería (WhatsApp)\n",
    "\n",
    "Este patrón puede adaptarse para muchas otras alertas basadas en clima, tráfico, finanzas, etc.\n"
   ]
  }
 ],
 "metadata": {
  "kernelspec": {
   "display_name": "Python 3",
   "language": "python",
   "name": "python3"
  },
  "language_info": {
   "codemirror_mode": {
    "name": "ipython",
    "version": 3
   },
   "file_extension": ".py",
   "mimetype": "text/x-python",
   "name": "python",
   "nbconvert_exporter": "python",
   "pygments_lexer": "ipython3",
   "version": "3.9.6"
  }
 },
 "nbformat": 4,
 "nbformat_minor": 5
}
