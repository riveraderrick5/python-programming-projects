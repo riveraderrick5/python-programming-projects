{
 "cells": [
  {
   "cell_type": "markdown",
   "id": "8ccc4aaa",
   "metadata": {},
   "source": [
    "## Day 56 Proyect: Name Card Website Template"
   ]
  },
  {
   "cell_type": "markdown",
   "id": "be934781",
   "metadata": {},
   "source": [
    "### Proyecto Día 56 – Tarjeta de Presentación Web con Flask y HTML5 UP 💼🌐\n",
    "\n",
    "En este proyecto desarrollamos una tarjeta de presentación web moderna usando **Flask** y una plantilla de [HTML5 UP](https://html5up.net/), replicando la estética de las clásicas business cards, pero con diseño responsivo y actual.\n",
    "\n",
    "🔧 Tecnologías utilizadas:\n",
    "- Python + Flask para levantar un servidor web\n",
    "- HTML + CSS desde una plantilla profesional\n",
    "- Rutas, organización de carpetas y personalización visual\n",
    "\n",
    "🎯 Objetivo: desplegar un sitio personal editable con nombre, imagen, redes sociales y fondo personalizado.\n"
   ]
  },
  {
   "cell_type": "markdown",
   "id": "1db76627",
   "metadata": {},
   "source": [
    "![Website](./nameCardWebsiteTemplate.png)\n",
    "\n",
    "*Website*"
   ]
  },
  {
   "cell_type": "markdown",
   "id": "1e2268ce",
   "metadata": {},
   "source": [
    "#### 🟨 Paso 1 – Preparar estructura del proyecto Flask\n",
    "\n",
    "1. Crear proyecto en VS Code con estructura básica:"
   ]
  },
  {
   "cell_type": "code",
   "execution_count": null,
   "id": "ba43e6a6",
   "metadata": {},
   "outputs": [],
   "source": [
    "proyecto_Dia_56_NameCardWebsiteTemplate/\n",
    "│\n",
    "├── static/\n",
    "│   ├── assets/\n",
    "│   └── images/\n",
    "├── templates/\n",
    "│   └── index.html"
   ]
  },
  {
   "cell_type": "markdown",
   "id": "77acde92",
   "metadata": {},
   "source": [
    "#### \n",
    "2. Descargar la plantilla \"Identity\" desde HTML5 UP y mover:\n",
    "   - El archivo `index.html` a la carpeta `/templates`\n",
    "   - Las carpetas `assets` e `images` a `/static`\n",
    "\n",
    "📁 Es importante mantener esta estructura para que Flask pueda servir correctamente los archivos.\n"
   ]
  },
  {
   "cell_type": "code",
   "execution_count": null,
   "id": "35d688ed",
   "metadata": {},
   "outputs": [],
   "source": [
    "from flask import Flask, render_template                # Librería Flask para crear la app"
   ]
  },
  {
   "cell_type": "markdown",
   "id": "82b60177",
   "metadata": {},
   "source": [
    "#### 🟩 Paso 2 – Configurar servidor Flask\n",
    "\n",
    "Creamos un archivo `app.py` con la ruta `/` para renderizar `index.html`.\n"
   ]
  },
  {
   "cell_type": "code",
   "execution_count": null,
   "id": "91598d93",
   "metadata": {},
   "outputs": [],
   "source": [
    "# Inicializar la aplicación Flask\n",
    "app = Flask(__name__)\n",
    "\n",
    "# Usar un decorador para definir la ruta de la página principal\n",
    "@app.route(\"/\")\n",
    "def home():\n",
    "    return render_template(\"index.html\")\n",
    "\n",
    "# Ejecutar la aplicación si este archivo es el principal\n",
    "if __name__ == \"__main__\":\n",
    "    app.run(debug=True          # Para realizar cambios automáticamente\n",
    "        ,use_reloader=False     # Para evitar que se ejecute dos veces\n",
    "        ,threaded=True          # Para permitir múltiples conexiones simultáneas       \n",
    "    )"
   ]
  },
  {
   "cell_type": "markdown",
   "id": "76a69fb7",
   "metadata": {},
   "source": [
    "#### 🧠 Conclusión\n",
    "\n",
    "Este proyecto permite desplegar un tarjeta web profesional con Flask con mínimos cambios a una plantilla existente:\n",
    "\n",
    "- Organizar un proyecto Flask con `templates/` y `static/`\n",
    "- Servir HTML y recursos estáticos dinámicamente\n",
    "- Personalizar contenido y estilos visuales con HTML + CSS\n",
    "- Reemplazar imágenes y rutas correctamente"
   ]
  }
 ],
 "metadata": {
  "kernelspec": {
   "display_name": "base",
   "language": "python",
   "name": "python3"
  },
  "language_info": {
   "codemirror_mode": {
    "name": "ipython",
    "version": 3
   },
   "file_extension": ".py",
   "mimetype": "text/x-python",
   "name": "python",
   "nbconvert_exporter": "python",
   "pygments_lexer": "ipython3",
   "version": "3.11.7"
  }
 },
 "nbformat": 4,
 "nbformat_minor": 5
}
