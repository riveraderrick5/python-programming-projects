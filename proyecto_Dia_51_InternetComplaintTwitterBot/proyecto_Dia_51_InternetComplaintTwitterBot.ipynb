{
 "cells": [
  {
   "cell_type": "markdown",
   "id": "11d44451",
   "metadata": {},
   "source": [
    "## Day 51 Proyect: Internet Complaint Twitter Bot"
   ]
  },
  {
   "cell_type": "markdown",
   "id": "b1c7f14b",
   "metadata": {},
   "source": [
    "### Proyecto Día 51 – Bot para Reclamar Velocidad de Internet 🐦📉\n",
    "\n",
    "Este proyecto automatiza la ejecución de un test de velocidad desde Speedtest.net y si la velocidad está por debajo de la prometida, publica un tweet de reclamo.\n",
    "\n",
    "📌 Se implementa utilizando programación orientada a objetos (POO) para encapsular responsabilidades:\n",
    "\n",
    "- `InternetSpeedTwitterBot`: clase principal que realiza el scraping y publica el tweet.\n",
    "\n",
    "📌 Herramientas utilizadas:\n",
    "- Selenium + undetected_chromedriver para evitar bloqueos\n",
    "- Interacción con formularios, botones y tiempo de espera dinámico\n",
    "- Manejo de autenticación segura\n"
   ]
  },
  {
   "cell_type": "markdown",
   "id": "be93dbc5",
   "metadata": {},
   "source": [
    "![SpeedTracker](./SpeedTracker_v1.png)\n",
    "\n",
    "*SpeedTracker*\n",
    "\n",
    "![Twitter Message](./Twitter_v1.png)\n",
    "\n",
    "*Twitter Message*"
   ]
  },
  {
   "cell_type": "code",
   "execution_count": 1,
   "id": "5e2a596e",
   "metadata": {},
   "outputs": [],
   "source": [
    "from selenium.webdriver.common.by import By                 # Libreria para seleccionar elementos\n",
    "from selenium.webdriver.common.keys import Keys             # Libreria para enviar acciones de teclado\n",
    "import undetected_chromedriver as uc                        # Libreria para evitar detección de Selenium\n",
    "from selenium.webdriver.support.ui import WebDriverWait     # Libreria para esperar a que se carguen los elementos\n",
    "from selenium.webdriver.support import expected_conditions as EC    # Libreria para esperar a que se cumplan ciertas condiciones\n",
    "import time                                                 # Libreria para manejar el tiempo\n",
    "import os                                                   # Libreria para manejar el sistema operativo\n",
    "from dotenv import load_dotenv                              # Libreria para cargar variables de entorno"
   ]
  },
  {
   "cell_type": "code",
   "execution_count": 2,
   "id": "d698081b",
   "metadata": {},
   "outputs": [
    {
     "data": {
      "text/plain": [
       "True"
      ]
     },
     "execution_count": 2,
     "metadata": {},
     "output_type": "execute_result"
    }
   ],
   "source": [
    "# Carga las variables del archivo .env\n",
    "load_dotenv()  "
   ]
  },
  {
   "cell_type": "markdown",
   "id": "8a41bb9e",
   "metadata": {},
   "source": [
    "#### 🧱 Clase principal: InternetSpeedTwitterBot\n",
    "\n",
    "La clase contiene atributos como velocidad prometida, credenciales y métodos para:\n",
    "- Medir velocidad (`get_internet_speed`)\n",
    "- Publicar en Twitter (`tweet_at_provider`)\n",
    "- Cerrar el navegador (`close_browser`)"
   ]
  },
  {
   "cell_type": "code",
   "execution_count": 3,
   "id": "6138dcca",
   "metadata": {},
   "outputs": [],
   "source": [
    "class InternetSpeedTwitterBot:\n",
    "    def __init__(self, promised_down, promised_up, twitter_email, twitter_password, twitter_username):\n",
    "        \"\"\"🔧 Constructor de la clase InternetSpeedTwitterBot\"\"\"\n",
    "        # 📊 Almacenamos los valores de velocidades prometidas por el proveedor\n",
    "        self.promised_down = promised_down                  # Velocidad prometida de descarga\n",
    "        self.promised_up = promised_up                      # Velocidad prometida de subida\n",
    "        \n",
    "        # 🔐 Guardamos las credenciales de acceso a Twitter\n",
    "        self.twitter_email = twitter_email                  # Correo de Twitter\n",
    "        self.twitter_password = twitter_password            # Contraseña de Twitter\n",
    "        self.twitter_username = twitter_username            # Nombre de usuario de Twitter\n",
    "        \n",
    "        # 📈 Inicializamos variables para almacenar resultados del test\n",
    "        self.download = 0\n",
    "        self.upload = 0                                 \n",
    "\n",
    "        # 🔧 Configurar driver con opciones para evitar detección de automatización\n",
    "        options = uc.ChromeOptions()                                           # Creamos una instancia de ChromeOptions para undetected_chromedriver\n",
    "        options.add_argument(\"--no-first-run\")                                 # Prevenir configuraciones iniciales\n",
    "        # options.add_argument(\"--start-maximized\")                              # Opcional: abrir maximizado\n",
    "        options.add_argument(\"--no-default-browser-check\")                     # Prevenir chequeo de navegador por defecto\n",
    "        options.add_argument(\"--disable-blink-features=AutomationControlled\")  # Evitar detección de Selenium\n",
    "        options.add_argument(\"--disable-infobars\")                             # Desactivar la barra de información\n",
    "        self.driver = uc.Chrome(options=options)                               # Inicializamos el driver con las opciones configuradas\n",
    "\n",
    "        # ⏱️ Configuramos WebDriverWait para esperas explícitas (hasta 10 segundos)\n",
    "        self.wait = WebDriverWait(self.driver, 10)\n",
    "\n",
    "    def get_internet_speed(self):\n",
    "        \"\"\"🚀 Método para realizar la prueba de velocidad en speedtest.net\"\"\"\n",
    "        # Navegar a la página de Speedtest\n",
    "        self.driver.get(\"https://www.speedtest.net/\")\n",
    "\n",
    "        # ▶️ Iniciamos la prueba de velocidad\n",
    "        start_btn = self.wait.until(EC.element_to_be_clickable((By.CLASS_NAME, \"start-text\")))  # Localizamos el botón de Go\n",
    "        start_btn.click()                                                                  # Hacemos clic para iniciar la prueba\n",
    "        print(\"⏳ Ejecutando prueba de velocidad...\")\n",
    "        time.sleep(45)                                                                     # ⌛ Tiempo mínimo estimado para completar la prueba\n",
    "\n",
    "        # Esperar a que aparezcan los valores de descarga y subida\n",
    "        download_elem = self.wait.until(EC.visibility_of_element_located((By.CLASS_NAME, \"download-speed\"))) # Localizamos el elemento de velocidad de descarga\n",
    "        upload_elem = self.wait.until(EC.visibility_of_element_located((By.CLASS_NAME, \"upload-speed\")))     # Localizamos el elemento de velocidad de subida\n",
    "        \n",
    "        # 📊 Obtenemos los resultados de la prueba\n",
    "        self.download = float(download_elem.text)\n",
    "        self.upload = float(upload_elem.text)\n",
    "        print(f\"⬇️ Download: {self.download} Mbps\")\n",
    "        print(f\"⬆️ Upload:   {self.upload} Mbps\\n\")\n",
    "        return self.download, self.upload\n",
    "\n",
    "    def tweet_at_provider(self):\n",
    "        \"\"\"📣 Método para publicar un tweet de reclamo al proveedor de internet\"\"\"\n",
    "        # 🔄 Navegamos al nuevo flujo de inicio de sesión de Twitter\n",
    "        self.driver.get(\"https://x.com/i/flow/login\")\n",
    "\n",
    "        # 🔑 Esperamos a que el campo de correo esté listo y lo completamos\n",
    "        email_input = self.wait.until(EC.element_to_be_clickable((By.NAME, \"text\")))\n",
    "        email_input.send_keys(self.twitter_email)\n",
    "        email_input.send_keys(Keys.ENTER)\n",
    "\n",
    "        # ⚠️ Esperamos a que el campo de Telefono/Username por doble verificación esté listo y lo completamos\n",
    "        password_input = self.wait.until(EC.element_to_be_clickable((By.NAME, \"text\")))\n",
    "        password_input.send_keys(self.twitter_username)\n",
    "        password_input.send_keys(Keys.ENTER)\n",
    "\n",
    "        # 🔒 Esperamos a que el campo de contraseña esté listo y lo completamos\n",
    "        password_input = self.wait.until(EC.element_to_be_clickable((By.NAME, \"password\")))\n",
    "        password_input.send_keys(self.twitter_password)\n",
    "        password_input.send_keys(Keys.ENTER)\n",
    "        time.sleep(7)\n",
    "\n",
    "        # 📝 Preparamos el mensaje de reclamo con datos reales\n",
    "        mensaje = (\n",
    "            f\"Hola, mi proveedor me prometió {self.promised_down}Mbps de descarga y \"\n",
    "            f\"{self.promised_up}Mbps de subida, pero estoy recibiendo \"\n",
    "            f\"{self.download}Mbps / {self.upload}Mbps. ¿¡Qué pasa!? #InternetLento\"\n",
    "        )\n",
    "\n",
    "        # ✏️ Esperamos a que el cuadro de texto del tweet esté presente y escribimos el mensaje\n",
    "        tweet_box = self.wait.until(\n",
    "            EC.presence_of_element_located((By.CSS_SELECTOR, \".public-DraftStyleDefault-block.public-DraftStyleDefault-ltr\"))\n",
    "        )\n",
    "        tweet_box.send_keys(mensaje)\n",
    "\n",
    "        # 🚀 Esperamos a que el botón de publicar esté clickeable y enviamos el tweet\n",
    "        tweet_button = self.wait.until(EC.element_to_be_clickable((By.XPATH,\"//span[text()='Postear']/ancestor::button\")))\n",
    "        #tweet_button.click()\n",
    "        print(f\"📢 Tweet publicado:\\n{mensaje}\")\n",
    "\n",
    "    def close_browser(self):\n",
    "        \"\"\"🔒 Método para cerrar el navegador y liberar recursos\"\"\"\n",
    "        self.driver.quit()  # Cerramos todas las ventanas y finalizamos el proceso\n"
   ]
  },
  {
   "cell_type": "markdown",
   "id": "9a9501c5",
   "metadata": {},
   "source": [
    "#### 🟩 Ejecución del Programa\n",
    "\n",
    "Con la clase `InternetSpeedTwitterBot` ya definida, podemos crear una instancia del bot, medir la velocidad de internet, y si está por debajo del umbral prometido, se publicará automáticamente un tweet.\n",
    "\n",
    "📌 El flujo es el siguiente:\n",
    "1. Inicializa el navegador con Selenium sin ser detectado.\n",
    "2. Accede a Speedtest.net y mide velocidad de descarga y subida.\n",
    "3. Si la velocidad está por debajo de lo prometido, abre Twitter y publica una queja.\n",
    "4. Cierra el navegador al finalizar."
   ]
  },
  {
   "cell_type": "code",
   "execution_count": 5,
   "id": "e99f3464",
   "metadata": {},
   "outputs": [],
   "source": [
    "# Datos de autenticación \n",
    "TWITTER_EMAIL = os.environ[\"TWITTER_EMAIL\"]\n",
    "TWITTER_PASSWORD = os.environ[\"TWITTER_PASSWORD\"]\n",
    "TWITTER_USERNAME = os.environ[\"TWITTER_USERNAME\"]"
   ]
  },
  {
   "cell_type": "code",
   "execution_count": 6,
   "id": "1dab9a42",
   "metadata": {},
   "outputs": [
    {
     "name": "stdout",
     "output_type": "stream",
     "text": [
      "⏳ Ejecutando prueba de velocidad...\n",
      "⬇️ Download: 6.8 Mbps\n",
      "⬆️ Upload:   4.93 Mbps\n",
      "\n",
      "📢 Tweet publicado:\n",
      "Hola, mi proveedor me prometió 50Mbps de descarga y 50Mbps de subida, pero estoy recibiendo 6.8Mbps / 4.93Mbps. ¿¡Qué pasa!? #InternetLento\n"
     ]
    }
   ],
   "source": [
    "# Variables de validación\n",
    "VELOCIDAD_PROM_DESCARGA = 50                  # Velocidad prometida de descarga\n",
    "VELOCIDAD_PROM_SUBIDA = 50                    # Velocidad prometida de subida\n",
    "\n",
    "# Creamos una instancia de la clase\n",
    "bot = InternetSpeedTwitterBot(promised_down=VELOCIDAD_PROM_DESCARGA\n",
    "                            , promised_up=VELOCIDAD_PROM_SUBIDA\n",
    "                            , twitter_email=TWITTER_EMAIL\n",
    "                            , twitter_password=TWITTER_PASSWORD\n",
    "                            , twitter_username=TWITTER_USERNAME\n",
    ")  \n",
    "\n",
    "bot.get_internet_speed()  # Ejecutamos la prueba de velocidad\n",
    "bot.tweet_at_provider()  # Publicamos el tweet\n"
   ]
  },
  {
   "cell_type": "markdown",
   "id": "5063a34f",
   "metadata": {},
   "source": [
    "#### 🧠 Conclusión\n",
    "\n",
    "Este proyecto demuestra cómo utilizar Python y Selenium para automatizar tareas reales del día a día.  \n",
    "Al integrar una herramienta como Speedtest con redes sociales, logramos:\n",
    "\n",
    "- Automatizar la medición de velocidad de internet con scraping visual.\n",
    "- Generar una alerta pública (tweet) basada en condiciones lógicas.\n",
    "- Controlar interfaces gráficas sin intervención humana.\n",
    "\n",
    "Este tipo de automatización puede adaptarse a muchos otros contextos: reclamos automáticos, seguimiento de servicios, pruebas de conexión programadas, entre otros."
   ]
  }
 ],
 "metadata": {
  "kernelspec": {
   "display_name": "base",
   "language": "python",
   "name": "python3"
  },
  "language_info": {
   "codemirror_mode": {
    "name": "ipython",
    "version": 3
   },
   "file_extension": ".py",
   "mimetype": "text/x-python",
   "name": "python",
   "nbconvert_exporter": "python",
   "pygments_lexer": "ipython3",
   "version": "3.11.7"
  }
 },
 "nbformat": 4,
 "nbformat_minor": 5
}
