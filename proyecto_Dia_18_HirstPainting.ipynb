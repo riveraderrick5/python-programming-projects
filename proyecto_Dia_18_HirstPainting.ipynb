{
 "cells": [
  {
   "cell_type": "markdown",
   "metadata": {},
   "source": [
    "## Day 18 Proyect: Hirst Painting"
   ]
  },
  {
   "cell_type": "markdown",
   "metadata": {},
   "source": [
    "### Hirst Painting – Proyecto del Día 18 🎨\n",
    "\n",
    "En este proyecto crearemos una obra inspirada en los \"spot paintings\" de Damien Hirst.  \n",
    "El programa realizará las siguientes tareas:\n",
    "- Extraer los colores más comunes de una imagen utilizando el paquete **colorgram.py**.\n",
    "- Procesar la paleta para obtener una lista de colores en formato RGB (tuplas).\n",
    "- Usar el módulo **turtle** para pintar una cuadrícula de 10×10 puntos (dots) usando los colores extraídos.\n",
    "  \n",
    "**Importante:**  \n",
    "La imagen de la que se extraen los colores debe estar en el mismo directorio que este notebook.  \n",
    "Por ejemplo, puedes colocar la imagen en el path:\n",
    "`proyecto_Dia_18_image.jpg`\n",
    "  \n",
    "Antes de ejecutar el código, asegúrate de instalar el paquete:\n",
    "```bash\n",
    "pip install colorgram.py\n"
   ]
  },
  {
   "cell_type": "markdown",
   "metadata": {},
   "source": [
    "#### 1. Extracción de Colores con Colorgram\n",
    "\n",
    "Utilizaremos el paquete **colorgram.py** para extraer una cantidad definida de colores de la imagen.  \n",
    "Luego procesaremos los datos para obtener una lista de tuplas RGB que podamos usar con Turtle."
   ]
  },
  {
   "cell_type": "code",
   "execution_count": null,
   "metadata": {},
   "outputs": [],
   "source": [
    "import colorgram\n",
    "\n",
    "# Extraer colores de la imagen (asegúrate de que 'proyecto_Dia_18_image.jpg' esté en el mismo directorio)\n",
    "# Puedes ajustar el número de colores a extraer, por ejemplo, 30\n",
    "extracted_colors = colorgram.extract(\"proyecto_Dia_18_image.jpg\", 30)\n",
    "\n",
    "# Procesar los colores para obtener tuplas RGB\n",
    "color_list = []\n",
    "for color in extracted_colors:\n",
    "    r = color.rgb.r\n",
    "    g = color.rgb.g\n",
    "    b = color.rgb.b\n",
    "    new_color = (r, g, b)\n",
    "    color_list.append(new_color)\n",
    "\n",
    "# Opcional: Filtrar colores muy claros (si son mayormente blancos)\n",
    "final_color_list = []\n",
    "for color in color_list:\n",
    "    if not (color[0] > 200 and color[1] > 200 and color[2] > 200):\n",
    "        final_color_list.append(color)\n",
    "\n",
    "print(\"Paleta de colores extraída (RGB):\")\n",
    "print(final_color_list)\n"
   ]
  },
  {
   "cell_type": "markdown",
   "metadata": {},
   "source": []
  },
  {
   "cell_type": "markdown",
   "metadata": {},
   "source": []
  },
  {
   "cell_type": "code",
   "execution_count": null,
   "metadata": {},
   "outputs": [],
   "source": []
  }
 ],
 "metadata": {
  "kernelspec": {
   "display_name": "base",
   "language": "python",
   "name": "python3"
  },
  "language_info": {
   "codemirror_mode": {
    "name": "ipython",
    "version": 3
   },
   "file_extension": ".py",
   "mimetype": "text/x-python",
   "name": "python",
   "nbconvert_exporter": "python",
   "pygments_lexer": "ipython3",
   "version": "3.11.7"
  }
 },
 "nbformat": 4,
 "nbformat_minor": 2
}
