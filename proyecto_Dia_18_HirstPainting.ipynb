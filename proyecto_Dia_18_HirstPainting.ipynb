{
 "cells": [
  {
   "cell_type": "markdown",
   "metadata": {},
   "source": [
    "## Day 18 Proyect: Hirst Painting"
   ]
  },
  {
   "cell_type": "markdown",
   "metadata": {},
   "source": [
    "### Hirst Painting – Proyecto del Día 18 🎨\n",
    "\n",
    "En este proyecto crearemos una obra inspirada en los \"spot paintings\" de Damien Hirst.  \n",
    "El programa realizará las siguientes tareas:\n",
    "- Extraer los colores más comunes de una imagen utilizando el paquete **colorgram.py**.\n",
    "- Procesar la paleta para obtener una lista de colores en formato RGB (tuplas).\n",
    "- Usar el módulo **turtle** para pintar una cuadrícula de 10×10 puntos (dots) usando los colores extraídos.\n",
    "  \n",
    "**Importante:**  \n",
    "La imagen de la que se extraen los colores debe estar en el mismo directorio que este notebook.  \n",
    "Por ejemplo, puedes colocar la imagen en el path:\n",
    "`proyecto_Dia_18_image.jpg`\n",
    "  \n",
    "Antes de ejecutar el código, asegúrate de instalar el paquete:\n",
    "```bash\n",
    "pip install colorgram.py\n"
   ]
  },
  {
   "cell_type": "markdown",
   "metadata": {},
   "source": [
    "![Hirst Painting](./proyecto_Dia_18_image.jpg)\n",
    "\n",
    "*Hirst Painting*"
   ]
  },
  {
   "cell_type": "markdown",
   "metadata": {},
   "source": [
    "#### 1. Extracción de Colores con Colorgram\n",
    "\n",
    "Utilizaremos el paquete **colorgram.py** para extraer una cantidad definida de colores de la imagen.  \n",
    "Luego procesaremos los datos para obtener una lista de tuplas RGB que podamos usar con Turtle."
   ]
  },
  {
   "cell_type": "code",
   "execution_count": 1,
   "metadata": {},
   "outputs": [
    {
     "name": "stdout",
     "output_type": "stream",
     "text": [
      "Paleta de colores extraída (RGB):\n",
      "[(202, 164, 109), (150, 75, 49), (223, 201, 135), (52, 93, 124), (172, 154, 40), (140, 30, 19), (133, 163, 185), (198, 91, 71), (46, 122, 86), (72, 43, 35), (145, 178, 148), (13, 99, 71), (233, 175, 164), (161, 142, 158), (105, 74, 77), (55, 46, 50), (183, 205, 171), (36, 60, 74), (18, 86, 90), (81, 148, 129), (148, 17, 20), (14, 70, 64), (30, 68, 100), (107, 127, 153), (174, 94, 97), (176, 192, 209)]\n"
     ]
    }
   ],
   "source": [
    "import colorgram\n",
    "\n",
    "# Extraer colores de la imagen (asegúrate de que 'proyecto_Dia_18_image.jpg' esté en el mismo directorio)\n",
    "# Puedes ajustar el número de colores a extraer, por ejemplo, 30\n",
    "extracted_colors = colorgram.extract(\"proyecto_Dia_18_image.jpg\", 30)\n",
    "\n",
    "# Procesar los colores para obtener tuplas RGB\n",
    "color_list = []\n",
    "for color in extracted_colors:\n",
    "    r = color.rgb.r\n",
    "    g = color.rgb.g\n",
    "    b = color.rgb.b\n",
    "    new_color = (r, g, b)\n",
    "    color_list.append(new_color)\n",
    "\n",
    "# Opcional: Filtrar colores muy claros (si son mayormente blancos)\n",
    "final_color_list = []\n",
    "for color in color_list:\n",
    "    if not (color[0] > 200 and color[1] > 200 and color[2] > 200):\n",
    "        final_color_list.append(color)\n",
    "\n",
    "print(\"Paleta de colores extraída (RGB):\")\n",
    "print(final_color_list)\n"
   ]
  },
  {
   "cell_type": "markdown",
   "metadata": {},
   "source": [
    "#### 2. Pintando el Spot Painting con Turtle\n",
    "\n",
    "Configuraremos el módulo **turtle** para crear un grid de 10×10 puntos.  \n",
    "Cada punto se dibujará con un tamaño de 20 y se espaciarán aproximadamente 50 paces.  \n",
    "Asegúrate de configurar el modo de color a 255 para poder usar las tuplas RGB extraídas.\n"
   ]
  },
  {
   "cell_type": "code",
   "execution_count": 2,
   "metadata": {},
   "outputs": [],
   "source": [
    "import turtle as t\n",
    "import random\n",
    "\n",
    "# Configurar la pantalla y la velocidad del turtle\n",
    "t.colormode(255)\n",
    "tim = t.Turtle()\n",
    "tim.speed(\"fastest\")\n",
    "tim.hideturtle()\n",
    "tim.penup()\n",
    "\n",
    "# Posicionar al turtle para empezar a pintar en la esquina inferior izquierda del grid\n",
    "tim.setheading(225)                             # Apunta hacia la esquina inferior izquierda\n",
    "tim.forward(300)                                # Moverse 300 paces (ajustable)\n",
    "tim.setheading(0)                               # Volver a apuntar a la derecha\n",
    "\n",
    "# Configuración de parámetros para el grid\n",
    "#Ajusta el número de filas segun tu preferencia\n",
    "row_per_image = 5                               # Número de filas  \n",
    "\n",
    "number_of_dots = row_per_image*row_per_image    # Número total de dots     \n",
    "dot_size = 200/row_per_image\n",
    "spacing = 500/row_per_image\n",
    "\n",
    "# Dibujar 10 filas de 10 dots\n",
    "for dot_count in range(1, number_of_dots + 1):\n",
    "    tim.dot(dot_size, random.choice(final_color_list))\n",
    "    tim.forward(spacing)\n",
    "    \n",
    "    # Cuando se complete una fila, reposicionar para la siguiente\n",
    "    if dot_count % row_per_image == 0:\n",
    "        tim.setheading(90)  # Apunta hacia arriba\n",
    "        tim.forward(spacing)\n",
    "        tim.setheading(180)  # Apunta a la izquierda\n",
    "        tim.forward(spacing * row_per_image)\n",
    "        tim.setheading(0)  # Apunta a la derecha\n",
    "\n",
    "# Mantener la ventana abierta hasta que se haga clic\n",
    "screen = t.Screen()\n",
    "screen.exitonclick()\n"
   ]
  },
  {
   "cell_type": "markdown",
   "metadata": {},
   "source": [
    "#### Conclusión\n",
    "\n",
    "En este proyecto hemos aplicado conceptos fundamentales de Python, tales como:\n",
    "- **Extracción y Procesamiento de Datos:**  \n",
    "  Uso del paquete `colorgram.py` para extraer colores de una imagen y procesarlos en formato RGB.\n",
    "- **Listas y Tuplas:**  \n",
    "  Organización y filtrado de la paleta de colores en una lista de tuplas RGB.\n",
    "- **Uso del Módulo Turtle:**  \n",
    "  Configuración de `turtle` para dibujar un grid de puntos y crear un \"spot painting\" al estilo de Damien Hirst.\n",
    "- **Interacción y Creatividad:**  \n",
    "  El proyecto demuestra cómo combinar datos extraídos de una imagen con gráficos generados dinámicamente, lo que permite crear arte digital de forma programática.\n",
    "\n",
    "Este enfoque no solo refuerza los fundamentos de Python, sino que también te invita a experimentar con la visualización creativa usando código.\n"
   ]
  }
 ],
 "metadata": {
  "kernelspec": {
   "display_name": "base",
   "language": "python",
   "name": "python3"
  },
  "language_info": {
   "codemirror_mode": {
    "name": "ipython",
    "version": 3
   },
   "file_extension": ".py",
   "mimetype": "text/x-python",
   "name": "python",
   "nbconvert_exporter": "python",
   "pygments_lexer": "ipython3",
   "version": "3.11.7"
  }
 },
 "nbformat": 4,
 "nbformat_minor": 2
}
