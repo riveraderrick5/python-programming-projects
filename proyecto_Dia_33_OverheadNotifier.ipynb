{
 "cells": [
  {
   "cell_type": "markdown",
   "id": "fe3184ee",
   "metadata": {},
   "source": [
    "## Day 33 Proyect: ISS Overhead Notifier"
   ]
  },
  {
   "cell_type": "markdown",
   "id": "cc7dca71",
   "metadata": {},
   "source": [
    "### ISS Overhead Notifier 🚀 – Proyecto del Día 33\n",
    "\n",
    "Este proyecto automatiza el monitoreo de la Estación Espacial Internacional (ISS) y envía un correo cuando la ISS esté sobre tu ubicación **y** sea de noche.\n",
    "\n",
    "📌 Aprendimos a trabajar con:\n",
    "- APIs públicas: ISS Location API y Sunrise-Sunset API\n",
    "- Módulo `requests` para hacer peticiones GET\n",
    "- Manejo de `JSON` y diccionarios en Python\n",
    "- Comparaciones condicionales\n",
    "- Módulo `datetime` y formato 24h\n",
    "- Envío de correos con `smtplib`\n",
    "- Bucle `while` + `time.sleep()` para ejecución periódica\n"
   ]
  },
  {
   "cell_type": "markdown",
   "id": "a5a2330c",
   "metadata": {},
   "source": [
    "#### Paso 1: Configuración inicial\n",
    "\n",
    "Definimos nuestras coordenadas (latitud y longitud), y creamos funciones para:\n",
    "1. Saber si la ISS está cerca de nuestra ubicación (`is_iss_overhead`)\n",
    "2. Verificar si es de noche (`is_night`)"
   ]
  },
  {
   "cell_type": "code",
   "execution_count": null,
   "id": "42a5b6f7",
   "metadata": {},
   "outputs": [],
   "source": [
    "import requests\n",
    "from datetime import datetime\n",
    "import smtplib\n",
    "import time"
   ]
  },
  {
   "cell_type": "code",
   "execution_count": null,
   "id": "0208836c",
   "metadata": {},
   "outputs": [],
   "source": [
    "# 📍 Coordenadas personales\n",
    "MY_LAT = 19.646700\n",
    "MY_LONG = -99.211708\n",
    "\n",
    "#Función para verificar si la ISS está sobre la posición del usuario\n",
    "def is_iss_overhead():\n",
    "    \"\"\"Verifica si la ISS está dentro de ±5 grados de nuestra posición.\"\"\"\n",
    "    response = requests.get(\"http://api.open-notify.org/iss-now.json\")\n",
    "    response.raise_for_status()                                     # Comparte el error si la respuesta no es 200\n",
    "    data = response.json()\n",
    "    \n",
    "    iss_lat = float(data[\"iss_position\"][\"latitude\"])\n",
    "    iss_long = float(data[\"iss_position\"][\"longitude\"])\n",
    "    \n",
    "    return (MY_LAT - 5 <= iss_lat <= MY_LAT + 5) and (MY_LONG - 5 <= iss_long <= MY_LONG + 5)\n"
   ]
  },
  {
   "cell_type": "markdown",
   "id": "7598fbad",
   "metadata": {},
   "source": [
    "#### Paso 2: Verificar si es de noche 🌙\n",
    "\n",
    "Utilizamos la API Sunrise-Sunset para obtener el horario de salida y puesta del sol.  \n",
    "Si la hora actual está fuera de este rango, es de noche.\n"
   ]
  },
  {
   "cell_type": "code",
   "execution_count": null,
   "id": "cac70648",
   "metadata": {},
   "outputs": [],
   "source": [
    "#Función para verificar si es de noche\n",
    "def is_night():\n",
    "    \"\"\"Devuelve True si es de noche en nuestra ubicación.\"\"\"\n",
    "    parameters = {\n",
    "        \"lat\": MY_LAT,\n",
    "        \"lng\": MY_LONG,\n",
    "        \"formatted\": 0  # Formato 24h (ISO 8601)\n",
    "    }\n",
    "\n",
    "    response = requests.get(\"https://api.sunrise-sunset.org/json\", params=parameters)\n",
    "    response.raise_for_status()\n",
    "    data = response.json()\n",
    "\n",
    "    sunrise_hour = int(data[\"results\"][\"sunrise\"].split(\"T\")[1].split(\":\")[0])\n",
    "    sunset_hour = int(data[\"results\"][\"sunset\"].split(\"T\")[1].split(\":\")[0])\n",
    "    current_hour = datetime.now().hour\n",
    "\n",
    "    return current_hour >= sunset_hour or current_hour <= sunrise_hour\n"
   ]
  },
  {
   "cell_type": "markdown",
   "id": "c8b377ca",
   "metadata": {},
   "source": [
    "#### Paso 3: Bucle infinito con verificación cada 60 segundos 🕒\n",
    "\n",
    "Si ambas condiciones se cumplen (ISS cerca y es de noche), se envía un correo de alerta.\n"
   ]
  },
  {
   "cell_type": "code",
   "execution_count": null,
   "id": "1290d27b",
   "metadata": {},
   "outputs": [],
   "source": [
    "# 🔐 Variables para el correo de envío (debes completar con tus datos)\n",
    "MY_EMAIL = \"email@gmail.com\"\n",
    "MY_PASSWORD = \"password\""
   ]
  },
  {
   "cell_type": "code",
   "execution_count": null,
   "id": "15e2183c",
   "metadata": {},
   "outputs": [],
   "source": [
    "while True:\n",
    "    time.sleep(60)  # ⏱️ Esperar 60 segundos entre verificaciones\n",
    "    if is_iss_overhead() and is_night():\n",
    "        with smtplib.SMTP(\"smtp.gmail.com\", port=587) as connection:\n",
    "            connection.starttls()\n",
    "            connection.login(MY_EMAIL, MY_PASSWORD)\n",
    "            connection.sendmail(\n",
    "                from_addr=MY_EMAIL,\n",
    "                to_addrs=MY_EMAIL,\n",
    "                msg=\"Subject:🚀 ¡Mira hacia arriba!\\n\\nLa ISS está sobre ti en este momento.\"\n",
    "            )\n",
    "        print(f\"✅  Correo enviado a {MY_EMAIL}: La ISS está sobre ti y es de noche.\")"
   ]
  },
  {
   "cell_type": "markdown",
   "id": "e0f76ef8",
   "metadata": {},
   "source": [
    "#### 🧠 Conclusión\n",
    "\n",
    "Este proyecto nos permitió:\n",
    "\n",
    "- 🌍 Obtener datos geográficos en tiempo real\n",
    "- 💡 Aplicar lógica condicional con funciones booleanas\n",
    "- 🕒 Trabajar con fechas y horas en formato UTC/24h\n",
    "- ✉️ Automatizar el envío de notificaciones por correo\n",
    "- 🔁 Ejecutar scripts periódicamente con `while` y `sleep`\n",
    "\n",
    "🎯 Este es un ejemplo poderoso de cómo Python puede usarse para **automatización basada en eventos del mundo real**.\n"
   ]
  },
  {
   "cell_type": "markdown",
   "id": "f7a90817",
   "metadata": {},
   "source": []
  }
 ],
 "metadata": {
  "kernelspec": {
   "display_name": "Python 3",
   "language": "python",
   "name": "python3"
  },
  "language_info": {
   "codemirror_mode": {
    "name": "ipython",
    "version": 3
   },
   "file_extension": ".py",
   "mimetype": "text/x-python",
   "name": "python",
   "nbconvert_exporter": "python",
   "pygments_lexer": "ipython3",
   "version": "3.9.6"
  }
 },
 "nbformat": 4,
 "nbformat_minor": 5
}
