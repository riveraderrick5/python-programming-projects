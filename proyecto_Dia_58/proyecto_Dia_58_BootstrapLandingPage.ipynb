{
 "cells": [
  {
   "cell_type": "markdown",
   "id": "8253495b",
   "metadata": {},
   "source": [
    "## Day 58 Proyect: Bootstrap Landing Page"
   ]
  },
  {
   "cell_type": "markdown",
   "id": "eb3d04ef",
   "metadata": {},
   "source": [
    "### Proyecto Día 58 – Landing Page con Bootstrap 🐶\n",
    "\n",
    "En este proyecto creamos una landing page profesional para una startup ficticia llamada **TinDog** — una aplicación que ayuda a los perros a conocer nuevos amigos, como un \"Tinder para perros\" 🐕❤️🐕.\n",
    "\n",
    "La página fue diseñada utilizando **Bootstrap 5**, lo que nos permitió trabajar con un sistema de diseño responsivo, componentes reutilizables y un estilo visual moderno en poco tiempo.\n",
    "\n",
    "A lo largo del proyecto aplicamos:\n",
    "- Uso de **snippets** y componentes de Bootstrap.\n",
    "- Creación de múltiples secciones como Hero, Features, Testimonios, Pricing y Footer.\n",
    "- Inclusión de **SVGs personalizados**, íconos y un fondo con **gradiente animado**.\n",
    "- Estilo limpio y responsivo compatible con dispositivos móviles.\n",
    "\n",
    "🔗 Puedes ver el código del resultado final en: `index.html`\n"
   ]
  },
  {
   "cell_type": "markdown",
   "id": "4e3f5a7b",
   "metadata": {},
   "source": [
    "![Website](./images/TindDog_Website.png)\n",
    "\n",
    "*Website*"
   ]
  },
  {
   "cell_type": "markdown",
   "id": "03774427",
   "metadata": {},
   "source": [
    "#### 🧠 Conclusión del Proyecto\n",
    "\n",
    "Este proyecto nos permitió aplicar los fundamentos de **desarrollo frontend** usando **Bootstrap 5** para crear interfaces profesionales sin necesidad de escribir mucho CSS personalizado.\n",
    "\n",
    "🔧 Se aplicaron técnicas como:\n",
    "- Uso del sistema de grillas para diseño responsivo.\n",
    "- Reutilización de componentes de Bootstrap como `cards`, `buttons` y `sections`.\n",
    "- Personalización con animaciones en CSS para mejorar la experiencia visual.\n",
    "\n",
    "💡 Esta estructura es fácilmente escalable para integrar contenido dinámico (con Flask, por ejemplo), o exportarla a un sistema CMS."
   ]
  }
 ],
 "metadata": {
  "language_info": {
   "name": "python"
  }
 },
 "nbformat": 4,
 "nbformat_minor": 5
}
