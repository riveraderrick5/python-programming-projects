{
 "cells": [
  {
   "cell_type": "markdown",
   "id": "cb1a0daa",
   "metadata": {},
   "source": [
    "## Day 45 Proyect: Top Movies Web Scrapping"
   ]
  },
  {
   "cell_type": "markdown",
   "id": "8fd8b762",
   "metadata": {},
   "source": [
    "### Proyecto Día 45 – Web Scraping: Top 100 Películas 🎬🧹\n",
    "\n",
    "En este proyecto automatizamos la recolección de los títulos de las 100 mejores películas de todos los tiempos desde una página web.\n",
    "\n",
    "📚 Lo que aprenderás o aplicarás:\n",
    "- Extracción de datos con `requests` y `BeautifulSoup`\n",
    "- Análisis de HTML con selectores de etiquetas y clases\n",
    "- Manipulación de listas y texto en Python\n",
    "- Escritura de archivos `.txt`\n"
   ]
  },
  {
   "cell_type": "markdown",
   "id": "021326af",
   "metadata": {},
   "source": [
    "#### Paso 1 – Obtener el HTML de la página web\n",
    "\n",
    "Usamos `requests` para obtener el contenido de la página y `BeautifulSoup` para procesarlo.\n"
   ]
  },
  {
   "cell_type": "code",
   "execution_count": 1,
   "id": "fd0d871c",
   "metadata": {},
   "outputs": [],
   "source": [
    "import requests                     # Libreria para hacer peticiones HTTP\n",
    "from bs4 import BeautifulSoup       # Libreria para parsear/extraer datos de HTML"
   ]
  },
  {
   "cell_type": "code",
   "execution_count": 2,
   "id": "40e8d6f2",
   "metadata": {},
   "outputs": [],
   "source": [
    "# URL de la página web que contiene la lista de películas\n",
    "URL = \"https://www.empireonline.com/movies/features/best-movies-2/\"  \n",
    "\n",
    "# Realiza la solicitud GET al endpoint de la página web\n",
    "response = requests.get(URL)\n",
    "\n",
    "# Guarda el contenido HTML de la página web en una variable\n",
    "website_html = response.text\n",
    "\n",
    "# Crea un objeto BeautifulSoup para parsear el HTML\n",
    "soup = BeautifulSoup(website_html, \"html.parser\")\n"
   ]
  },
  {
   "cell_type": "markdown",
   "id": "4749bf59",
   "metadata": {},
   "source": [
    "#### Paso 2 – Extraer todos los títulos de películas\n",
    "\n",
    "Identificamos los elementos que contienen los nombres de las películas.\n"
   ]
  },
  {
   "cell_type": "code",
   "execution_count": 3,
   "id": "1e09f5d6",
   "metadata": {},
   "outputs": [
    {
     "name": "stdout",
     "output_type": "stream",
     "text": [
      "Primeros 10 títulos de películas extraidos:\n",
      "100) Reservoir Dogs (1992)\n",
      "99) Groundhog Day (1993)\n",
      "98) Paddington 2 (2017)\n",
      "97) Amélie (2001)\n",
      "96) Brokeback Mountain (2005)\n",
      "95) Donnie Darko (2001)\n",
      "94) Scott Pilgrim Vs. The World (2010)\n",
      "93) Portrait Of A Lady On Fire (2020)\n",
      "92) Léon: The Professional (1994)\n",
      "91) Logan (2017)\n"
     ]
    }
   ],
   "source": [
    "# Crea una lista para almacenar los títulos de las películas\n",
    "movie_titles = []\n",
    "\n",
    "# Encuentra todos los elementos <h2> en el HTML\n",
    "for h2_tag in soup.find_all(\"h2\"):\n",
    "    strong_tag = h2_tag.find(\"strong\")                  # Busca un <strong> dentro de <h2>\n",
    "    if strong_tag and strong_tag.text.strip():          # Si existe y tiene texto\n",
    "        movie_titles.append(strong_tag.text.strip())    # Agrega el texto a la lista\n",
    "\n",
    "# Imprime los primeros 10 títulos extraídos\n",
    "print(f\"Primeros 10 títulos de películas extraidos:\")\n",
    "for title in movie_titles[:10]:  # Limitar a los primeros 10 títulos\n",
    "    print(title)"
   ]
  },
  {
   "cell_type": "markdown",
   "id": "80435aac",
   "metadata": {},
   "source": [
    "#### Paso 3 – Revertir la lista de películas\n",
    "\n",
    "El sitio las lista del 100 al 1, pero queremos guardarlas del 1 al 100."
   ]
  },
  {
   "cell_type": "code",
   "execution_count": 4,
   "id": "30d99531",
   "metadata": {},
   "outputs": [],
   "source": [
    "# Usamos slicing para invertir la lista\n",
    "movies = movie_titles[::-1]             #  start:stop:step -> Toma todos los elementos y va en reversa 1 elemento a la vez"
   ]
  },
  {
   "cell_type": "code",
   "execution_count": 5,
   "id": "fc7cbf4a",
   "metadata": {},
   "outputs": [
    {
     "name": "stdout",
     "output_type": "stream",
     "text": [
      "First 10 Extracted Movie Titles:\n",
      "1) The Lord Of The Rings: The Fellowship Of The Ring (2001)\n",
      "2) Star Wars: The Empire Strikes Back (1980)\n",
      "3) The Godfather (1972)\n",
      "4) The Dark Knight (2008)\n",
      "5) The Shawshank Redemption (1994)\n",
      "6) Jaws (1975)\n",
      "7) Pulp Fiction (1994)\n",
      "8) Avengers: Infinity War (2018)\n",
      "9) Raiders Of The Lost Ark (1981)\n",
      "10) Goodfellas (1990)\n"
     ]
    }
   ],
   "source": [
    "# Imprime los primeros 10 títulos extraídos\n",
    "print(f\"First 10 Extracted Movie Titles:\")\n",
    "for title in movies[:10]:  # Limitar a los primeros 10 títulos\n",
    "    print(title)"
   ]
  },
  {
   "cell_type": "markdown",
   "id": "0ca31839",
   "metadata": {},
   "source": [
    "#### Paso 4 – Guardar los resultados en `movies.txt`\n",
    "\n",
    "Creamos un archivo de texto y escribimos los títulos, cada uno en una línea.\n"
   ]
  },
  {
   "cell_type": "code",
   "execution_count": 6,
   "id": "eacf2874",
   "metadata": {},
   "outputs": [],
   "source": [
    "with open(\"movies.txt\", mode=\"w\", encoding=\"utf-8\") as file:\n",
    "    for movie in movies:\n",
    "        file.write(f\"{movie}\\n\")"
   ]
  },
  {
   "cell_type": "markdown",
   "id": "e51bcd53",
   "metadata": {},
   "source": [
    "#### 🧠 Conclusión\n",
    "\n",
    "Este proyecto consolidó habilidades fundamentales de Python y web scraping:\n",
    "\n",
    "- 📥 Lectura de sitios web con `requests`\n",
    "- 🔍 Navegación y extracción de contenido con `BeautifulSoup`\n",
    "- 📝 Escritura de archivos de texto\n",
    "- 🔄 Transformación de listas usando slicing\n",
    "\n",
    "Este tipo de automatización es útil para recolectar datos actualizables desde internet de forma eficiente."
   ]
  }
 ],
 "metadata": {
  "kernelspec": {
   "display_name": "base",
   "language": "python",
   "name": "python3"
  },
  "language_info": {
   "codemirror_mode": {
    "name": "ipython",
    "version": 3
   },
   "file_extension": ".py",
   "mimetype": "text/x-python",
   "name": "python",
   "nbconvert_exporter": "python",
   "pygments_lexer": "ipython3",
   "version": "3.11.7"
  }
 },
 "nbformat": 4,
 "nbformat_minor": 5
}
