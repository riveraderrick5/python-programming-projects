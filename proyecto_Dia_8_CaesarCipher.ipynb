{
 "cells": [
  {
   "cell_type": "markdown",
   "metadata": {},
   "source": [
    "## Day 8 Proyect: Caesar Cipher"
   ]
  },
  {
   "cell_type": "markdown",
   "metadata": {},
   "source": [
    "### Caesar Cipher – Proyecto del Día 8 🕵️​\n",
    "\n",
    "En este proyecto implementaremos el **Cifrado César**, una técnica de encriptación clásica usada desde la época de Julio César para enviar mensajes secretos.  \n",
    "El programa realizará las siguientes tareas:\n",
    "- Solicitar al usuario si desea **encriptar** o **desencriptar** un mensaje.\n",
    "- Pedir el mensaje a procesar y el valor de desplazamiento (shift).\n",
    "- Encriptar o desencriptar el mensaje, desplazando cada letra en el alfabeto.\n",
    "- Mantener sin modificar aquellos caracteres que no sean letras (como números, espacios o símbolos).\n",
    "- Permitir al usuario volver a ejecutar el programa si así lo desea.\n",
    "\n",
    "\n",
    "El cifrado César consiste en desplazar cada letra de un mensaje por un número fijo de posiciones en el alfabeto.  \n",
    "Por ejemplo, con un desplazamiento de 3:\n",
    "- A → D  \n",
    "- B → E  \n",
    "- ...  \n",
    "- Z → C (por el wrap-around)\n"
   ]
  },
  {
   "cell_type": "markdown",
   "metadata": {},
   "source": [
    "#### 1. Definición del Alfabeto y Operación Módulo\n",
    "\n",
    "Para trabajar con el desplazamiento, definimos una lista o cadena que contenga las 26 letras del alfabeto.  \n",
    "Utilizaremos la operación módulo (`%`) para asegurarnos de que el índice resultante siempre esté dentro del rango (0-25) incluso cuando se desborde.\n"
   ]
  },
  {
   "cell_type": "code",
   "execution_count": 1,
   "metadata": {},
   "outputs": [],
   "source": [
    "# Definir el alfabeto\n",
    "alphabet = \"abcdefghijklmnopqrstuvwxyz\"\n"
   ]
  },
  {
   "cell_type": "markdown",
   "metadata": {},
   "source": [
    "#### 2. Función Encrypt\n",
    "\n",
    "Creamos la función `encrypt` que toma dos argumentos: el texto original y el valor de desplazamiento (shift).  \n",
    "Esta función recorrerá cada letra del mensaje original, buscará su posición en el alfabeto y calculará la nueva posición usando la operación módulo, para luego construir el mensaje encriptado.  \n",
    "Si el carácter no es una letra, se añadirá sin modificar.\n"
   ]
  },
  {
   "cell_type": "code",
   "execution_count": 2,
   "metadata": {},
   "outputs": [
    {
     "name": "stdout",
     "output_type": "stream",
     "text": [
      "Encrypt: Khoor, Zruog!\n"
     ]
    }
   ],
   "source": [
    "def encrypt(original_text, shift):\n",
    "    #Encripta el texto original desplazando cada letra hacia adelante según shift.\n",
    "    ciphertext = \"\"\n",
    "    \n",
    "    for char in original_text:\n",
    "        # Verificar si el carácter es una letra\n",
    "        if char.lower() in alphabet:\n",
    "            # Obtener el índice actual y calcular el nuevo índice\n",
    "            current_index = alphabet.index(char.lower())\n",
    "            shifted_index = (current_index + shift) % len(alphabet)         #Ajusta desbordamiento\n",
    "            # Conservar mayúsculas si corresponde\n",
    "            new_char = alphabet[shifted_index]\n",
    "            if char.isupper():\n",
    "                new_char = new_char.upper()\n",
    "            ciphertext += new_char\n",
    "        else:\n",
    "            # Caracteres que no son letras se añaden sin modificar\n",
    "            ciphertext += char\n",
    "    return ciphertext\n",
    "\n",
    "# Ejemplo de prueba:\n",
    "print(\"Encrypt:\", encrypt(\"Hello, World!\", 3))\n"
   ]
  },
  {
   "cell_type": "markdown",
   "metadata": {},
   "source": [
    "#### 3. Función Decrypt\n",
    "\n",
    "La función `decrypt` es similar a `encrypt`, pero en lugar de sumar el desplazamiento, lo resta para revertir el proceso.\n"
   ]
  },
  {
   "cell_type": "code",
   "execution_count": 3,
   "metadata": {},
   "outputs": [
    {
     "name": "stdout",
     "output_type": "stream",
     "text": [
      "Decrypt: Hello, World!\n"
     ]
    }
   ],
   "source": [
    "def decrypt(cipher_text, shift):\n",
    "    #Desencripta el texto cifrado desplazando cada letra hacia atrás según shift.\n",
    "    output_text = \"\"\n",
    "    for char in cipher_text:\n",
    "        if char.lower() in alphabet:\n",
    "            current_index = alphabet.index(char.lower())\n",
    "            shifted_index = (current_index - shift) % len(alphabet)         #Ajusta desbordamiento\n",
    "            new_char = alphabet[shifted_index]\n",
    "            if char.isupper():\n",
    "                new_char = new_char.upper()\n",
    "            output_text += new_char\n",
    "        else:\n",
    "            output_text += char\n",
    "    return output_text\n",
    "\n",
    "# Ejemplo de prueba:\n",
    "print(\"Decrypt:\", decrypt(\"Khoor, Zruog!\", 3))\n"
   ]
  },
  {
   "cell_type": "markdown",
   "metadata": {},
   "source": [
    "#### 4. Función Combinada: Caesar Cipher\n",
    "\n",
    "Integraremos ambas funciones en una sola función llamada `caesar_cipher` que recibirá un parámetro adicional (`action`) para determinar si se debe encriptar o desencriptar el mensaje.  \n",
    "Utilizaremos el mismo valor de desplazamiento para ambas operaciones, ajustando su signo según corresponda.\n"
   ]
  },
  {
   "cell_type": "code",
   "execution_count": 4,
   "metadata": {},
   "outputs": [
    {
     "name": "stdout",
     "output_type": "stream",
     "text": [
      "Encoded: Khoor, Zruog!\n",
      "Decoded: Hello, World!\n"
     ]
    }
   ],
   "source": [
    "def caesar_cipher(text, shift, action):\n",
    "    \"\"\"\n",
    "    Procesa el texto aplicando el cifrado César.\n",
    "    Parámetros:\n",
    "      - text: mensaje a procesar.\n",
    "      - shift: valor de desplazamiento.\n",
    "      - action: 'encode' para encriptar, 'decode' para desencriptar.\n",
    "    \"\"\"\n",
    "    # Ajustar el desplazamiento según la acción deseada\n",
    "    if action.lower() == \"decode\":\n",
    "        shift *= -1                                                     #Ajusta la horientación\n",
    "    \n",
    "    output = \"\"\n",
    "    for char in text:\n",
    "        if char.lower() in alphabet:\n",
    "            current_index = alphabet.index(char.lower())\n",
    "            shifted_index = (current_index + shift) % len(alphabet)     #Ajusta desbordamiento\n",
    "            new_char = alphabet[shifted_index]\n",
    "            if char.isupper():\n",
    "                new_char = new_char.upper()\n",
    "            output += new_char\n",
    "        else:\n",
    "            output += char\n",
    "    return output\n",
    "\n",
    "# Ejemplo de prueba:\n",
    "print(\"Encoded:\", caesar_cipher(\"Hello, World!\", 3, \"encode\"))\n",
    "print(\"Decoded:\", caesar_cipher(\"Khoor, Zruog!\", 3, \"decode\"))\n"
   ]
  },
  {
   "cell_type": "markdown",
   "metadata": {},
   "source": [
    "#### 5. Interfaz de Usuario y Bucle de Ejecución\n",
    "\n",
    "Integramos un bucle que permita al usuario elegir entre encriptar o desencriptar mensajes, ingresar el texto y el valor de desplazamiento, y repetir el proceso hasta que decida salir.\n"
   ]
  },
  {
   "cell_type": "code",
   "execution_count": 5,
   "metadata": {},
   "outputs": [
    {
     "name": "stdout",
     "output_type": "stream",
     "text": [
      "\n",
      "Aquí está el resultado encoded: Khoor, Zruog!\n",
      "\n",
      "\n",
      "Aquí está el resultado decoded: Hello, World!\n",
      "\n",
      "¡Adiós! 😊\n"
     ]
    }
   ],
   "source": [
    "def run_caesar_cipher():\n",
    "    should_continue = True\n",
    "    while should_continue:\n",
    "        # Pedir al usuario la acción: encode o decode\n",
    "        action = input(\"¿Quieres 'encode' o 'decode'? \").lower()\n",
    "        # Pedir el mensaje a procesar\n",
    "        text = input(\"Ingresa el mensaje: \")\n",
    "        # Pedir el valor del desplazamiento\n",
    "        try:\n",
    "            shift = int(input(\"Ingresa el número de desplazamiento: \"))\n",
    "        except ValueError:\n",
    "            print(\"Por favor, ingresa un número válido para el desplazamiento.\")\n",
    "            continue\n",
    "        \n",
    "        result = caesar_cipher(text, shift, action)\n",
    "        print(f\"\\nAquí está el resultado {action}d: {result}\\n\")\n",
    "        \n",
    "        # Preguntar al usuario si desea continuar\n",
    "        restart = input(\"¿Quieres probar otra vez? Escribe 'sí' para continuar o 'no' para salir: \").lower()\n",
    "        if restart == \"no\":\n",
    "            should_continue = False\n",
    "            print(\"¡Adiós! 😊\")\n",
    "\n",
    "# Ejecutar el programa\n",
    "run_caesar_cipher()\n"
   ]
  },
  {
   "cell_type": "markdown",
   "metadata": {},
   "source": [
    "#### Conclusión\n",
    "\n",
    "En este proyecto hemos aplicado conceptos fundamentales de Python, tales como:\n",
    "- **Bucles y Condicionales:**  \n",
    "  Uso de `while` y estructuras `if-elif-else` para controlar el flujo de ejecución.\n",
    "- **Funciones:**  \n",
    "  Creación de funciones específicas para encriptar, desencriptar y combinar ambas funcionalidades en un solo método (`caesar_cipher`).\n",
    "- **Manejo de Cadenas y Listas:**  \n",
    "  Uso de índices y el método `index` para encontrar la posición de las letras, y la concatenación de strings para construir el mensaje final.\n",
    "- **Operación Módulo:**  \n",
    "  Uso del operador `%` para asegurar que el desplazamiento se mantenga dentro de los límites del alfabeto.\n",
    "- **Interacción con el Usuario:**  \n",
    "  Implementación de un bucle interactivo que permite al usuario elegir entre encriptar y desencriptar, ingresar datos y repetir la operación según lo desee.\n",
    "\n",
    "Este enfoque no solo refuerza los fundamentos de Python, sino que también demuestra habilidades en la resolución de problemas y en la construcción de aplicaciones interactivas.\n"
   ]
  }
 ],
 "metadata": {
  "kernelspec": {
   "display_name": "base",
   "language": "python",
   "name": "python3"
  },
  "language_info": {
   "codemirror_mode": {
    "name": "ipython",
    "version": 3
   },
   "file_extension": ".py",
   "mimetype": "text/x-python",
   "name": "python",
   "nbconvert_exporter": "python",
   "pygments_lexer": "ipython3",
   "version": "3.11.7"
  }
 },
 "nbformat": 4,
 "nbformat_minor": 2
}
