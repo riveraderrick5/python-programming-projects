{
 "cells": [
  {
   "cell_type": "markdown",
   "metadata": {},
   "source": [
    "## Day 4 Proyect: Rock Paper Scissors"
   ]
  },
  {
   "cell_type": "markdown",
   "metadata": {},
   "source": [
    "### Juego: Piedra, Papel o Tijeras\n",
    "\n",
    "En este notebook implementaremos un juego de **Piedra, Papel o Tijeras** en Python. La idea principal es que el usuario elija entre 0 (piedra), 1 (papel) o 2 (tijeras) y se compare su elección con la elección aleatoria generada para el computador. El juego utiliza arte ASCII para mostrar las opciones elegidas y contiene la lógica para determinar el ganador.\n",
    "\n",
    "\n",
    "**Lógica del Juego y Determinación del Ganador**  \n",
    "Victoria:\n",
    "- Piedra (0) gana a Tijeras (2)\n",
    "- Papel (1) gana a Piedra (0)\n",
    "- Tijeras (2) gana a Papel (1)\n",
    "\n",
    "Empate: Cuando la elección del usuario y del computador son iguales.    \n",
    "\n",
    "*Dato curioso: Existe una [competencia mundial de piedra, papel o tijera](https://wrpsa.com/)*"
   ]
  },
  {
   "cell_type": "markdown",
   "metadata": {},
   "source": [
    "#### 1. Importación de Módulos y Definición del Arte ASCII\n",
    "\n",
    "- Importamos el módulo `random` para generar números aleatorios. \n",
    "- Definimos el arte ASCII para cada una de las opciones: **piedra**, **papel** y **tijeras**. Estas imágenes se almacenan en variables y posteriormente se agrupan en una lista para facilitar su acceso mediante índices.\n"
   ]
  },
  {
   "cell_type": "code",
   "execution_count": 1,
   "metadata": {},
   "outputs": [],
   "source": [
    "# Importamos el módulo random para poder generar números aleatorios\n",
    "import random\n",
    "\n",
    "# Definición de arte ASCII para cada una de las opciones:\n",
    "rock = '''\n",
    "    _______\n",
    "---'   ____)\n",
    "      (_____)\n",
    "      (_____)\n",
    "      (____)\n",
    "---.__(___)\n",
    "'''\n",
    "\n",
    "paper = '''\n",
    "     _______\n",
    "---'    ____)____\n",
    "           ______)\n",
    "          _______)\n",
    "         _______)\n",
    "---.__________)\n",
    "'''\n",
    "\n",
    "scissors = '''\n",
    "    _______\n",
    "---'   ____)____\n",
    "          ______)\n",
    "       __________)\n",
    "      (____)\n",
    "---.__(___)\n",
    "'''\n",
    "\n",
    "# Creamos una lista que contiene los tres \"sprites\" del juego.\n",
    "# El orden es importante: 0 -> Piedra, 1 -> Papel, 2 -> Tijeras.\n",
    "game_images = [rock, paper, scissors]\n"
   ]
  },
  {
   "cell_type": "markdown",
   "metadata": {},
   "source": [
    "##### 2. Solicitud de la Entrada del Usuario\n",
    "\n",
    "- Utilizamos la función `input()` para solicitar al usuario que elija entre 0, 1 o 2. La entrada es capturada como cadena, por lo que la convertimos a entero. Si la conversión falla o el número no se encuentra en el rango permitido, se muestra un mensaje de error y se termina la ejecución del programa.\n",
    "- Una vez validada la entrada, se imprime el arte ASCII correspondiente a la elección del usuario. Luego, se genera de manera aleatoria la elección del computador utilizando `random.randint(0, 2)` y se muestra también su arte ASCII.\n",
    "\n"
   ]
  },
  {
   "cell_type": "code",
   "execution_count": 4,
   "metadata": {},
   "outputs": [
    {
     "name": "stdout",
     "output_type": "stream",
     "text": [
      "Tú elegiste:\n",
      "\n",
      "     _______\n",
      "---'    ____)____\n",
      "           ______)\n",
      "          _______)\n",
      "         _______)\n",
      "---.__________)\n",
      "\n",
      "El computador eligió:\n",
      "\n",
      "     _______\n",
      "---'    ____)____\n",
      "           ______)\n",
      "          _______)\n",
      "         _______)\n",
      "---.__________)\n",
      "\n",
      "Es un empate. 🤝\n"
     ]
    }
   ],
   "source": [
    "# Solicitamos al usuario que ingrese su elección.\n",
    "# El mensaje indica que debe escribir 0 para piedra, 1 para papel o 2 para tijeras.\n",
    "user_input = input(\"¿Qué eliges? Escribe 0 para Piedra, 1 para Papel o 2 para Tijeras:\\n\")\n",
    "\n",
    "# Convertimos la entrada a entero y manejamos el caso en que la entrada no sea un número.\n",
    "try:\n",
    "    user_choice = int(user_input)\n",
    "except ValueError:\n",
    "    print(\"Entrada inválida: debes escribir 0, 1 o 2. ¡Perdiste! 😢\")\n",
    "    exit()\n",
    "\n",
    "# Verificamos que la elección esté dentro del rango permitido.\n",
    "if user_choice < 0 or user_choice > 2:\n",
    "    print(\"Número inválido: ¡Perdiste! 😢\")\n",
    "    exit()\n",
    "\n",
    "\n",
    "# Imprimimos la elección del usuario mostrando el arte ASCII correspondiente.\n",
    "print(\"Tú elegiste:\")\n",
    "print(game_images[user_choice])\n",
    "\n",
    "# Generamos la elección del computador de manera aleatoria (entre 0 y 2).\n",
    "computer_choice = random.randint(0, 2)\n",
    "print(\"El computador eligió:\")\n",
    "print(game_images[computer_choice])\n",
    "\n",
    "# Determinamos el resultado del juego:\n",
    "if user_choice == computer_choice:\n",
    "    print(\"Es un empate. 🤝\")\n",
    "elif (user_choice == 0 and computer_choice == 2) or \\\n",
    "     (user_choice == 1 and computer_choice == 0) or \\\n",
    "     (user_choice == 2 and computer_choice == 1):\n",
    "    print(\"¡Ganaste! 🎉\")\n",
    "else:\n",
    "    print(\"¡Perdiste! 😢\")\n",
    "\n"
   ]
  },
  {
   "cell_type": "markdown",
   "metadata": {},
   "source": [
    "##### Conclusión\n",
    "\n",
    "Este proyecto te permite poner en práctica conceptos fundamentales de Python como:\n",
    "- Manejo de entrada y salida.\n",
    "- Uso de condicionales para la toma de decisiones.\n",
    "- Generación de números aleatorios.\n",
    "- Trabajo con listas y manejo de índices.\n",
    "- Uso de variables para almacenar y mostrar arte ASCII.\n"
   ]
  }
 ],
 "metadata": {
  "kernelspec": {
   "display_name": "base",
   "language": "python",
   "name": "python3"
  },
  "language_info": {
   "codemirror_mode": {
    "name": "ipython",
    "version": 3
   },
   "file_extension": ".py",
   "mimetype": "text/x-python",
   "name": "python",
   "nbconvert_exporter": "python",
   "pygments_lexer": "ipython3",
   "version": "3.11.7"
  }
 },
 "nbformat": 4,
 "nbformat_minor": 2
}
