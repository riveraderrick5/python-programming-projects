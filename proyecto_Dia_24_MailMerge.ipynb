{
 "cells": [
  {
   "cell_type": "markdown",
   "metadata": {},
   "source": [
    "## Day 24 Proyect: Mail Merge"
   ]
  },
  {
   "cell_type": "markdown",
   "metadata": {},
   "source": [
    "### Mail Merge – Proyecto del Día 24\n",
    "\n",
    "Este proyecto consiste en automatizar la creación de cartas personalizadas (mail merge).  \n",
    "El programa realiza lo siguiente:\n",
    "- Lee un archivo de nombres (`invited_names.txt`) y lo convierte en una lista (cada línea es un nombre).\n",
    "- Lee un archivo de carta base (`starting_letter.docx`) que contiene un _placeholder_ (por ejemplo, \"[name]\") para personalizar.\n",
    "- Reemplaza el _placeholder_ por cada nombre (procesado con `strip()` para eliminar espacios y saltos de línea).\n",
    "- Crea un nuevo archivo para cada nombre en la carpeta de salida, con un nombre del estilo `letter_for_{name}.docx`.\n",
    "\n",
    "Este proyecto refuerza el uso de operaciones de entrada/salida de archivos, y el manejo de cadenas con métodos como `readlines()`, `replace()` y `strip()`.\n"
   ]
  },
  {
   "cell_type": "markdown",
   "metadata": {},
   "source": [
    "#### Paso 1: Lectura y Procesamiento del Archivo de Nombres\n",
    "\n",
    "En este bloque se abre el archivo de nombres (usando un _path_ relativo), se leen todas las líneas y se convierten en una lista.  \n",
    "Cada nombre se procesa con `strip()` para eliminar espacios y saltos de línea.\n"
   ]
  },
  {
   "cell_type": "code",
   "execution_count": null,
   "metadata": {},
   "outputs": [],
   "source": [
    "# ### invited_names.txt:\n",
    "# Aang\n",
    "# Zuko\n",
    "# Appa\n",
    "# Katara\n",
    "# Sokka\n",
    "# Momo\n",
    "# Uncle Iroh\n",
    "# Toph"
   ]
  },
  {
   "cell_type": "code",
   "execution_count": null,
   "metadata": {},
   "outputs": [],
   "source": [
    "# Abrir y leer el archivo de nombres para convertirlos en una lista.\n",
    "with open(\"./Input/Names/invited_names.txt\", mode=\"r\") as names_file:\n",
    "    # Utilizamos readlines() para obtener una lista en la que cada elemento es una línea del archivo.\n",
    "    names_list = names_file.readlines()\n"
   ]
  },
  {
   "cell_type": "markdown",
   "metadata": {},
   "source": [
    "#### Paso 2: Lectura del Archivo de Carta Base\n",
    "\n",
    "Se abre el archivo de la carta base y se lee todo su contenido en una variable (tipo string).  \n",
    "Este texto contiene un _placeholder_ (por ejemplo, \"[name]\") que se reemplazará por cada invitado.\n"
   ]
  },
  {
   "cell_type": "code",
   "execution_count": null,
   "metadata": {},
   "outputs": [],
   "source": [
    "# ### starting_letter.docx:\n",
    "# Dear [name],\n",
    "\n",
    "# You are invited to my birthday this Saturday.\n",
    "\n",
    "# Hope you can make it!\n",
    "\n",
    "# Angela"
   ]
  },
  {
   "cell_type": "code",
   "execution_count": null,
   "metadata": {},
   "outputs": [],
   "source": [
    "# Abrir y leer el archivo de la carta base\n",
    "with open(\"./Input/Letters/starting_letter.docx\", mode=\"r\") as letter_file:\n",
    "    letter_contents = letter_file.read()\n",
    "\n",
    "# Opcional: Imprimir parte del contenido para comprobar\n",
    "print(letter_contents[:200])  # Imprime los primeros 200 caracteres para referencia\n"
   ]
  },
  {
   "cell_type": "markdown",
   "metadata": {},
   "source": [
    "#### Paso 3: Definición del Placeholder\n",
    "\n",
    "Se define una constante para el _placeholder_ que aparecerá en la carta base, a reemplazar por el nombre de cada invitado.\n"
   ]
  },
  {
   "cell_type": "code",
   "execution_count": 1,
   "metadata": {},
   "outputs": [],
   "source": [
    "PLACEHOLDER = \"[name]\""
   ]
  },
  {
   "cell_type": "markdown",
   "metadata": {},
   "source": [
    "#### Paso 4: Generación de Cartas Personalizadas\n",
    "\n",
    "Para cada nombre en la lista de invitados, se reemplaza el _placeholder_ en el contenido de la carta con el nombre procesado y se guarda el resultado en un nuevo archivo.\n"
   ]
  },
  {
   "cell_type": "code",
   "execution_count": null,
   "metadata": {},
   "outputs": [],
   "source": [
    "# Abrir y leer el archivo de la carta base\n",
    "with open(\"./Input/Letters/starting_letter.docx\", mode=\"r\") as letter_file:\n",
    "    letter_contents = letter_file.read()\n",
    "    for name in names_list:\n",
    "        # Limpiar el nombre de espacios en blanco al principio y al final\n",
    "        stripped_name = name.strip()\n",
    "        new_letter = letter_contents.replace(PLACEHOLDER, stripped_name)\n",
    "        # Crear un nuevo archivo para cada carta personalizada \n",
    "        with open(f\"./Output/ReadyToSend/letter_for_{stripped_name}.docx\", mode=\"w\") as completed_letter:\n",
    "            completed_letter.write(new_letter)\n",
    "\n",
    "    "
   ]
  },
  {
   "cell_type": "markdown",
   "metadata": {},
   "source": [
    "#### Conclusión\n",
    "\n",
    "En este proyecto hemos aplicado técnicas esenciales de manejo de archivos y procesamiento de cadenas en Python:\n",
    "- **Lectura de archivos:**  \n",
    "  Uso de `readlines()` para convertir un archivo en una lista de cadenas.\n",
    "- **Procesamiento de cadenas:**  \n",
    "  Uso de `strip()` para eliminar espacios y saltos de línea, y `replace()` para sustituir un _placeholder_ por nombres reales.\n",
    "- **Escritura de archivos:**  \n",
    "  Creación de nuevos archivos de salida (cartas personalizadas) con el contenido modificado.\n",
    "- **Organización del Código:**  \n",
    "  El proyecto se divide en secciones claras (lectura de datos, procesamiento, generación y escritura de resultados) para facilitar la comprensión y mantenimiento.\n",
    "\n",
    "Este proyecto demuestra cómo automatizar la personalización de documentos utilizando técnicas básicas de Input/Output en Python.\n"
   ]
  }
 ],
 "metadata": {
  "kernelspec": {
   "display_name": "base",
   "language": "python",
   "name": "python3"
  },
  "language_info": {
   "codemirror_mode": {
    "name": "ipython",
    "version": 3
   },
   "file_extension": ".py",
   "mimetype": "text/x-python",
   "name": "python",
   "nbconvert_exporter": "python",
   "pygments_lexer": "ipython3",
   "version": "3.11.7"
  }
 },
 "nbformat": 4,
 "nbformat_minor": 2
}
