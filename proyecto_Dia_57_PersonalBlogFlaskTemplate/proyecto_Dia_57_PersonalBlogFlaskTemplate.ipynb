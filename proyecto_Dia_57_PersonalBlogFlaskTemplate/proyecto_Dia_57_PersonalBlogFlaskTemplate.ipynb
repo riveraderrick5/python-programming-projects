{
 "cells": [
  {
   "cell_type": "markdown",
   "id": "93e6ea37",
   "metadata": {},
   "source": [
    "## Day 57 Proyect: Flask Template Personal Blog"
   ]
  },
  {
   "cell_type": "markdown",
   "id": "b6ec620d",
   "metadata": {},
   "source": [
    "### Proyecto Día 57 – Blog Personal con Flask + Templating 📝🌐\n",
    "\n",
    "En este proyecto construiremos un blog básico utilizando **Flask** y la técnica de **templating con Jinja**.  \n",
    "Renderizaremos dinámicamente una lista de entradas de blog desde una API externa, y también generaremos una vista individual para cada entrada.\n",
    "\n",
    "🧩 Tecnologías y conceptos aplicados:\n",
    "- Flask + renderización con `render_template`\n",
    "- Consumo de API externa (JSON) con `requests`\n",
    "- Rutas dinámicas (`/post/<int:post_id>`)\n",
    "- Separación de lógica y presentación con templates (`index.html`, `post.html`)"
   ]
  },
  {
   "cell_type": "markdown",
   "id": "266fe698",
   "metadata": {},
   "source": [
    "![Personal Blog](./images/PersonalBlog.png)\n",
    "\n",
    "*Personal Blog*"
   ]
  },
  {
   "cell_type": "markdown",
   "id": "dd984c8b",
   "metadata": {},
   "source": [
    "#### 🟨 Paso 1 – Preparar estructura del proyecto Flask\n",
    "\n",
    "1. Crear proyecto en VS Code con estructura básica:\n",
    "\n",
    "📁 Es importante mantener esta estructura para que Flask pueda servir correctamente los archivos.\n"
   ]
  },
  {
   "cell_type": "code",
   "execution_count": null,
   "id": "e5df7b2b",
   "metadata": {},
   "outputs": [],
   "source": [
    "proyecto_Dia_57_PersonalBlogFlaskTemplate/\n",
    "│\n",
    "├── static/\n",
    "│   ├── styles.css\n",
    "├── templates/\n",
    "│   ├── index.html\n",
    "│   └── post.html\n",
    "└── images/\n",
    "    └── PersonalBlog.png"
   ]
  },
  {
   "cell_type": "markdown",
   "id": "1fc698b0",
   "metadata": {},
   "source": [
    "#### 🧰 Paso 2 - Importar Librerías Necesarias\n",
    "\n",
    "Necesitamos dos librerías principales:\n",
    "- **Flask**: Para crear y gestionar nuestra aplicación web\n",
    "- **Requests**: Para realizar peticiones HTTP a la API externa"
   ]
  },
  {
   "cell_type": "code",
   "execution_count": null,
   "id": "42359776",
   "metadata": {},
   "outputs": [],
   "source": [
    "# 📚 Importación de librerías\n",
    "from flask import Flask, render_template                # Librería Flask para crear la app\n",
    "import requests                                         # Librería requests para hacer peticiones HTTP  "
   ]
  },
  {
   "cell_type": "markdown",
   "id": "47748b7b",
   "metadata": {},
   "source": [
    "#### 🏗️ Paso 3 - Configurar la Aplicación Flask\n",
    "\n",
    "En este paso:\n",
    "1. Inicializamos la aplicación Flask\n",
    "2. Definimos la URL de la API que contiene nuestros posts\n",
    "3. Recuperamos los datos JSON de la API\n",
    "4. Configuramos las rutas para la navegación"
   ]
  },
  {
   "cell_type": "code",
   "execution_count": null,
   "id": "521cb820",
   "metadata": {},
   "outputs": [
    {
     "name": "stdout",
     "output_type": "stream",
     "text": [
      " * Serving Flask app '__main__'\n",
      " * Debug mode: on\n"
     ]
    },
    {
     "name": "stderr",
     "output_type": "stream",
     "text": [
      "WARNING: This is a development server. Do not use it in a production deployment. Use a production WSGI server instead.\n",
      " * Running on http://127.0.0.1:5000\n",
      "Press CTRL+C to quit\n",
      "127.0.0.1 - - [20/May/2025 22:32:43] \"GET / HTTP/1.1\" 200 -\n",
      "127.0.0.1 - - [20/May/2025 22:32:43] \"GET /static/css/styles.css HTTP/1.1\" 200 -\n",
      "127.0.0.1 - - [20/May/2025 22:32:47] \"GET /post/1 HTTP/1.1\" 200 -\n",
      "127.0.0.1 - - [20/May/2025 22:32:47] \"GET /static/css/styles.css HTTP/1.1\" 304 -\n"
     ]
    }
   ],
   "source": [
    "# 🚀 Inicializar la aplicación Flask\n",
    "app = Flask(__name__)\n",
    "\n",
    "# 🔗 Definir URL de la API y obtener datos\n",
    "url = 'https://api.npoint.io/c790b4d5cab58020d391'\n",
    "all_posts = requests.get(url).json()\n",
    "\n",
    "# 🏠 Ruta principal - Muestra todos los posts\n",
    "@app.route('/')\n",
    "def home():\n",
    "    # Renderiza la plantilla index.html y pasa la lista de posts\n",
    "    return render_template(\"index.html\", posts=all_posts)\n",
    "\n",
    "# 📝 Ruta para mostrar un post individual\n",
    "@app.route('/post/<int:post_id>')\n",
    "def blog(post_id):\n",
    "    # Renderiza la plantilla post.html con el post específico\n",
    "    return render_template(\"post.html\", post_id=post_id, posts=all_posts)\n",
    "\n",
    "\n",
    "# ▶️ Ejecutar la aplicación si este archivo es el principal\n",
    "if __name__ == \"__main__\":\n",
    "    app.run(debug=True          # ⚙️ Para realizar cambios automáticamente\n",
    "        ,use_reloader=False     # 🔄 Para evitar que se ejecute dos veces\n",
    "        ,threaded=True          # 🧵 Para permitir múltiples conexiones simultáneas       \n",
    "    )\n"
   ]
  },
  {
   "cell_type": "markdown",
   "id": "71717687",
   "metadata": {},
   "source": [
    "#### 🧠 Conclusión\n",
    "\n",
    "Este proyecto nos permite comprender cómo conectar todos los componentes de una web dinámica con Flask:\n",
    "\n",
    "✅ Acceso a datos desde APIs públicas  \n",
    "✅ Uso de rutas dinámicas y parámetros en URL  \n",
    "✅ Templating con Jinja para reutilizar HTML  \n",
    "✅ Separación entre lógica (Python) y presentación (HTML)"
   ]
  }
 ],
 "metadata": {
  "kernelspec": {
   "display_name": "base",
   "language": "python",
   "name": "python3"
  },
  "language_info": {
   "codemirror_mode": {
    "name": "ipython",
    "version": 3
   },
   "file_extension": ".py",
   "mimetype": "text/x-python",
   "name": "python",
   "nbconvert_exporter": "python",
   "pygments_lexer": "ipython3",
   "version": "3.11.7"
  }
 },
 "nbformat": 4,
 "nbformat_minor": 5
}
