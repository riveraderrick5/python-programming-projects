{
 "cells": [
  {
   "cell_type": "markdown",
   "metadata": {},
   "source": [
    "## Day 12 Proyect: GuessTheNumber"
   ]
  },
  {
   "cell_type": "markdown",
   "metadata": {},
   "source": [
    "### Juego de Adivinanza de Números – Proyecto del Día 12 🎲\n",
    "\n",
    "En este proyecto implementamos un **juego de adivinanza** en Python.  \n",
    "\n",
    "El programa realiza las siguientes tareas:\n",
    "- Genera un número aleatorio entre 1 y 100.\n",
    "- Solicita al usuario que elija un nivel de dificultad (\"facil\" o \"dificil\"), lo que determinará la cantidad de intentos disponibles.\n",
    "- Permite al usuario adivinar el número, dando feedback si el número ingresado es \"Alto\" o \"Bajo\".\n",
    "- Controla el número de intentos y finaliza el juego cuando el usuario adivina el número o se agotan los intentos.\n",
    "- Al finalizar, muestra el resultado (acertó o perdió) y, opcionalmente, permite reiniciar el juego.\n",
    "\n",
    "Este proyecto pone en práctica el manejo de bucles, condicionales, funciones, y la interacción con el usuario.\n"
   ]
  },
  {
   "cell_type": "markdown",
   "metadata": {},
   "source": [
    "#### Contexto y Reglas del Juego\n",
    "\n",
    "El juego consiste en adivinar un número secreto generado aleatoriamente.  \n",
    "El usuario elige el nivel de dificultad, lo que afecta el número de intentos:\n",
    "- **Facil:** 10 intentos.\n",
    "- **Dificil:** 5 intentos.\n",
    "\n",
    "Durante el juego, se informa al usuario si su suposición es demasiado alta o demasiado baja, y se muestra el número de intentos restantes.\n"
   ]
  },
  {
   "cell_type": "markdown",
   "metadata": {},
   "source": [
    "#### 1. Configuración Inicial y Selección de Dificultad\n",
    "\n",
    "Definimos constantes para los intentos disponibles en cada nivel y una función para configurar la dificultad.\n"
   ]
  },
  {
   "cell_type": "code",
   "execution_count": 1,
   "metadata": {},
   "outputs": [],
   "source": [
    "# Importamos la librería para poder generar números aleatorios\n",
    "import random"
   ]
  },
  {
   "cell_type": "code",
   "execution_count": 2,
   "metadata": {},
   "outputs": [
    {
     "name": "stdout",
     "output_type": "stream",
     "text": [
      "Tienes 5 intentos para adivinar el número.\n"
     ]
    }
   ],
   "source": [
    "# Constantes globales para la cantidad de intentos según el nivel de dificultad\n",
    "turnos_nivel_facil = 10\n",
    "turnos_nivel_dificil = 5\n",
    "\n",
    "def establecer_dificultad():\n",
    "    \"\"\"\n",
    "    Solicita al usuario que elija un nivel de dificultad y retorna la cantidad de intentos correspondientes.\n",
    "    \"\"\"\n",
    "    level = input(\"Elige un nivel de dificultad. Escribe 'f' para fácil o 'd' para difícil: \").lower()\n",
    "    if level == \"f\":\n",
    "        return turnos_nivel_facil\n",
    "    elif level == \"d\":\n",
    "        return turnos_nivel_dificil\n",
    "    else:\n",
    "        print(\"Entrada no válida. Se asigna el nivel 'dificl' por defecto.\")\n",
    "        return turnos_nivel_dificil\n",
    "\n",
    "# Ejemplo de prueba:\n",
    "turnos = establecer_dificultad()\n",
    "print(f\"Tienes {turnos} intentos para adivinar el número.\")\n"
   ]
  },
  {
   "cell_type": "markdown",
   "metadata": {},
   "source": [
    "#### 2. Generación del Número Secreto y Mensaje Inicial\n",
    "\n",
    "Se genera un número aleatorio entre 1 y 100 y se informa al usuario sobre el inicio del juego.\n"
   ]
  },
  {
   "cell_type": "code",
   "execution_count": 3,
   "metadata": {},
   "outputs": [
    {
     "name": "stdout",
     "output_type": "stream",
     "text": [
      "¡Bienvenido al juego de adivinanza!\n",
      "Estoy pensando en un número entre 1 y 100.\n",
      "(DEBUG) El número secreto es: 23\n"
     ]
    }
   ],
   "source": [
    "# Generar el número secreto (entre 1 y 100, ambos incluidos)\n",
    "numero_secreto = random.randint(1, 100)\n",
    "\n",
    "print(\"¡Bienvenido al juego de adivinanza!\")\n",
    "print(\"Estoy pensando en un número entre 1 y 100.\")\n",
    "# (Para depuración, se puede imprimir el número secreto)\n",
    "print(f\"(DEBUG) El número secreto es: {numero_secreto}\")\n"
   ]
  },
  {
   "cell_type": "markdown",
   "metadata": {},
   "source": [
    "#### 3. Bucle Principal y Función revisar_respuesta()\n",
    "\n",
    "Creamos la función `revisar_respuesta()` que recibe la suposición del usuario, el número secreto y los intentos actuales, imprime feedback (\"Alto\", \"Bajo\") y retorna los intentos restantes.\n",
    "Luego, implementamos el bucle principal que permite adivinar el número hasta que se acierte o se agoten los intentos.\n"
   ]
  },
  {
   "cell_type": "code",
   "execution_count": 4,
   "metadata": {},
   "outputs": [
    {
     "name": "stdout",
     "output_type": "stream",
     "text": [
      "(DEBUG) El número secreto es: 23\n",
      "Tu suposición: 10\n",
      "Bajo.\n",
      "\n"
     ]
    },
    {
     "data": {
      "text/plain": [
       "4"
      ]
     },
     "execution_count": 4,
     "metadata": {},
     "output_type": "execute_result"
    }
   ],
   "source": [
    "def revisar_respuesta(respuesta, numero_secreto, turnos):\n",
    "    \"\"\"\n",
    "    Compara la suposición del usuario con el número secreto.\n",
    "    Retorna el número de intentos restantes después de dar feedback.\n",
    "    \"\"\"\n",
    "    if respuesta > numero_secreto:\n",
    "        print(\"Alto.\\n\")\n",
    "        return turnos - 1\n",
    "    elif respuesta < numero_secreto:\n",
    "        print(\"Bajo.\\n\")\n",
    "        return turnos - 1\n",
    "    elif respuesta == numero_secreto:\n",
    "        # Acierto, no se reduce turnos\n",
    "        return turnos\n",
    "    else:\n",
    "        print(\"Entrada no válida. Se acaba el juego.\")\n",
    "        return\n",
    "\n",
    "# Ejemplo de prueba: \n",
    "numero_secreto_prueba = random.randint(1, 100)                    # Genera el número secreto (entre 1 y 100, ambos incluidos)\n",
    "turnos_pruebas = establecer_dificultad()                          # Genera el número de turnos/intentos\n",
    "respuesta_prueba = int(input(\"Haz tu suposición: \"))\n",
    "print(f\"(DEBUG) El número secreto es: {numero_secreto}\")  \n",
    "print(f\"Tu suposición: {respuesta_prueba}\")    \n",
    "revisar_respuesta(respuesta_prueba, numero_secreto_prueba, turnos_pruebas)"
   ]
  },
  {
   "cell_type": "markdown",
   "metadata": {},
   "source": [
    "#### 4. Lógica Principal del Juego\n",
    "\n",
    "Al finalizar la partida, se pregunta al usuario si desea volver a jugar.  \n",
    "Si la respuesta es 'sí', se \"limpia\" la pantalla imprimiendo múltiples saltos de línea y se reinicia el juego.\n",
    "\n"
   ]
  },
  {
   "cell_type": "code",
   "execution_count": 5,
   "metadata": {},
   "outputs": [],
   "source": [
    "def jugar_guessTheNumber():    \n",
    "    # Reiniciar variables globales para cada partida\n",
    "    numero_secreto = random.randint(1, 100)            # Genera el número secreto (entre 1 y 100, ambos incluidos)\n",
    "    turnos = establecer_dificultad()                   # Genera el número de turnos/intentos\n",
    "    respuesta = None                                   # Inicializar la variable respuesta con un valor fuera del rango\n",
    "\n",
    "    print(\"Estoy pensando en un número entre 1 y 100.\")\n",
    "    #print(f\"(DEBUG) El número secreto es: {numero_secreto}\")\n",
    "    \n",
    "    # Bucle principal del juego\n",
    "    while respuesta != numero_secreto and turnos > 0:\n",
    "        print(f\"Te quedan {turnos} intentos.\")\n",
    "        try:\n",
    "            respuesta = int(input(\"Haz tu suposición: \"))\n",
    "            print(f\"Tu suposición: {respuesta}\")\n",
    "        except ValueError:\n",
    "            print(\"Por favor, ingresa un número válido.\\n\")\n",
    "            continue\n",
    "\n",
    "        turnos = revisar_respuesta(respuesta, numero_secreto, turnos)\n",
    "        \n",
    "        # Si se han agotado los intentos, finalizar el juego\n",
    "        if turnos == 0:\n",
    "            print(\"¡Te has quedado sin intentos! Has perdido.\")\n",
    "            print(f\"El número secreto era: {numero_secreto}\")\n",
    "            break\n",
    "\n",
    "    # Si el usuario adivina correctamente\n",
    "    if respuesta == numero_secreto:\n",
    "        print(f\"¡Felicidades! Adivinaste el número: {numero_secreto}\")\n"
   ]
  },
  {
   "cell_type": "code",
   "execution_count": 6,
   "metadata": {},
   "outputs": [
    {
     "name": "stdout",
     "output_type": "stream",
     "text": [
      "¡Bienvenido al juego de adivinanza!\n",
      "\n",
      "\n",
      "\n",
      "Estoy pensando en un número entre 1 y 100.\n",
      "Te quedan 10 intentos.\n",
      "Tu suposición: 50\n",
      "Alto.\n",
      "\n",
      "Te quedan 9 intentos.\n",
      "Tu suposición: 25\n",
      "Bajo.\n",
      "\n",
      "Te quedan 8 intentos.\n",
      "Tu suposición: 32\n",
      "Bajo.\n",
      "\n",
      "Te quedan 7 intentos.\n",
      "Tu suposición: 40\n",
      "Alto.\n",
      "\n",
      "Te quedan 6 intentos.\n",
      "Tu suposición: 35\n",
      "Bajo.\n",
      "\n",
      "Te quedan 5 intentos.\n",
      "Tu suposición: 37\n",
      "Bajo.\n",
      "\n",
      "Te quedan 4 intentos.\n",
      "Tu suposición: 38\n",
      "¡Felicidades! Adivinaste el número: 38\n"
     ]
    }
   ],
   "source": [
    "print(\"¡Bienvenido al juego de adivinanza!\")\n",
    "\n",
    "# Bucle para jugar de manera continua\n",
    "while input(\"¿Quieres jugar Guess The Number? Escribe 's' para sí o 'n' para no: \").lower() == \"s\":\n",
    "    # \"Limpiar\" la pantalla imprimiendo saltos de línea\n",
    "    print(\"\\n\" * 2)\n",
    "    jugar_guessTheNumber()"
   ]
  },
  {
   "cell_type": "markdown",
   "metadata": {},
   "source": [
    "#### Conclusión\n",
    "\n",
    "En este proyecto hemos aplicado conceptos fundamentales de Python, tales como:\n",
    "- **Funciones:**  \n",
    "  Creación de funciones para configurar la dificultad (`establecer_dificultad()`) y para verificar la suposición (`revisar_respuesta()`).\n",
    "- **Bucles y Condicionales:**  \n",
    "  Uso de bucles `while` para repetir las suposiciones y condicionales para proporcionar feedback y decrementar el número de intentos.\n",
    "- **Manejo de Entradas y Conversión de Tipos:**  \n",
    "  Uso de `input()` y conversión a `int` para procesar la suposición del usuario.\n",
    "- **Interacción con el Usuario:**  \n",
    "  Mensajes claros que informan sobre el número de intentos restantes, si la suposición es demasiado alta o baja, y la opción de reiniciar el juego.\n",
    "\n",
    "Este enfoque refuerza los fundamentos de Python y demuestra cómo estructurar y modularizar un programa interactivo.\n"
   ]
  }
 ],
 "metadata": {
  "kernelspec": {
   "display_name": "base",
   "language": "python",
   "name": "python3"
  },
  "language_info": {
   "codemirror_mode": {
    "name": "ipython",
    "version": 3
   },
   "file_extension": ".py",
   "mimetype": "text/x-python",
   "name": "python",
   "nbconvert_exporter": "python",
   "pygments_lexer": "ipython3",
   "version": "3.11.7"
  }
 },
 "nbformat": 4,
 "nbformat_minor": 2
}
