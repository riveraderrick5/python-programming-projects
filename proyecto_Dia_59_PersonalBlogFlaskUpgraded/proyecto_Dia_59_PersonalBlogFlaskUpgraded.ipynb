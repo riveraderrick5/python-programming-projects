{
 "cells": [
  {
   "cell_type": "markdown",
   "id": "93e6ea37",
   "metadata": {},
   "source": [
    "## Day 59 Proyect: Flask Template Personal Blog (UPGRADED)"
   ]
  },
  {
   "cell_type": "markdown",
   "id": "f6775a06",
   "metadata": {},
   "source": [
    "### Proyecto Día 59: Blog Mejorado con Bootstrap 📝🌐\n",
    "\n",
    "En este proyecto, aplicamos lo aprendido en Bootstrap para transformar un blog estático en una aplicación web dinámica, estilizada y responsive.\n",
    "\n",
    "🛠️ **Tecnologías utilizadas:**\n",
    "- Flask\n",
    "- Bootstrap 5 (Clean Blog Template)\n",
    "- Jinja2 (para templado HTML)\n",
    "- API externa (npoint.io para datos de blog)\n",
    "\n",
    "🎯 **Objetivos principales:**\n",
    "- Integrar un template Bootstrap profesional.\n",
    "- Renderizar contenido dinámico desde una API.\n",
    "- Utilizar rutas dinámicas en Flask.\n",
    "- Optimizar la estructura del proyecto con `include` de Jinja.\n"
   ]
  },
  {
   "cell_type": "markdown",
   "id": "266fe698",
   "metadata": {},
   "source": [
    "![Personal Blog](./static/assets/img/index-bg.jpg)\n",
    "\n",
    "*Personal Blog*"
   ]
  },
  {
   "cell_type": "markdown",
   "id": "dd984c8b",
   "metadata": {},
   "source": [
    "#### 🟨 Paso 1 – Preparar estructura del proyecto 🗂️ \n",
    "\n",
    "1. Crear proyecto en VS Code con estructura básica:\n",
    "\n",
    "📁 Es importante mantener esta estructura para que Flask pueda servir correctamente los archivos."
   ]
  },
  {
   "cell_type": "markdown",
   "id": "75b94755",
   "metadata": {},
   "source": [
    "```\n",
    "📁 proyecto_Dia_59_PersonalBlogFlaskUpgraded/\n",
    "│\n",
    "├── 📁 static/\n",
    "│   ├── 📁 assets/\n",
    "│   ├── 📁 css/\n",
    "│   └── 📁 js/\n",
    "│\n",
    "├── 📁 templates/\n",
    "│   ├── 📄 index.html\n",
    "│   ├── 📄 post.html\n",
    "│   ├── 📄 about.html\n",
    "│   ├── 📄 contact.html\n",
    "│   ├── 📄 header.html\n",
    "│   └── 📄 footer.html\n",
    "│\n",
    "└── 📔 proyecto_Dia_59_PersonalBlogFlaskUpgraded.ipynb\n",
    "```"
   ]
  },
  {
   "cell_type": "markdown",
   "id": "1fc698b0",
   "metadata": {},
   "source": [
    "#### 🧰 Paso 2 - Importar Librerías Necesarias\n",
    "\n",
    "Necesitamos dos librerías principales:\n",
    "- **Flask**: Para crear y gestionar nuestra aplicación web\n",
    "- **Requests**: Para realizar peticiones HTTP a la API externa"
   ]
  },
  {
   "cell_type": "code",
   "execution_count": 1,
   "id": "42359776",
   "metadata": {},
   "outputs": [],
   "source": [
    "# 📚 Importación de librerías\n",
    "from flask import Flask, render_template                # Librería Flask para crear la app\n",
    "import requests                                         # Librería requests para hacer peticiones HTTP  "
   ]
  },
  {
   "cell_type": "markdown",
   "id": "47748b7b",
   "metadata": {},
   "source": [
    "#### 🏗️ Paso 3 - Configurar la Aplicación Flask\n",
    "\n",
    "En este paso:\n",
    "1. Inicializamos la aplicación Flask\n",
    "2. Definimos la URL de la API que contiene nuestros posts\n",
    "3. Recuperamos los datos JSON de la API\n",
    "4. Configuramos las rutas para la navegación"
   ]
  },
  {
   "cell_type": "code",
   "execution_count": 2,
   "id": "4fa05256",
   "metadata": {},
   "outputs": [
    {
     "name": "stdout",
     "output_type": "stream",
     "text": [
      " * Serving Flask app '__main__'\n",
      " * Debug mode: on\n"
     ]
    },
    {
     "name": "stderr",
     "output_type": "stream",
     "text": [
      "WARNING: This is a development server. Do not use it in a production deployment. Use a production WSGI server instead.\n",
      " * Running on http://127.0.0.1:5000\n",
      "Press CTRL+C to quit\n",
      "127.0.0.1 - - [14/Jun/2025 22:42:56] \"GET / HTTP/1.1\" 200 -\n",
      "127.0.0.1 - - [14/Jun/2025 22:42:57] \"GET / HTTP/1.1\" 200 -\n",
      "127.0.0.1 - - [14/Jun/2025 22:42:58] \"GET / HTTP/1.1\" 200 -\n",
      "127.0.0.1 - - [14/Jun/2025 22:42:59] \"GET /static/css/styles.css?v=20250614 HTTP/1.1\" 304 -\n",
      "127.0.0.1 - - [14/Jun/2025 22:42:59] \"GET /static/js/scripts.js HTTP/1.1\" 304 -\n",
      "127.0.0.1 - - [14/Jun/2025 22:42:59] \"GET /static/assets/img/Blog_HomeBackgroud.jpg HTTP/1.1\" 304 -\n"
     ]
    }
   ],
   "source": [
    "app = Flask(__name__)\n",
    "\n",
    "# 🔗 Definir URL de la API y obtener datos\n",
    "url = 'https://api.npoint.io/39bb041879227bd07918'\n",
    "posts = requests.get(url).json()\n",
    "\n",
    "@app.route('/')\n",
    "def get_all_posts():\n",
    "    # Pass the list of posts to the template\n",
    "    return render_template(\"index.html\", all_posts=posts)\n",
    "\n",
    "@app.route(\"/about\")\n",
    "def about():\n",
    "    return render_template(\"about.html\")\n",
    "\n",
    "@app.route(\"/contact\")\n",
    "def contact():\n",
    "    return render_template(\"contact.html\")\n",
    "\n",
    "@app.route(\"/post/<int:index>\")\n",
    "def show_post(index):\n",
    "    requested_post = None\n",
    "    for blog_post in posts:\n",
    "        if blog_post[\"id\"] == index:\n",
    "            requested_post = blog_post\n",
    "    # Make sure we're passing the post data to the template\n",
    "    return render_template(\"post.html\", post=requested_post)\n",
    "\n",
    "# ▶️ Ejecutar la aplicación si este archivo es el principal\n",
    "if __name__ == \"__main__\":\n",
    "    app.run(debug=True          # ⚙️ Para realizar cambios automáticamente\n",
    "        ,use_reloader=False     # 🔄 Para evitar que se ejecute dos veces\n",
    "        ,threaded=True          # 🧵 Para permitir múltiples conexiones simultáneas       \n",
    "    )\n"
   ]
  },
  {
   "cell_type": "markdown",
   "id": "fff7bdbe",
   "metadata": {},
   "source": [
    "#### 🧠 Conclusión\n",
    "\n",
    "Este proyecto nos permitió aplicar los fundamentos de **desarrollo frontend** usando **Bootstrap 5**  y **Flask** para crear interfaces profesionales sin necesidad de escribir mucho CSS personalizado.\n",
    "\n",
    "- Usar plantillas avanzadas (`include`, `url_for`) para modularizar código HTML.\n",
    "- Integrar datos externos con APIs (JSON vía npoint.io).\n",
    "- Aplicar Bootstrap a sitios reales para mejorar diseño y responsividad.\n",
    "- Renderizar rutas dinámicas (detalle de post por ID).\n"
   ]
  }
 ],
 "metadata": {
  "kernelspec": {
   "display_name": "base",
   "language": "python",
   "name": "python3"
  },
  "language_info": {
   "codemirror_mode": {
    "name": "ipython",
    "version": 3
   },
   "file_extension": ".py",
   "mimetype": "text/x-python",
   "name": "python",
   "nbconvert_exporter": "python",
   "pygments_lexer": "ipython3",
   "version": "3.11.7"
  }
 },
 "nbformat": 4,
 "nbformat_minor": 5
}
