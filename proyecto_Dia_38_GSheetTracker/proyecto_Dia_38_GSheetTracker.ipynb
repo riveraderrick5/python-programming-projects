{
 "cells": [
  {
   "cell_type": "markdown",
   "metadata": {},
   "source": [
    "## Day 38 Proyect: Exercise Tracker with GSheets"
   ]
  },
  {
   "cell_type": "markdown",
   "metadata": {},
   "source": [
    "### Proyecto Día 38 – Exercise Tracker with Google Sheets 🏃📊\n",
    "\n",
    "Este proyecto permite:\n",
    "- Escribir en lenguaje natural tu actividad física diaria.\n",
    "- Obtener automáticamente las calorías, duración e intensidad usando la API de Nutritionix.\n",
    "- Registrar estos datos en una hoja de cálculo de Google Sheets con Sheety.\n",
    "\n",
    "📦 Tecnologías utilizadas:\n",
    "- `requests` y `datetime`\n",
    "- API de [Nutritionix](https://www.nutritionix.com/business/api)\n",
    "- API de [Sheety](https://sheety.co/)\n",
    "- Autenticación con token (Bearer)\n",
    "- Variables de entorno (`os.environ`)\n"
   ]
  },
  {
   "cell_type": "markdown",
   "metadata": {},
   "source": [
    "#### Paso 1: Consultar Nutritionix con lenguaje natural 🧠\n",
    "\n",
    "Usamos la API para interpretar frases como:  \n",
    "➡️ \"Corrí 5km y anduve en bici 30 minutos\"\n",
    "\n",
    "Nutritionix devuelve datos como duración, calorías y tipo de ejercicio."
   ]
  },
  {
   "cell_type": "code",
   "execution_count": 1,
   "metadata": {},
   "outputs": [],
   "source": [
    "import requests                     # La librería para trabajar con HTTP\n",
    "from datetime import datetime       # La librería para trabajar con fechas\n",
    "import os                           # La librería para trabajar con el sistema operativo\n",
    "from dotenv import load_dotenv      # La librería para cargar variables de entorno"
   ]
  },
  {
   "cell_type": "code",
   "execution_count": 2,
   "metadata": {},
   "outputs": [
    {
     "data": {
      "text/plain": [
       "True"
      ]
     },
     "execution_count": 2,
     "metadata": {},
     "output_type": "execute_result"
    }
   ],
   "source": [
    "# Carga las variables del archivo .env\n",
    "load_dotenv()  "
   ]
  },
  {
   "cell_type": "code",
   "execution_count": 3,
   "metadata": {},
   "outputs": [],
   "source": [
    "# Datos de autenticación \n",
    "NUTRITIONIX_APP_ID = os.getenv(\"NUTRITIONIX_APP_ID\")\n",
    "NUTRITIONIX_API_KEY = os.getenv(\"NUTRITIONIX_API_KEY\")\n",
    "\n",
    "# Datos para la solicitud \n",
    "GENDER = \"male\"\n",
    "WEIGHT_KG = 70\n",
    "HEIGHT_CM = 175\n",
    "AGE = 30"
   ]
  },
  {
   "cell_type": "code",
   "execution_count": 4,
   "metadata": {},
   "outputs": [
    {
     "name": "stdout",
     "output_type": "stream",
     "text": [
      "🏋️‍♀️ Ejericio realizado: 30 lagartijas, 40 sentadillas, 50 dumbell curls, 60 abdominales\n",
      "\n",
      "{'exercises': [{'tag_id': 824, 'user_input': 'lagartijas', 'duration_min': 1.52, 'met': 3.8, 'nf_calories': 6.74, 'photo': {'highres': 'https://d2xdmhkmkbyw75.cloudfront.net/exercise/824_highres.jpg', 'thumb': 'https://d2xdmhkmkbyw75.cloudfront.net/exercise/824_thumb.jpg', 'is_user_uploaded': False}, 'compendium_code': 2022, 'name': 'push-up', 'description': None, 'benefits': None}, {'tag_id': 780, 'user_input': 'sentadillas', 'duration_min': 2.5, 'met': 5, 'nf_calories': 14.58, 'photo': {'highres': 'https://d2xdmhkmkbyw75.cloudfront.net/exercise/780_highres.jpg', 'thumb': 'https://d2xdmhkmkbyw75.cloudfront.net/exercise/780_thumb.jpg', 'is_user_uploaded': False}, 'compendium_code': 2052, 'name': 'squats', 'description': None, 'benefits': None}, {'tag_id': 766, 'user_input': 'curls', 'duration_min': 4, 'met': 3.5, 'nf_calories': 16.33, 'photo': {'highres': 'https://d2xdmhkmkbyw75.cloudfront.net/exercise/766_highres.jpg', 'thumb': 'https://d2xdmhkmkbyw75.cloudfront.net/exercise/766_thumb.jpg', 'is_user_uploaded': False}, 'compendium_code': 2054, 'name': 'weight lifting', 'description': None, 'benefits': None}, {'tag_id': 763, 'user_input': 'abdominales', 'duration_min': 10, 'met': 2.8, 'nf_calories': 32.67, 'photo': {'highres': 'https://d2xdmhkmkbyw75.cloudfront.net/exercise/763_highres.jpg', 'thumb': 'https://d2xdmhkmkbyw75.cloudfront.net/exercise/763_thumb.jpg', 'is_user_uploaded': False}, 'compendium_code': 2024, 'name': 'sit-ups', 'description': None, 'benefits': None}]}\n"
     ]
    }
   ],
   "source": [
    "# URL del endpoint de Nutritionix para medición de ejercicio\n",
    "exercise_endpoint = \"https://trackapi.nutritionix.com/v2/natural/exercise\"\n",
    "\n",
    "# Headers para una petición autenticada\n",
    "headers = {\n",
    "    \"x-app-id\": NUTRITIONIX_APP_ID,\n",
    "    \"x-app-key\": NUTRITIONIX_API_KEY,\n",
    "    \"Content-Type\": \"application/json\"\n",
    "}\n",
    "\n",
    "# Solicitud de entrada al usuario\n",
    "exercise_input = input(\"¿Qué ejercicio hiciste hoy? 🏋️‍♀️: \")\n",
    "\n",
    "# Imprimir información del ejercicio\n",
    "print(f\"🏋️‍♀️ Ejericio realizado: {exercise_input}\\n\")\n",
    "\n",
    "# Parámetros para la solicitud\n",
    "params = {\n",
    "    \"query\": exercise_input,\n",
    "    \"gender\": GENDER,\n",
    "    \"weight_kg\": WEIGHT_KG,\n",
    "    \"height_cm\": HEIGHT_CM,\n",
    "    \"age\": AGE\n",
    "}\n",
    "\n",
    "# Realizar la solicitud POST al endpoint de Nutritionix para obtener datos de ejercicio\n",
    "nutritionix_response = requests.post(url=exercise_endpoint\n",
    "                        ,json=params\n",
    "                        ,headers=headers)\n",
    "\n",
    "# Imprimir la respuesta de la API\n",
    "print(nutritionix_response.json())\n"
   ]
  },
  {
   "cell_type": "code",
   "execution_count": 5,
   "metadata": {},
   "outputs": [],
   "source": [
    "# Datos de autenticación \n",
    "NUTRITIONIX_APP_ID = os.getenv(\"NUTRITIONIX_APP_ID\")\n",
    "NUTRITIONIX_API_KEY = os.getenv(\"NUTRITIONIX_API_KEY\")\n",
    "\n",
    "# Datos para la solicitud \n",
    "GENDER = \"male\"\n",
    "WEIGHT_KG = 70\n",
    "HEIGHT_CM = 175\n",
    "AGE = 30"
   ]
  },
  {
   "cell_type": "markdown",
   "metadata": {},
   "source": [
    "#### Paso 2: Enviar los datos a Google Sheets 🧾\n",
    "\n",
    "Utilizamos la API de Sheety. Cada fila representa un ejercicio con:\n",
    "- Fecha y hora\n",
    "- Nombre del ejercicio\n",
    "- Duración\n",
    "- Calorías quemadas\n"
   ]
  },
  {
   "cell_type": "code",
   "execution_count": 7,
   "metadata": {},
   "outputs": [],
   "source": [
    "# Datos de autenticación \n",
    "SHEET_ENDPOINT = os.getenv(\"SHEET_ENDPOINT\")\n",
    "SHEET_TOKEN = os.getenv(\"SHEET_TOKEN\")"
   ]
  },
  {
   "cell_type": "code",
   "execution_count": 8,
   "metadata": {},
   "outputs": [
    {
     "name": "stdout",
     "output_type": "stream",
     "text": [
      "{\n",
      "  \"workout\": {\n",
      "    \"date\": \"08/05/2025\",\n",
      "    \"time\": \"15:36:29\",\n",
      "    \"exercise\": \"Push-Up\",\n",
      "    \"duration\": 1.52,\n",
      "    \"calories\": 6.74,\n",
      "    \"id\": 6\n",
      "  }\n",
      "}\n",
      "{\n",
      "  \"workout\": {\n",
      "    \"date\": \"08/05/2025\",\n",
      "    \"time\": \"15:36:29\",\n",
      "    \"exercise\": \"Squats\",\n",
      "    \"duration\": 2.5,\n",
      "    \"calories\": 14.58,\n",
      "    \"id\": 7\n",
      "  }\n",
      "}\n",
      "{\n",
      "  \"workout\": {\n",
      "    \"date\": \"08/05/2025\",\n",
      "    \"time\": \"15:36:29\",\n",
      "    \"exercise\": \"Weight Lifting\",\n",
      "    \"duration\": 4,\n",
      "    \"calories\": 16.33,\n",
      "    \"id\": 8\n",
      "  }\n",
      "}\n",
      "{\n",
      "  \"workout\": {\n",
      "    \"date\": \"08/05/2025\",\n",
      "    \"time\": \"15:36:29\",\n",
      "    \"exercise\": \"Sit-Ups\",\n",
      "    \"duration\": 10,\n",
      "    \"calories\": 32.67,\n",
      "    \"id\": 9\n",
      "  }\n",
      "}\n"
     ]
    }
   ],
   "source": [
    "# Headers para una petición autenticada\n",
    "headers_sheety = {\n",
    "    \"Authorization\": f\"Bearer {SHEET_TOKEN}\"\n",
    "}\n",
    "\n",
    "# Obtener la fecha y hora actuales\n",
    "today_date = datetime.now().strftime(\"%d/%m/%Y\")\n",
    "now_time = datetime.now().strftime(\"%H:%M:%S\")\n",
    "\n",
    "# Recorrer cada ejercicio y enviarlo a la hoja de cálculo\n",
    "for exercise in nutritionix_response.json()[\"exercises\"]:\n",
    "    # Crear un diccionario con los parámetros para la solicitud\n",
    "    sheet_input = {\n",
    "        \"workout\": {\n",
    "            \"date\": today_date,\n",
    "            \"time\": now_time,\n",
    "            \"exercise\": exercise[\"name\"].title(),\n",
    "            \"duration\": exercise[\"duration_min\"],\n",
    "            \"calories\": exercise[\"nf_calories\"]\n",
    "        }\n",
    "    }\n",
    "\n",
    "    # Realizar la solicitud POST al endpoint de Sheety para agregar datos a la hoja de cálculo\n",
    "    sheet_response = requests.post(url=SHEET_ENDPOINT\n",
    "                                  ,json=sheet_input\n",
    "                                  ,headers=headers_sheety)\n",
    "\n",
    "    # Imprimir la respuesta de la API de Sheety\n",
    "    print(sheet_response.text)\n"
   ]
  },
  {
   "cell_type": "markdown",
   "metadata": {},
   "source": [
    "![Exercise Tracker](./GSheetTracker_Production.png)\n",
    "\n",
    "*GSheetTracker POST*"
   ]
  },
  {
   "cell_type": "markdown",
   "metadata": {},
   "source": [
    "#### 🧠 Conclusión\n",
    "\n",
    "Este proyecto es un excelente ejemplo de integración entre múltiples servicios:\n",
    "\n",
    "- 🧠 Interpreta lenguaje natural con Nutritionix\n",
    "- 📋 Registra información automáticamente en Google Sheets vía Sheety\n",
    "- 🔐 Maneja autenticación con token Bearer\n",
    "- 🔒 Utiliza variables de entorno (`os.environ`) para proteger claves API"
   ]
  }
 ],
 "metadata": {
  "kernelspec": {
   "display_name": "base",
   "language": "python",
   "name": "python3"
  },
  "language_info": {
   "codemirror_mode": {
    "name": "ipython",
    "version": 3
   },
   "file_extension": ".py",
   "mimetype": "text/x-python",
   "name": "python",
   "nbconvert_exporter": "python",
   "pygments_lexer": "ipython3",
   "version": "3.11.7"
  }
 },
 "nbformat": 4,
 "nbformat_minor": 2
}
