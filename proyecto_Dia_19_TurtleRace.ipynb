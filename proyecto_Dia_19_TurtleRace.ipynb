{
 "cells": [
  {
   "cell_type": "markdown",
   "metadata": {},
   "source": [
    "## Day 19 Proyect: Turtle Race"
   ]
  },
  {
   "cell_type": "markdown",
   "metadata": {},
   "source": [
    "# Turtle Race – Proyecto del Día 19 🐢🏁\n",
    "\n",
    "En este proyecto creamos una carrera de tortugas con el módulo **turtle**.  \n",
    "El juego se desarrolla de la siguiente manera:\n",
    "- Se muestra un popup para que el usuario apueste por el color de la tortuga que cree ganará.\n",
    "- Se crean n tortugas, cada una con un color diferente, y se colocan en la línea de salida.\n",
    "- Las tortugas avanzan pasos aleatorios (entre 0 y 10 paces) en un bucle.\n",
    "- La primera tortuga que cruza el umbral se declara ganadora.\n",
    "- Se muestra un mensaje indicando si la apuesta del usuario fue correcta o no."
   ]
  },
  {
   "cell_type": "markdown",
   "metadata": {},
   "source": [
    "![Turtle Race](./proyecto_Dia_19_image.jpg)\n",
    "\n",
    "*Turtle Race*"
   ]
  },
  {
   "cell_type": "code",
   "execution_count": 1,
   "metadata": {},
   "outputs": [
    {
     "name": "stdout",
     "output_type": "stream",
     "text": [
      "¡Has ganado! La tortuga green ha ganado la carrera.\n"
     ]
    }
   ],
   "source": [
    "import turtle as t\n",
    "import random\n",
    "\n",
    "# Configuración de la pantalla usando keyword arguments para claridad\n",
    "screen = t.Screen()\n",
    "screen.setup(width=500, height=400)\n",
    "screen.bgcolor(\"black\")  # Fondo opcional para mejor contraste\n",
    "\n",
    "# Solicitar la apuesta del usuario mediante popup\n",
    "user_bet = screen.textinput(\n",
    "    title=\"Apuesta en la carrera de tortugas\",\n",
    "    prompt=\"¿En qué color apostarás? (red, orange, yellow, green, blue, purple): \"\n",
    ").lower()\n",
    "\n",
    "# Lista de colores para las tortugas\n",
    "colors = [\"red\", \"orange\", \"yellow\", \"green\", \"blue\", \"purple\"]\n",
    "\n",
    "# Lista para almacenar todas las tortugas\n",
    "all_turtles = []\n",
    "\n",
    "# Posiciones en el eje Y para distribuir las tortugas en la línea de salida\n",
    "y_positions = [-100, -60, -20, 20, 60, 100]\n",
    "\n",
    "# Crear y posicionar 6 tortugas (una para cada color)\n",
    "for index in range(6):\n",
    "    racer = t.Turtle(shape=\"turtle\")\n",
    "    racer.color(colors[index])\n",
    "    racer.penup()\n",
    "    # Ubicar la tortuga en la línea de salida (x = -230) y en su posición única en Y\n",
    "    racer.goto(x=-230, y=y_positions[index])\n",
    "    all_turtles.append(racer)\n",
    "\n",
    "# Bandera para iniciar la carrera\n",
    "is_race_on = False\n",
    "if user_bet:\n",
    "    is_race_on = True\n",
    "\n",
    "# Establecer la línea de meta (x = 230)\n",
    "finish_line = 230\n",
    "\n",
    "# Bucle principal de la carrera\n",
    "while is_race_on:\n",
    "    for turtle_racer in all_turtles:\n",
    "        rand_distance = random.randint(0, 10)  # Paso aleatorio entre 0 y 10\n",
    "        turtle_racer.forward(rand_distance)\n",
    "        \n",
    "        # Si la tortuga cruza la línea de meta, termina la carrera\n",
    "        if turtle_racer.xcor() > finish_line:\n",
    "            is_race_on = False\n",
    "            winning_color = turtle_racer.pencolor()\n",
    "            if winning_color == user_bet:\n",
    "                print(f\"¡Has ganado! La tortuga {winning_color} ha ganado la carrera.\")\n",
    "            else:\n",
    "                print(f\"Has perdido. La tortuga {winning_color} ha ganado la carrera.\")\n",
    "            break\n",
    "\n",
    "screen.exitonclick()\n"
   ]
  },
  {
   "cell_type": "markdown",
   "metadata": {},
   "source": [
    "#### Conclusión\n",
    "\n",
    "En este proyecto hemos aplicado varios conceptos fundamentales de Python:\n",
    "- **Bucles y Condicionales:**  \n",
    "  El bucle `while` permite que las tortugas avancen hasta que una cruza la línea de meta, y las condicionales determinan cuándo se termina la carrera y se compara la apuesta.\n",
    "- **Listas:**  \n",
    "  Utilizamos listas para almacenar los objetos turtle y para distribuirlos en posiciones distintas en la pantalla.\n",
    "- **Interacción con el Usuario:**  \n",
    "  La función `textinput` de Turtle permite obtener la apuesta del usuario mediante un popup.\n",
    "- **Uso de la librería Turtle:**  \n",
    "  Se configura la pantalla, se posicionan los objetos y se anima la carrera con movimientos aleatorios.\n",
    "\n",
    "Este enfoque demuestra cómo combinar la interacción con el usuario, gráficos y lógica de control para crear una experiencia de juego dinámica.\n"
   ]
  }
 ],
 "metadata": {
  "kernelspec": {
   "display_name": "base",
   "language": "python",
   "name": "python3"
  },
  "language_info": {
   "codemirror_mode": {
    "name": "ipython",
    "version": 3
   },
   "file_extension": ".py",
   "mimetype": "text/x-python",
   "name": "python",
   "nbconvert_exporter": "python",
   "pygments_lexer": "ipython3",
   "version": "3.11.7"
  }
 },
 "nbformat": 4,
 "nbformat_minor": 2
}
