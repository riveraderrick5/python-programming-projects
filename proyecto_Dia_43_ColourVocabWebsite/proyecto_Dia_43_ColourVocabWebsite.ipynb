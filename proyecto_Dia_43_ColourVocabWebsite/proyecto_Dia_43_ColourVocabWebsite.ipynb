{
 "cells": [
  {
   "cell_type": "markdown",
   "id": "05463fa8",
   "metadata": {},
   "source": [
    "## Day 43 Proyect: Colour Vocab Website"
   ]
  },
  {
   "cell_type": "markdown",
   "id": "437216b6",
   "metadata": {},
   "source": [
    "### Proyecto Día 43 – Sitio Web de Vocabulario de Colores 🎨📚\n",
    "\n",
    "Este proyecto consiste en una página web estática para practicar vocabulario en francés (o cualquier idioma que desees).  \n",
    "Usa HTML y un archivo CSS externo para lograr un diseño limpio y temáticamente colorido.\n",
    "\n",
    "🔧 Herramientas aplicadas:\n",
    "- HTML estructurado (`<h1>`, `<h2>`, `<img>`)\n",
    "- Selectores en CSS por `id` y `class`\n",
    "- Estilos personalizados: colores, tamaños y pesos de fuente\n",
    "- Práctica de estructura de archivos y rutas relativas\n"
   ]
  },
  {
   "cell_type": "markdown",
   "id": "9331c7fd",
   "metadata": {},
   "source": [
    "#### 🧱 Estructura HTML (index.html)\n",
    "\n",
    "Contiene:\n",
    "- Encabezado principal (`<h1>`)\n",
    "- Subtítulo (`<h2>`)\n",
    "- Palabras con sus colores en francés (`<h2 id=\"red\" class=\"color-title\">Rouge</h2>`, etc.)\n",
    "- Imágenes con rutas locales\n"
   ]
  },
  {
   "cell_type": "code",
   "execution_count": 1,
   "id": "d61cff32",
   "metadata": {},
   "outputs": [],
   "source": [
    "from IPython.display import display, HTML      # Libreria para mostrar HTML"
   ]
  },
  {
   "cell_type": "code",
   "execution_count": 13,
   "id": "4b4cd2d4",
   "metadata": {},
   "outputs": [
    {
     "data": {
      "text/html": [
       "\n",
       "<!DOCTYPE html>\n",
       "<html lang=\"es\">\n",
       "\n",
       "<head>\n",
       "  <meta charset=\"UTF-8\">\n",
       "  <title>Spanish Vocabulary</title>\n",
       "  <link rel=\"stylesheet\" href=\"./style.css\" />\n",
       "</head>\n",
       "\n",
       "<body>\n",
       "  <h1>Colores</h1>\n",
       "  <h2>Aprende los colores en Francés!</h2>\n",
       "  <h2 class=\"color-title\" id=\"red\">Rouge</h2>\n",
       "  <img class=\"color\" src=\"./assets/images/red.png\" alt=\"rouge\" />\n",
       "\n",
       "  <h2 class=\"color-title\" id=\"blue\">Bleu</h2>\n",
       "  <img src=\"./assets/images/blue.png\" alt=\"bleu\" />\n",
       "\n",
       "  <h2 class=\"color-title\" id=\"orange\">Orange</h2>\n",
       "  <img src=\"./assets/images/orange.png\" alt=\"orange\" />\n",
       "\n",
       "  <h2 class=\"color-title\" id=\"green\">Vert</h2>\n",
       "  <img src=\"./assets/images/green.png\" alt=\"vert\" />\n",
       "\n",
       "  <h2 class=\"color-title\" id=\"yellow\">Jaune</h2>\n",
       "  <img src=\"./assets/images/yellow.png\" alt=\"jaune\" />\n",
       "</body>\n",
       "\n",
       "</html>\n",
       "\n"
      ],
      "text/plain": [
       "<IPython.core.display.HTML object>"
      ]
     },
     "metadata": {},
     "output_type": "display_data"
    }
   ],
   "source": [
    "html_content = \"\"\"\n",
    "<!DOCTYPE html>\n",
    "<html lang=\"es\">\n",
    "\n",
    "<head>\n",
    "  <meta charset=\"UTF-8\">\n",
    "  <title>Spanish Vocabulary</title>\n",
    "  <link rel=\"stylesheet\" href=\"./style.css\" />\n",
    "</head>\n",
    "\n",
    "<body>\n",
    "  <h1>Colores</h1>\n",
    "  <h2>Aprende los colores en Francés!</h2>\n",
    "  <h2 class=\"color-title\" id=\"red\">Rouge</h2>\n",
    "  <img class=\"color\" src=\"./assets/images/red.png\" alt=\"rouge\" />\n",
    "\n",
    "  <h2 class=\"color-title\" id=\"blue\">Bleu</h2>\n",
    "  <img src=\"./assets/images/blue.png\" alt=\"bleu\" />\n",
    "\n",
    "  <h2 class=\"color-title\" id=\"orange\">Orange</h2>\n",
    "  <img src=\"./assets/images/orange.png\" alt=\"orange\" />\n",
    "\n",
    "  <h2 class=\"color-title\" id=\"green\">Vert</h2>\n",
    "  <img src=\"./assets/images/green.png\" alt=\"vert\" />\n",
    "\n",
    "  <h2 class=\"color-title\" id=\"yellow\">Jaune</h2>\n",
    "  <img src=\"./assets/images/yellow.png\" alt=\"jaune\" />\n",
    "</body>\n",
    "\n",
    "</html>\n",
    "\n",
    "\"\"\"\n",
    "\n",
    "display(HTML(html_content))"
   ]
  },
  {
   "cell_type": "markdown",
   "id": "f80ef65a",
   "metadata": {},
   "source": [
    "#### 🧠 Conclusión\n",
    "\n",
    "Este proyecto introduce la práctica de integrar HTML con un archivo de estilos CSS externo:\n",
    "\n",
    "- 🎨 Aplicación de estilos por ID (`#id`) y clase (`.clase`)\n",
    "- 📐 Control de dimensiones con `width` y `height`\n",
    "- 🏷️ Práctica del atributo `class` vs. `id`\n",
    "- 📁 Comprensión de rutas relativas para archivos estáticos"
   ]
  }
 ],
 "metadata": {
  "kernelspec": {
   "display_name": "base",
   "language": "python",
   "name": "python3"
  },
  "language_info": {
   "codemirror_mode": {
    "name": "ipython",
    "version": 3
   },
   "file_extension": ".py",
   "mimetype": "text/x-python",
   "name": "python",
   "nbconvert_exporter": "python",
   "pygments_lexer": "ipython3",
   "version": "3.11.7"
  }
 },
 "nbformat": 4,
 "nbformat_minor": 5
}
