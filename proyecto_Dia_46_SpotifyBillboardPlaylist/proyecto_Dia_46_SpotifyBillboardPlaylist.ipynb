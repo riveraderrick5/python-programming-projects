{
 "cells": [
  {
   "cell_type": "markdown",
   "id": "52c828a3",
   "metadata": {},
   "source": [
    "## Day 46 Proyect: Spotify Billboard Playlist"
   ]
  },
  {
   "cell_type": "markdown",
   "id": "bcb81dc6",
   "metadata": {},
   "source": [
    "### Proyecto Día 46 – Playlist de Billboard 100 en Spotify 🎶\n",
    "\n",
    "Este proyecto permite al usuario crear una playlist en Spotify con las 100 canciones más populares de una fecha específica.  \n",
    "Combina scraping web, autenticación OAuth y llamadas a la API de Spotify mediante Spotipy.\n",
    "\n",
    "🔧 Tecnologías aplicadas:\n",
    "- `requests` y `BeautifulSoup` para scraping de Billboard\n",
    "- `spotipy` para interacción con la API de Spotify\n",
    "- Manejo de listas, excepciones y autenticación\n"
   ]
  },
  {
   "cell_type": "markdown",
   "id": "edc4d291",
   "metadata": {},
   "source": [
    "#### Paso 1 – Scraping del Billboard Hot 100\n",
    "\n",
    "Solicitamos al usuario una fecha y obtenemos las 100 canciones más populares ese día desde Billboard."
   ]
  },
  {
   "cell_type": "code",
   "execution_count": null,
   "id": "0d8350ac",
   "metadata": {},
   "outputs": [],
   "source": [
    "import requests                             # Libreria para hacer peticiones HTTP\n",
    "from bs4 import BeautifulSoup               # Libreria para parsear/extraer datos de HTML\n",
    "import spotipy                              # Libreria para interactuar con la API de Spotify\n",
    "from spotipy.oauth2 import SpotifyOAuth     # Libreria para autenticacion con Spotify\n",
    "import os                                   # Libreria para interactuar con el sistema operativo\n",
    "from dotenv import load_dotenv              # Libreria para cargar variables de entorno desde un archivo .env"
   ]
  },
  {
   "cell_type": "code",
   "execution_count": null,
   "id": "e5bb0a21",
   "metadata": {},
   "outputs": [],
   "source": [
    "# Solicitar al usuario la fecha\n",
    "# fecha_de_interes = input(\"¿A qué fecha quieres viajar? (YYYY-MM-DD): \")\n",
    "fecha_de_interes = \"2023-09-20\"\n",
    "\n",
    "# Generar la URL de la página de Billboard Hot 100 con la fecha proporcionada\n",
    "url = f\"https://www.billboard.com/charts/hot-100/{fecha_de_interes}\"\n",
    "\n",
    "# Crear un encabezado para la solicitud HTTP (esto es útil para evitar bloqueos por parte del servidor)\n",
    "headers = {\n",
    "    \"User-Agent\": \"Mozilla/5.0 (Windows NT 10.0; Win64; x64) AppleWebKit/537.36 (KHTML, like Gecko) Chrome/135.0.0.0 Safari/537.36\"\n",
    "}\n",
    "\n",
    "# Realiza la solicitud GET al endpoint de la página web\n",
    "response = requests.get(url=url\n",
    "                    , headers=headers)\n",
    "\n",
    "# Crea un objeto BeautifulSoup para parsear el HTML\n",
    "soup = BeautifulSoup(response.text, \"html.parser\")"
   ]
  },
  {
   "cell_type": "code",
   "execution_count": null,
   "id": "96c44ea0",
   "metadata": {},
   "outputs": [
    {
     "name": "stdout",
     "output_type": "stream",
     "text": [
      "Se encontraron 100 canciones.\n"
     ]
    }
   ],
   "source": [
    "# Extraer los títulos de canciones\n",
    "titulos = [tag.getText().strip() for tag in soup.select(\"li ul li h3\")]     # Lista de comprehensión para extraer los títulos de las canciones"
   ]
  },
  {
   "cell_type": "code",
   "execution_count": null,
   "id": "f4419fc7",
   "metadata": {},
   "outputs": [
    {
     "name": "stdout",
     "output_type": "stream",
     "text": [
      "Se encontraron 100 canciones.\n",
      "\n",
      "Primeros 10 títulos de películas extraidos:\n",
      "- Vampire\n",
      "- Paint The Town Red\n",
      "- I Remember Everything\n",
      "- Fast Car\n",
      "- Cruel Summer\n",
      "- Last Night\n",
      "- Bad Idea Right?\n",
      "- Snooze\n",
      "- Fukumean\n",
      "- Dance The Night\n"
     ]
    }
   ],
   "source": [
    "# Imprime el número de títulos extraídos\n",
    "print(f\"Se encontraron {len(titulos)} canciones.\\n\")\n",
    "\n",
    "# Imprime los primeros 10 títulos extraídos\n",
    "print(f\"Primeros 10 títulos de películas extraidos:\")\n",
    "for title in titulos[:10]:  \n",
    "    print(f\"- {title}\")"
   ]
  },
  {
   "cell_type": "markdown",
   "id": "366188b2",
   "metadata": {},
   "source": [
    "#### Paso 2 – Autenticación con Spotify (Spotipy)\n",
    "\n",
    "Usamos OAuth 2.0 para autorizar la creación de playlists privadas desde nuestra cuenta.\n"
   ]
  },
  {
   "cell_type": "code",
   "execution_count": null,
   "id": "15a70234",
   "metadata": {},
   "outputs": [],
   "source": [
    "# Datos de autenticación \n",
    "# SPOTIFY_CLIENT_ID = os.getenv(\"SPOTIFY_API_KEY\")\n",
    "# SPOTIFY_SECRET = os.getenv(\"SPOTIFY_SECRET\")\n",
    "# SPOTIFY_REDIRECT_URI = os.getenv(\"SPOTIFY_REDIRECT_URI\")\n",
    "\n",
    "SPOTIFY_CLIENT_ID = \"7e4d0511aed94d109a332de8f8441342\"\n",
    "SPOTIFY_SECRET = \"aefa62d7c3d84221a7693172644b8dea\"\n",
    "SPOTIFY_REDIRECT_URI = \"http://127.0.0.1:8888/callback\"  "
   ]
  },
  {
   "cell_type": "code",
   "execution_count": null,
   "id": "04249047",
   "metadata": {},
   "outputs": [
    {
     "name": "stdout",
     "output_type": "stream",
     "text": [
      "Autenticado como usuario: riveraderrick5\n"
     ]
    }
   ],
   "source": [
    "# Crea una instancia de la clase SpotifyOAuth para manejar la autenticación\n",
    "sp = spotipy.Spotify(\n",
    "    auth_manager=SpotifyOAuth(\n",
    "        client_id=SPOTIFY_CLIENT_ID,\n",
    "        client_secret=SPOTIFY_SECRET,\n",
    "        redirect_uri=SPOTIFY_REDIRECT_URI,\n",
    "        scope=\"playlist-modify-private\",\n",
    "        show_dialog=True,\n",
    "        cache_path=\"token.txt\"\n",
    "    )\n",
    ")\n",
    "\n",
    "# Obtiene el id del usuario autenticado\n",
    "user_id = sp.current_user()[\"id\"]\n",
    "print(f\"Autenticado como usuario: {user_id}\")"
   ]
  },
  {
   "cell_type": "markdown",
   "id": "75b776ee",
   "metadata": {},
   "source": [
    "#### Paso 3 – Buscar las canciones en Spotify y recolectar URIs\n",
    "\n",
    "Para cada canción del Billboard buscamos su URI en Spotify. Algunas no estarán disponibles.\n"
   ]
  },
  {
   "cell_type": "code",
   "execution_count": null,
   "id": "164123c7",
   "metadata": {},
   "outputs": [],
   "source": [
    "# Lista para almacenar los URIs (identificadores únicos) de las canciones encontradas\n",
    "canciones_uris = []\n",
    "\n",
    "# Extrae el año de la fecha de interés, asumiendo el formato \"YYYY-MM-DD\"\n",
    "año = fecha_de_interes.split(\"-\")[0]\n",
    "\n",
    "# Itera sobre cada título de canción previamente extraído\n",
    "for titulo in titulos:\n",
    "    # Realiza una búsqueda en Spotify por nombre de canción y año\n",
    "    resultado = sp.search(q=f\"track:{titulo} year:{año}\"\n",
    "                        ,type=\"track\"\n",
    "                        ,limit=1)\n",
    "\n",
    "    try:\n",
    "        # Intenta obtener el URI de la primera canción encontrada\n",
    "        uri = resultado[\"tracks\"][\"items\"][0][\"uri\"]\n",
    "        canciones_uris.append(uri)                              # Agrega el URI a la lista si se encontró\n",
    "    except IndexError:\n",
    "        # Si no se encuentra la canción, muestra un mensaje informativo\n",
    "        print(f\"No disponible en Spotify: {titulo}\")\n"
   ]
  },
  {
   "cell_type": "code",
   "execution_count": null,
   "id": "908917ad",
   "metadata": {},
   "outputs": [
    {
     "name": "stdout",
     "output_type": "stream",
     "text": [
      "Se encontraron 100 canciones en Spotify.\n",
      "Primeras 10 canciones encontradas:\n",
      "spotify:track:1kuGVB7EU95pJObxwvfwKS\n",
      "spotify:track:2IGMVunIBsBLtEQyoI1Mu7\n",
      "spotify:track:4KULAymBBJcPRpk1yO4dOG\n",
      "spotify:track:1Lo0QY9cvc8sUB2vnIOxDT\n",
      "spotify:track:0pjBqAz8GlxGlpaU4W0DxS\n",
      "spotify:track:5mF7p5mwgaPZyIykUhO3PN\n",
      "spotify:track:3IX0yuEVvDbnqUwMBB3ouC\n",
      "spotify:track:4j3M8NrbGSXdMPwEVsnfHE\n",
      "spotify:track:4rXLjWdF2ZZpXCVTfWcshS\n",
      "spotify:track:1vYXt7VSjH9JIM5oRRo7vA\n"
     ]
    }
   ],
   "source": [
    "print(f\"Se encontraron {len(canciones_uris)} canciones en Spotify.\")"
   ]
  },
  {
   "cell_type": "markdown",
   "id": "814a460c",
   "metadata": {},
   "source": [
    "#### Paso 4 – Crear una nueva playlist privada y añadir canciones\n",
    "\n",
    "Creamos una playlist llamada \"YYYY-MM-DD Billboard 100\" y añadimos los URIs obtenidos.\n"
   ]
  },
  {
   "cell_type": "code",
   "execution_count": null,
   "id": "caeda06f",
   "metadata": {},
   "outputs": [
    {
     "name": "stdout",
     "output_type": "stream",
     "text": [
      "✅ Playlist creada exitosamente.\n"
     ]
    }
   ],
   "source": [
    "# Crea una nueva playlist privada en el perfil del usuario autenticado\n",
    "playlist = sp.user_playlist_create(\n",
    "    user=user_id,                                                    # ID del usuario autenticado en Spotify\n",
    "    name=f\"{fecha_de_interes} Billboard 100\",                        # Nombre dinámico con la fecha seleccionada\n",
    "    public=False,                                                    # False = playlist privada\n",
    "    description=\"Playlist creada automáticamente con Python 💻🎶\"   # Descripción opcional\n",
    ")\n",
    "\n",
    "# Agrega las canciones encontradas (por sus URIs) a la nueva playlist\n",
    "sp.playlist_add_items(playlist_id=playlist[\"id\"], items=canciones_uris)\n",
    "\n",
    "print(\"✅ Playlist creada exitosamente.\")\n"
   ]
  },
  {
   "cell_type": "markdown",
   "id": "10ee07fc",
   "metadata": {},
   "source": [
    "#### 🧠 Conclusión\n",
    "\n",
    "Este proyecto integró scraping, autenticación y uso de APIs para lograr un resultado real:\n",
    "\n",
    "- 🔍 Web scraping estructurado con BeautifulSoup\n",
    "- 🔐 Autenticación OAuth con Spotipy\n",
    "- 🧬 Integración entre dos plataformas (Billboard + Spotify)\n",
    "- 📃 Manipulación de listas, errores y texto\n",
    "\n",
    "Puedes automatizar este proceso o adaptarlo para diferentes géneros o fuentes. ¡Increíble progreso!\n"
   ]
  }
 ],
 "metadata": {
  "kernelspec": {
   "display_name": "base",
   "language": "python",
   "name": "python3"
  },
  "language_info": {
   "codemirror_mode": {
    "name": "ipython",
    "version": 3
   },
   "file_extension": ".py",
   "mimetype": "text/x-python",
   "name": "python",
   "nbconvert_exporter": "python",
   "pygments_lexer": "ipython3",
   "version": "3.11.7"
  }
 },
 "nbformat": 4,
 "nbformat_minor": 5
}
