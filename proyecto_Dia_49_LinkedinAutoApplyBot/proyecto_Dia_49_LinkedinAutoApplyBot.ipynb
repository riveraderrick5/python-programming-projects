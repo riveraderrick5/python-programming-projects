{
 "cells": [
  {
   "cell_type": "markdown",
   "id": "1f984cdd",
   "metadata": {},
   "source": [
    "## Day 49 Proyect: LinkedIn Auto Apply Bot"
   ]
  },
  {
   "cell_type": "markdown",
   "id": "97acfeaf",
   "metadata": {},
   "source": [
    "### Proyecto Día 49 – LinkedIn Auto Apply Bot 💼🤖\n",
    "\n",
    "Este proyecto automatiza el proceso de búsqueda y postulación de empleos en LinkedIn mediante Selenium.  \n",
    "Utiliza el filtro \"Easy Apply\" para aplicar automáticamente a múltiples vacantes que requieren una sola interacción.\n",
    "\n",
    "🚨 Requiere:\n",
    "- Cuenta activa en LinkedIn (se recomienda una cuenta alterna)\n",
    "- Configurar tu perfil con CV y preferencias de búsqueda\n",
    "- Desactivar verificación en 2 pasos mientras usas Selenium\n",
    "\n",
    "🔧 Herramientas aplicadas:\n",
    "- Automatización con Selenium WebDriver\n",
    "- Manejo de formularios y botones\n",
    "- Excepciones y lógica condicional para evitar captchas o formularios complejos\n"
   ]
  },
  {
   "cell_type": "markdown",
   "id": "8836af7d",
   "metadata": {},
   "source": [
    "#### Paso 1 – Login automático y acceso a la búsqueda\n",
    "\n",
    "Usamos Selenium para abrir LinkedIn y loguearnos con el correo y contraseña proporcionados.\n"
   ]
  },
  {
   "cell_type": "code",
   "execution_count": 1,
   "id": "b520baf5",
   "metadata": {},
   "outputs": [],
   "source": [
    "from selenium import webdriver                              # Libreria para controlar el navegador\n",
    "from selenium.webdriver.common.by import By                 # Libreria para seleccionar elementos\n",
    "from selenium.webdriver.common.keys import Keys             # Libreria para enviar acciones de teclado\n",
    "import undetected_chromedriver as uc                        # Libreria para evitar detección de Selenium\n",
    "import time                                                 # Libreria para manejar el tiempo\n",
    "import os                                                   # Libreria para manejar el sistema operativo\n",
    "from dotenv import load_dotenv                              # Libreria para cargar variables de entorno\n",
    "\n",
    "from selenium.common.exceptions import NoSuchElementException, ElementClickInterceptedException"
   ]
  },
  {
   "cell_type": "code",
   "execution_count": 2,
   "id": "9b101cc3",
   "metadata": {},
   "outputs": [
    {
     "data": {
      "text/plain": [
       "True"
      ]
     },
     "execution_count": 2,
     "metadata": {},
     "output_type": "execute_result"
    }
   ],
   "source": [
    "# Carga las variables del archivo .env\n",
    "load_dotenv()  "
   ]
  },
  {
   "cell_type": "code",
   "execution_count": 3,
   "id": "5d481bf5",
   "metadata": {},
   "outputs": [],
   "source": [
    "# Datos de autenticación \n",
    "LINKEDIN_USER = os.environ[\"LINKEDIN_USER\"]\n",
    "LINKEDIN_PASSWORD = os.environ[\"LINKEDIN_PASSWORD\"]"
   ]
  },
  {
   "cell_type": "code",
   "execution_count": 4,
   "id": "4e6bd264",
   "metadata": {},
   "outputs": [
    {
     "name": "stdout",
     "output_type": "stream",
     "text": [
      "✅ Confirmado: Estamos en la página de login de LinkedIn\n",
      "🔑 Credenciales ingresadas y botón de login presionado\n",
      "✅ Inicio de sesión exitoso!\n",
      "\n",
      "Navegando a la búsqueda de empleos (con filtros ya aplicados)...\n",
      "⏳ Esperando a que cargue la página de resultados...\n",
      "🔎 Se encontraron 25 empleos que coinciden con los criterios de búsqueda\n",
      "\n",
      "Seleccionando la solicitud #1 de 25\n",
      "💼 Título de la solicitud: Domo BI Analyst (Req. English)\n",
      "🟢 Clic exitoso en el botón 'Solicitud sencilla'\n",
      "✅ Modal de solicitud abierto. El proceso se detiene aquí para revisión manual.\n"
     ]
    }
   ],
   "source": [
    "# Configurar opciones de Chrome\n",
    "options = uc.ChromeOptions()                                           # Creamos una instancia de ChromeOptions para undetected_chromedriver\n",
    "options.add_argument(\"--no-first-run\")                                 # Prevenir configuraciones iniciales\n",
    "options.add_argument(\"--no-default-browser-check\")                     # Prevenir chequeo de navegador por defecto\n",
    "options.add_argument(\"--disable-blink-features=AutomationControlled\")  # Evitar detección de Selenium\n",
    "options.add_argument(\"--disable-infobars\")                             # Desactivar la barra de información\n",
    "# options.add_argument(\"--start-maximized\")                              # Opcional: abrir maximizado\n",
    "\n",
    "# Importar módulos adicionales para espera y acciones\n",
    "from selenium.webdriver.support.ui import WebDriverWait\n",
    "from selenium.webdriver.support import expected_conditions as EC\n",
    "\n",
    "# Inicializar navegador con undetected-chromedriver\n",
    "driver = uc.Chrome(options=options)\n",
    "\n",
    "# Navegar a la página de inicio de sesión de LinkedIn\n",
    "driver.get(\"https://www.linkedin.com/login\")\n",
    "\n",
    "# Inicializar WebDriverWait con un tiempo de espera de 10 segundos\n",
    "wait = WebDriverWait(driver, 7)\n",
    "\n",
    "#==========================================================================\n",
    "#                  Ingresar credenciales de LinkedIn\n",
    "#==========================================================================\n",
    "\n",
    "# Esperar a que los campos de usuario y contraseña estén presentes\n",
    "username_field = wait.until(EC.presence_of_element_located((By.ID, \"username\")))\n",
    "password_field = wait.until(EC.presence_of_element_located((By.ID, \"password\")))\n",
    "login_button = wait.until(EC.element_to_be_clickable((By.XPATH, \"//button[@type='submit']\")))\n",
    "print(\"✅ Confirmado: Estamos en la página de login de LinkedIn\")\n",
    "\n",
    "# Ingresar las credenciales\n",
    "username_field.send_keys(LINKEDIN_USER)           # Ingresar correo electrónico\n",
    "password_field.send_keys(LINKEDIN_PASSWORD)       # Ingresar contraseña\n",
    "\n",
    "# Dar click en el botón de login\n",
    "driver.execute_script(\"arguments[0].scrollIntoView(true);\", login_button)  # Desplazar la vista hacia el botón\n",
    "driver.execute_script(\"arguments[0].click();\", login_button)               # Hacer clic usando JavaScript para evitar problemas\n",
    "\n",
    "print(\"🔑 Credenciales ingresadas y botón de login presionado\")\n",
    "\n",
    "# Verificar si el inicio de sesión fue exitoso (buscando un elemento que solo esté presente después del login)\n",
    "try:\n",
    "    perfil_elemento = wait.until(EC.presence_of_element_located((By.CSS_SELECTOR, \".global-nav__me\")))\n",
    "    print(\"✅ Inicio de sesión exitoso!\\n\")\n",
    "\n",
    "    #==========================================================================\n",
    "    #                  Navegar a la página de búsqueda de empleos\n",
    "    #==========================================================================\n",
    "\n",
    "    # Ir a la página de búsqueda de empleos con los filtros ya definidos en la URL\n",
    "    print(\"Navegando a la búsqueda de empleos (con filtros ya aplicados)...\")\n",
    "    driver.get(\"https://www.linkedin.com/jobs/search/?f_AL=true&f_T=340%2C25190&f_WT=2&geoId=92000000&keywords=Data%20Scientist&origin=JOB_SEARCH_PAGE_JOB_FILTER&refresh=true&sortBy=R&spellCorrectionEnabled=true\")\n",
    "    \n",
    "    # Esperar a que la página cargue \n",
    "    print(\"⏳ Esperando a que cargue la página de resultados...\")\n",
    "    # time.sleep(5)\n",
    "    \n",
    "    # Encontrar las tarjetas de empleo\n",
    "    try:\n",
    "        # Usar el selector para encontrar las tarjetas de empleo\n",
    "        resultados = wait.until(EC.presence_of_all_elements_located(\n",
    "            (By.CSS_SELECTOR, \"li.ember-view.occludable-update.p0.relative.scaffold-layout__list-item\")\n",
    "        ))\n",
    "        \n",
    "        total_resultados = len(resultados)\n",
    "        print(f\"🔎 Se encontraron {total_resultados} empleos que coinciden con los criterios de búsqueda\")\n",
    "        \n",
    "        # Seleccionar el indice de la solicitud a aplicar\n",
    "        if total_resultados > 0:\n",
    "            indice_seleccionado = 0                         # Seleccionar el indice de la solicitud a aplicar (0 para el primero)\n",
    "            \n",
    "            # Hacer clic en e la solicitud seleccionado\n",
    "            print(f\"\\nSeleccionando la solicitud #{indice_seleccionado + 1} de {total_resultados}\")\n",
    "            solicutud = resultados[indice_seleccionado]                                # Seleccionar e la solicitud bajo el indice elegido\n",
    "            driver.execute_script(\"arguments[0].scrollIntoView();\", solicutud)         # Desplazar la vista hacia e la solicitud\n",
    "            driver.execute_script(\"arguments[0].click();\", solicutud)                  # Hacer clic usando JavaScript para evitar problemas\n",
    "            \n",
    "            # Buscar el título de la solicitud\n",
    "            titulo_solicitud = wait.until(EC.presence_of_element_located(\n",
    "                (By.CSS_SELECTOR, \".job-details-jobs-unified-top-card__job-title\")\n",
    "                )).text\n",
    "            print(f\"💼 Título de la solicitud: {titulo_solicitud}\")\n",
    "\n",
    "            #==========================================================================\n",
    "            #                          Aplicar a la solicitud\n",
    "            #==========================================================================\n",
    "            \n",
    "            # Buscar y hacer clic en el botón \"Solicitud sencilla\"\n",
    "            boton_solicitud = wait.until(EC.element_to_be_clickable(\n",
    "                (By.CSS_SELECTOR, \".jobs-apply-button\")\n",
    "                ))\n",
    "            driver.execute_script(\"arguments[0].scrollIntoView();\", boton_solicitud)     # Desplazar la vista hacia el botón\n",
    "            driver.execute_script(\"arguments[0].click();\", boton_solicitud)              # Hacer clic usando JavaScript para evitar problemas\n",
    "            \n",
    "            print(\"🟢 Clic exitoso en el botón 'Solicitud sencilla'\")\n",
    "            \n",
    "            # Esperar a que aparezca el modal de solicitud\n",
    "            print(\"✅ Modal de solicitud abierto. El proceso se detiene aquí para revisión manual.\")\n",
    "\n",
    "        else:\n",
    "            print(\"❌ No se encontraron empleos para aplicar.\")\n",
    "            \n",
    "    except Exception as e:\n",
    "        print(f\"Error al buscar empleos: {e}\")\n",
    "\n",
    "except Exception as e:\n",
    "    print(\"❌ No se pudo verificar el inicio de sesión exitoso.\")\n",
    "    print(f\"Error: {e}\")\n",
    "    print(f\"URL actual: {driver.current_url}\")\n"
   ]
  },
  {
   "cell_type": "markdown",
   "id": "ea235dd6",
   "metadata": {},
   "source": [
    "#### 🧠 Conclusión\n",
    "\n",
    "Este proyecto integró scraping, automatización y control de formularios en una interfaz real:\n",
    "\n",
    "- 🔒 Login automático seguro\n",
    "- 🧭 Navegación por elementos dinámicos\n",
    "- 🤖 Lógica para filtrar formularios simples y evitar errores\n",
    "- 📩 Automatización de postulaciones múltiples"
   ]
  }
 ],
 "metadata": {
  "kernelspec": {
   "display_name": "base",
   "language": "python",
   "name": "python3"
  },
  "language_info": {
   "codemirror_mode": {
    "name": "ipython",
    "version": 3
   },
   "file_extension": ".py",
   "mimetype": "text/x-python",
   "name": "python",
   "nbconvert_exporter": "python",
   "pygments_lexer": "ipython3",
   "version": "3.11.7"
  }
 },
 "nbformat": 4,
 "nbformat_minor": 5
}
