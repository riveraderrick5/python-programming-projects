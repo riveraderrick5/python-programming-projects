{
 "cells": [
  {
   "cell_type": "markdown",
   "metadata": {},
   "source": [
    "## Day 15 Proyect: Coffee Machine"
   ]
  },
  {
   "cell_type": "markdown",
   "metadata": {},
   "source": [
    "### Coffee Machine – Proyecto del Día 15 ☕️\n",
    "\n",
    "En este proyecto simulamos una **máquina de café** que:\n",
    "- Muestra un menú de bebidas (espresso, latte, cappuccino) con sus ingredientes y costo.\n",
    "- Permite al usuario ingresar el nombre de la bebida que desea.\n",
    "- Permite al usuario ingresar monedas y calcula el total insertado.\n",
    "- Verifica si hay recursos suficientes para preparar la bebida.\n",
    "- Comprueba si el pago es suficiente, ofreciendo cambio cuando es necesario.\n",
    "- Deduce los ingredientes usados del inventario y actualiza el \"profit\" (ganancias).\n",
    "- Permite al usuario ver un reporte de los recursos disponibles y terminar la máquina con el comando \"off\".\n",
    "- Finaliza el juego si no hay suficientes recursos o si el usuario lo decide.\n"
   ]
  },
  {
   "cell_type": "markdown",
   "metadata": {},
   "source": [
    "![Flujo de la coffee machine](./proyecto_Dia_15_CoffeeMachine_Flowchart.png)\n",
    "\n",
    "*Flujo de la coffee machine*"
   ]
  },
  {
   "cell_type": "markdown",
   "metadata": {},
   "source": [
    "#### Recursos y Menú\n",
    "\n",
    "Definimos dos diccionarios:\n",
    "- **MENU:** Contiene los tres tipos de bebidas, cada una con sus ingredientes necesarios y costo.\n",
    "- **resources:** Representa los recursos disponibles en la máquina (agua, leche, café).\n"
   ]
  },
  {
   "cell_type": "code",
   "execution_count": 1,
   "metadata": {},
   "outputs": [],
   "source": [
    "# MENÚ de la máquina de café\n",
    "MENU = {\n",
    "    \"espresso\": {\n",
    "        \"ingredients\": {\n",
    "            \"agua\": 50,\n",
    "            \"cafe\": 18,\n",
    "        },\n",
    "        \"cost\": 1.5,\n",
    "    },\n",
    "    \"latte\": {\n",
    "        \"ingredients\": {\n",
    "            \"agua\": 200,\n",
    "            \"leche\": 150,\n",
    "            \"cafe\": 24,\n",
    "        },\n",
    "        \"cost\": 2.5,\n",
    "    },\n",
    "    \"cappuccino\": {\n",
    "        \"ingredients\": {\n",
    "            \"agua\": 250,\n",
    "            \"leche\": 100,\n",
    "            \"cafe\": 24,\n",
    "        },\n",
    "        \"cost\": 3.0,\n",
    "    }\n",
    "}\n",
    "\n",
    "# Recursos iniciales de la máquina\n",
    "resources = {\n",
    "    \"agua\": 300,\n",
    "    \"leche\": 200,\n",
    "    \"cafe\": 100,\n",
    "}\n",
    "\n",
    "# Ganancias iniciales\n",
    "profit = 0\n"
   ]
  },
  {
   "cell_type": "markdown",
   "metadata": {},
   "source": [
    "#### Función recursos_suficientes()\n",
    "\n",
    "Esta función verifica si hay suficientes recursos para preparar la bebida solicitada.\n",
    "Recibe como parámetro los ingredientes requeridos y compara cada uno con los recursos disponibles.\n",
    "Retorna True si hay suficientes recursos o False en caso contrario.\n"
   ]
  },
  {
   "cell_type": "code",
   "execution_count": 2,
   "metadata": {},
   "outputs": [
    {
     "name": "stdout",
     "output_type": "stream",
     "text": [
      "True\n"
     ]
    }
   ],
   "source": [
    "def recursos_suficientes(ingredientes_pedido):\n",
    "    \"\"\"\n",
    "    Retorna True si los recursos disponibles son suficientes para preparar la bebida.\n",
    "    De lo contrario, imprime un mensaje indicando qué recurso es insuficiente y retorna False.\n",
    "    \"\"\"\n",
    "    for item in ingredientes_pedido:\n",
    "        if ingredientes_pedido[item] >= resources[item]:\n",
    "            print(f\"Lo siento, no hay suficiente {item}.\")\n",
    "            return False\n",
    "    return True\n",
    "\n",
    "# Ejemplo de prueba:\n",
    "print(recursos_suficientes(MENU[\"latte\"][\"ingredients\"]))\n"
   ]
  },
  {
   "cell_type": "markdown",
   "metadata": {},
   "source": [
    "#### Función calcular_monto_ingresado()\n",
    "\n",
    "Esta función solicita al usuario la cantidad de cada tipo de moneda (cuartos, dimes, nickels y pennies),\n",
    "calcula el total insertado y retorna ese valor.\n"
   ]
  },
  {
   "cell_type": "code",
   "execution_count": 3,
   "metadata": {},
   "outputs": [
    {
     "name": "stdout",
     "output_type": "stream",
     "text": [
      "Por favor, inserte monedas.\n",
      "Total ingresado: $0.41\n"
     ]
    }
   ],
   "source": [
    "def calcular_monto_ingresado():\n",
    "    \"\"\"\n",
    "    Solicita al usuario ingresar la cantidad de monedas de cada tipo.\n",
    "    Retorna el total de dinero ingresado.\n",
    "    \"\"\"\n",
    "    print(\"Por favor, inserte monedas.\")\n",
    "    try:\n",
    "        quarters = int(input(\"¿Cuántos cuartos?: \"))\n",
    "        dimes = int(input(\"¿Cuántos dimes?: \"))\n",
    "        nickels = int(input(\"¿Cuántos nickels?: \"))\n",
    "        pennies = int(input(\"¿Cuántas pennies?: \"))\n",
    "    except ValueError:\n",
    "        print(\"Por favor, ingresa números válidos.\")\n",
    "        return calcular_monto_ingresado()  # Vuelve a pedir si hay error en la entrada\n",
    "    \n",
    "    total = quarters * 0.25 + dimes * 0.10 + nickels * 0.05 + pennies * 0.01\n",
    "    return total\n",
    "\n",
    "# Ejemplo de prueba:\n",
    "payment = calcular_monto_ingresado()\n",
    "print(f\"Total ingresado: ${payment:.2f}\")\n"
   ]
  },
  {
   "cell_type": "markdown",
   "metadata": {},
   "source": [
    "#### Función transaccion_exitosa()\n",
    "\n",
    "Esta función toma el total insertado y el costo de la bebida, verifica si el pago es suficiente,\n",
    "actualiza las ganancias y retorna True si la transacción es exitosa o False en caso contrario.\n"
   ]
  },
  {
   "cell_type": "code",
   "execution_count": 4,
   "metadata": {},
   "outputs": [
    {
     "name": "stdout",
     "output_type": "stream",
     "text": [
      "Aquí tienes $0.5 de cambio.\n",
      "True\n",
      "Ganancias actuales: $2.50\n"
     ]
    }
   ],
   "source": [
    "def transaccion_exitosa(money_received, drink_cost):\n",
    "    \"\"\"\n",
    "    Retorna True si el pago es suficiente para cubrir el costo de la bebida, \n",
    "    actualiza las ganancias y muestra el cambio, o retorna False si es insuficiente.\n",
    "    \"\"\"\n",
    "    global profit\n",
    "    if money_received >= drink_cost:\n",
    "        change = round(money_received - drink_cost, 2)\n",
    "        print(f\"Aquí tienes ${change} de cambio.\")\n",
    "        profit += drink_cost\n",
    "        return True\n",
    "    else:\n",
    "        print(\"Lo siento, ese no es suficiente dinero. Se te devuelve el dinero.\")\n",
    "        return False\n",
    "\n",
    "# Ejemplo:\n",
    "profit = 0\n",
    "print(transaccion_exitosa(3.00, 2.5))\n",
    "print(f\"Ganancias actuales: ${profit:.2f}\")\n"
   ]
  },
  {
   "cell_type": "code",
   "execution_count": null,
   "metadata": {},
   "outputs": [],
   "source": [
    "def transaccion_exitosa_ALTERNATIVA(money_received, drink_cost):\n",
    "    if money_received >= drink_cost:\n",
    "        change = round(money_received - drink_cost, 2)\n",
    "        print(f\"Aquí tienes ${change} de cambio.\")\n",
    "        return True, drink_cost  # Retorna el éxito y la ganancia\n",
    "    else:\n",
    "        print(\"Lo siento, ese no es suficiente dinero.\")\n",
    "        return False, 0  # Retorna la falla y la NO ganancia\n",
    "\n",
    "# Uso:\n",
    "profit = 0\n",
    "success, ganancia = transaccion_exitosa(3.00, 2.5)\n",
    "if success:\n",
    "    profit += ganancia\n",
    "print(f\"Ganancias actuales: ${profit:.2f}\")"
   ]
  },
  {
   "cell_type": "markdown",
   "metadata": {},
   "source": [
    "#### Función hacer_cafe()\n",
    "\n",
    "Si la transacción es exitosa y hay suficientes recursos, esta función deduce los ingredientes usados de los recursos y entrega la bebida.\n"
   ]
  },
  {
   "cell_type": "code",
   "execution_count": 5,
   "metadata": {},
   "outputs": [
    {
     "name": "stdout",
     "output_type": "stream",
     "text": [
      "Recursos iniciales: {'agua': 300, 'leche': 200, 'cafe': 100}\n",
      "Disfruta tu latte ☕️!\n",
      "Recursos restantes: {'agua': 100, 'leche': 50, 'cafe': 76}\n"
     ]
    }
   ],
   "source": [
    "def hacer_cafe(drink_name, order_ingredients):\n",
    "    \"\"\"\n",
    "    Resta la cantidad de cada ingrediente utilizado en la bebida de los recursos disponibles\n",
    "    y notifica al usuario que se ha preparado su bebida.\n",
    "    \"\"\"\n",
    "    for item in order_ingredients:\n",
    "        resources[item] -= order_ingredients[item]\n",
    "    print(f\"Disfruta tu {drink_name} ☕️!\")\n",
    "\n",
    "#Ejemplo:\n",
    "resources = {\n",
    "    \"agua\": 300,\n",
    "    \"leche\": 200,\n",
    "    \"cafe\": 100,\n",
    "}\n",
    "print(\"Recursos iniciales:\", resources)  # Verifica los recursos iniciales\n",
    "\n",
    "hacer_cafe(\"latte\", MENU[\"latte\"][\"ingredients\"])\n",
    "\n",
    "print(\"Recursos restantes:\", resources)  # Verifica que los recursos se hayan actualizado correctamente\n"
   ]
  },
  {
   "cell_type": "markdown",
   "metadata": {},
   "source": [
    "#### Lógica Principal del Programa\n",
    "\n",
    "La función principal se encarga de:\n",
    "- Mostrar el menú y solicitar al usuario qué bebida desea.\n",
    "- Permitir comandos especiales: \"off\" para apagar la máquina y \"report\" para mostrar los recursos actuales.\n",
    "- Verificar que haya suficientes recursos para preparar la bebida.\n",
    "- Procesar el pago y verificar la transacción.\n",
    "- Si el pago es exitoso y hay recursos, preparar la bebida y deducir los ingredientes.\n"
   ]
  },
  {
   "cell_type": "code",
   "execution_count": 6,
   "metadata": {},
   "outputs": [],
   "source": [
    "def coffee_machine():\n",
    "    is_on = True\n",
    "    while is_on:\n",
    "        choice = input(\"¿Qué te gustaría? (espresso/latte/cappuccino): \").lower()\n",
    "        \n",
    "        # Comando para apagar la máquina\n",
    "        if choice == \"off\":\n",
    "            is_on = False                                       #Aborta el while loop\n",
    "            print(\"Apagando la Coffee Machine. ¡Hasta luego!\")\n",
    "        \n",
    "        # Comando para reporte de recursos\n",
    "        elif choice == \"reporte\":\n",
    "            print(f\"Agua: {resources['agua']}ml\")\n",
    "            print(f\"Leche: {resources['leche']}ml\")\n",
    "            print(f\"Café: {resources['cafe']}g\")\n",
    "            print(f\"Dinero: ${profit}\")\n",
    "        \n",
    "        # Si se elige una bebida\n",
    "        elif choice in MENU:\n",
    "            drink = MENU[choice]\n",
    "            # Verificar recursos\n",
    "            if recursos_suficientes(drink[\"ingredients\"]):\n",
    "                print(f\"El costo del {choice} es: ${drink['cost']}\")\n",
    "                payment = calcular_monto_ingresado()\n",
    "                if transaccion_exitosa(payment, drink[\"cost\"]):\n",
    "                    hacer_cafe(choice, drink[\"ingredients\"])\n",
    "                else:\n",
    "                    # Si el pago no es suficiente, continuar sin deducir recursos\n",
    "                    continue\n",
    "            else:\n",
    "                continue  # No hay recursos suficientes, vuelve a pedir la opción\n",
    "        else:\n",
    "            print(\"Entrada no válida. Por favor, elige una opción correcta.\")\n",
    "\n",
    "\n"
   ]
  },
  {
   "cell_type": "code",
   "execution_count": 7,
   "metadata": {},
   "outputs": [],
   "source": [
    "# Recursos iniciales de la máquina\n",
    "resources = {\n",
    "    \"agua\": 300,\n",
    "    \"leche\": 200,\n",
    "    \"cafe\": 100,\n",
    "}\n",
    "\n",
    "# Ganancias iniciales\n",
    "profit = 0"
   ]
  },
  {
   "cell_type": "code",
   "execution_count": 8,
   "metadata": {},
   "outputs": [
    {
     "name": "stdout",
     "output_type": "stream",
     "text": [
      "Agua: 300ml\n",
      "Leche: 200ml\n",
      "Café: 100g\n",
      "Dinero: $0\n",
      "El costo del latte es: $2.5\n",
      "Por favor, inserte monedas.\n",
      "Lo siento, ese no es suficiente dinero. Se te devuelve el dinero.\n",
      "El costo del latte es: $2.5\n",
      "Por favor, inserte monedas.\n",
      "Lo siento, ese no es suficiente dinero. Se te devuelve el dinero.\n",
      "El costo del latte es: $2.5\n",
      "Por favor, inserte monedas.\n",
      "Aquí tienes $1.41 de cambio.\n",
      "Disfruta tu latte ☕️!\n",
      "El costo del espresso es: $1.5\n",
      "Por favor, inserte monedas.\n",
      "Aquí tienes $2.6 de cambio.\n",
      "Disfruta tu espresso ☕️!\n",
      "Apagando la Coffee Machine. ¡Hasta luego!\n"
     ]
    }
   ],
   "source": [
    "# Iniciar la Coffee Machine\n",
    "coffee_machine()"
   ]
  },
  {
   "cell_type": "markdown",
   "metadata": {},
   "source": [
    "#### Conclusión\n",
    "\n",
    "En este proyecto hemos aplicado conceptos fundamentales de Python, tales como:\n",
    "- **Diccionarios y Listas:**  \n",
    "  Se utilizan para definir el menú de bebidas, almacenar los recursos disponibles y gestionar los ingredientes.\n",
    "- **Funciones:**  \n",
    "  Se crearon funciones específicas para procesar monedas, verificar transacciones, verificar recursos y preparar la bebida, además de la lógica principal.\n",
    "- **Bucles y Condicionales:**  \n",
    "  Se usan para mantener la máquina en funcionamiento, permitir comandos especiales (\"off\" y \"report\") y controlar el flujo de preparación y pago.\n",
    "- **Interacción con el Usuario:**  \n",
    "  Se muestra un menú interactivo, se solicitan monedas, se da feedback sobre transacciones y se deducen recursos de manera dinámica.\n",
    "\n",
    "Este enfoque modular te permite simular el funcionamiento de una máquina de café real y refuerza la importancia de descomponer problemas complejos en funciones más pequeñas y manejables.\n"
   ]
  }
 ],
 "metadata": {
  "kernelspec": {
   "display_name": "base",
   "language": "python",
   "name": "python3"
  },
  "language_info": {
   "codemirror_mode": {
    "name": "ipython",
    "version": 3
   },
   "file_extension": ".py",
   "mimetype": "text/x-python",
   "name": "python",
   "nbconvert_exporter": "python",
   "pygments_lexer": "ipython3",
   "version": "3.11.7"
  }
 },
 "nbformat": 4,
 "nbformat_minor": 2
}
