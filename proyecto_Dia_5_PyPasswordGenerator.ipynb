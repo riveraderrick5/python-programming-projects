{
 "cells": [
  {
   "cell_type": "markdown",
   "metadata": {},
   "source": [
    "## Day 5 Proyect: PyPassword Generator"
   ]
  },
  {
   "cell_type": "markdown",
   "metadata": {},
   "source": [
    "### PyPassword Generator 🔐\n",
    "\n",
    "En este notebook implementaremos un **generador de contraseñas** en Python.  \n",
    "El programa solicitará al usuario la cantidad de letras, símbolos y números que desea en su contraseña, y luego generará dos versiones:\n",
    "\n",
    "1. **Easy Level:** La contraseña se genera en secuencia (primero las letras, luego los símbolos y finalmente los números).  \n",
    "2. **Hard Level:** La contraseña se genera de forma totalmente aleatoria, mezclando letras, símbolos y números.\n",
    "\n",
    "Este proyecto pone en práctica lo aprendido sobre **bucles (loops)**, **listas**, **concatenación de cadenas**, y el uso del módulo `random` para seleccionar y mezclar elementos. ¡Manos a la obra! 🚀\n"
   ]
  },
  {
   "cell_type": "markdown",
   "metadata": {},
   "source": [
    "#### 1. Importación de Módulos y Definición de Datos\n",
    "\n",
    "Primero importamos el módulo `random` y definimos las listas que contienen:\n",
    "- Todas las letras (mayúsculas y minúsculas)\n",
    "- Números\n",
    "- Símbolos aceptados en contraseñas\n",
    "\n",
    "Estas listas serán la base para generar los caracteres de la contraseña.\n"
   ]
  },
  {
   "cell_type": "code",
   "execution_count": 1,
   "metadata": {},
   "outputs": [],
   "source": [
    "import random\n",
    "\n",
    "# Lista de letras (puedes agregar todas las letras que necesites)\n",
    "letters = [\n",
    "    'a', 'b', 'c', 'd', 'e', 'f', 'g', 'h', 'i', 'j', 'k', 'l', 'm',\n",
    "    'n', 'o', 'p', 'q', 'r', 's', 't', 'u', 'v', 'w', 'x', 'y', 'z',\n",
    "    'A', 'B', 'C', 'D', 'E', 'F', 'G', 'H', 'I', 'J', 'K', 'L', 'M',\n",
    "    'N', 'O', 'P', 'Q', 'R', 'S', 'T', 'U', 'V', 'W', 'X', 'Y', 'Z'\n",
    "]\n",
    "\n",
    "# Lista de números\n",
    "numbers = ['0', '1', '2', '3', '4', '5', '6', '7', '8', '9']\n",
    "\n",
    "# Lista de símbolos\n",
    "symbols = ['!', '#', '$', '%', '&', '(', ')', '*', '+']\n"
   ]
  },
  {
   "cell_type": "markdown",
   "metadata": {},
   "source": [
    "#### 2. Solicitud de Entrada del Usuario\n",
    "\n",
    "Solicitamos al usuario la cantidad de letras, símbolos y números que desea en la contraseña.  \n",
    "Utilizaremos `input()` y convertiremos las entradas a enteros.  \n",
    "Si el usuario ingresa un valor no numérico, se mostrará un mensaje de error y se finalizará el programa. ⚠️\n"
   ]
  },
  {
   "cell_type": "code",
   "execution_count": 2,
   "metadata": {},
   "outputs": [
    {
     "name": "stdout",
     "output_type": "stream",
     "text": [
      "Letras en la contraseña: 7\n",
      "Símbolos en la contraseña: 2\n",
      "Números en la contraseña: 2\n"
     ]
    }
   ],
   "source": [
    "# Solicitar al usuario los parámetros de la contraseña\n",
    "try:\n",
    "    nr_letters = int(input(\"¿Cuántas letras te gustaría en tu contraseña?\\n\"))\n",
    "    print(f\"Letras en la contraseña: {nr_letters}\")\n",
    "    nr_symbols = int(input(\"¿Cuántos símbolos te gustaría?\\n\"))\n",
    "    print(f\"Símbolos en la contraseña: {nr_symbols}\")\n",
    "    nr_numbers = int(input(\"¿Cuántos números te gustaría?\\n\"))\n",
    "    print(f\"Números en la contraseña: {nr_numbers}\")\n",
    "except ValueError:\n",
    "    print(\"Por favor, ingresa valores numéricos. ¡Inténtalo de nuevo! 😢\")\n",
    "    exit()\n"
   ]
  },
  {
   "cell_type": "markdown",
   "metadata": {},
   "source": [
    "#### 3. Generación de Contraseña - Easy Level\n",
    "\n",
    "En esta versión, la contraseña se genera de forma secuencial:\n",
    "1. Se añaden primero las letras.\n",
    "2. Luego se añaden los símbolos.\n",
    "3. Y finalmente se añaden los números.\n",
    "\n",
    "Se utiliza la función `random.choice()` para seleccionar aleatoriamente elementos de cada lista.  \n",
    "El resultado se muestra concatenando cada grupo de caracteres.\n"
   ]
  },
  {
   "cell_type": "code",
   "execution_count": 3,
   "metadata": {},
   "outputs": [
    {
     "name": "stdout",
     "output_type": "stream",
     "text": [
      "Contraseña Easy Level:\n",
      "MWoBSkW%#07\n"
     ]
    }
   ],
   "source": [
    "# Easy Level: generar la contraseña en orden (letras, símbolos, números)\n",
    "password_easy = \"\"\n",
    "\n",
    "# Agregar letras\n",
    "for _ in range(nr_letters):\n",
    "    password_easy += random.choice(letters)\n",
    "\n",
    "# Agregar símbolos\n",
    "for _ in range(nr_symbols):\n",
    "    password_easy += random.choice(symbols)\n",
    "\n",
    "# Agregar números\n",
    "for _ in range(nr_numbers):\n",
    "    password_easy += random.choice(numbers)\n",
    "\n",
    "print(\"Contraseña Easy Level:\")\n",
    "print(password_easy)\n"
   ]
  },
  {
   "cell_type": "markdown",
   "metadata": {},
   "source": [
    "#### 4. Generación de Contraseña - Hard Level\n",
    "\n",
    "En la versión Hard, se genera la contraseña mezclando de forma aleatoria las letras, símbolos y números.  \n",
    "Para ello:\n",
    "- Se almacena cada carácter en una lista.\n",
    "- Se utiliza `random.shuffle()` para mezclar el orden de los elementos.\n",
    "- Finalmente, se une la lista en una cadena para mostrar la contraseña final.\n"
   ]
  },
  {
   "cell_type": "code",
   "execution_count": 4,
   "metadata": {},
   "outputs": [
    {
     "name": "stdout",
     "output_type": "stream",
     "text": [
      "Antes de mezclar: ['k', 'C', 'D', 'j', 'R', 'V', 'o', '$', '&', '7', '7']\n",
      "Después de mezclar: ['o', '7', 'V', '&', 'k', 'R', '$', 'D', '7', 'C', 'j']\n",
      "Contraseña Hard Level:\n",
      "o7V&kR$D7Cj\n"
     ]
    }
   ],
   "source": [
    "# Hard Level: generar la contraseña mezclando letras, símbolos y números\n",
    "password_list = []\n",
    "\n",
    "# Agregar letras a la lista\n",
    "for _ in range(nr_letters):\n",
    "    password_list.append(random.choice(letters))\n",
    "\n",
    "# Agregar símbolos a la lista\n",
    "for _ in range(nr_symbols):\n",
    "    password_list.append(random.choice(symbols))\n",
    "\n",
    "# Agregar números a la lista\n",
    "for _ in range(nr_numbers):\n",
    "    password_list.append(random.choice(numbers))\n",
    "\n",
    "print(\"Antes de mezclar:\", password_list)\n",
    "\n",
    "# Mezclar la lista de forma aleatoria\n",
    "random.shuffle(password_list)\n",
    "print(\"Después de mezclar:\", password_list)\n",
    "\n",
    "# Convertir la lista en una cadena de caracteres\n",
    "password_hard = \"\".join(password_list)\n",
    "\n",
    "print(\"Contraseña Hard Level:\")\n",
    "print(password_hard)\n"
   ]
  },
  {
   "cell_type": "markdown",
   "metadata": {},
   "source": [
    "#### Conclusión\n",
    "\n",
    "En este proyecto hemos aplicado conceptos fundamentales de Python, tales como:\n",
    "- Uso de bucles para iterar sobre rangos.\n",
    "- Manipulación de listas y cadenas.\n",
    "- Uso del módulo `random` para seleccionar y mezclar elementos.\n",
    "- Gestión de entradas del usuario con validación.\n"
   ]
  }
 ],
 "metadata": {
  "kernelspec": {
   "display_name": "base",
   "language": "python",
   "name": "python3"
  },
  "language_info": {
   "codemirror_mode": {
    "name": "ipython",
    "version": 3
   },
   "file_extension": ".py",
   "mimetype": "text/x-python",
   "name": "python",
   "nbconvert_exporter": "python",
   "pygments_lexer": "ipython3",
   "version": "3.11.7"
  }
 },
 "nbformat": 4,
 "nbformat_minor": 2
}
