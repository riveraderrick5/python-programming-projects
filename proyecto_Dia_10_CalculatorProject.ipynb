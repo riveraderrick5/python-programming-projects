{
 "cells": [
  {
   "cell_type": "markdown",
   "metadata": {},
   "source": [
    "## Day 10 Proyect: Calculator Project"
   ]
  },
  {
   "cell_type": "markdown",
   "metadata": {},
   "source": [
    "### Calculadora – Proyecto del Día 10 🔢\n",
    "\n",
    "En este proyecto implementaremos una **calculadora interactiva** en Python.  \n",
    "La calculadora permite:\n",
    "- Solicitar al usuario el primer número.\n",
    "- Pedir al usuario que seleccione una operación (suma, resta, multiplicación o división) de entre las opciones `+`, `-`, `*` y `/`.\n",
    "- Solicitar el segundo número y mostrar el resultado de la operación.\n",
    "- Preguntar al usuario si desea continuar calculando con el resultado obtenido o reiniciar el cálculo.\n",
    "- Permitir la realización de múltiples operaciones de manera consecutiva, usando el resultado previo cuando se elija continuar.\n",
    "\n",
    "Este proyecto pone en práctica conceptos como:\n",
    "- **Funciones:** Creación de funciones para cada operación y para la calculadora.\n",
    "- **Diccionarios:** Almacenamiento de funciones en un diccionario para seleccionar la operación mediante una clave.\n",
    "- **Recursión o bucles:** Para reiniciar o continuar calculando.\n",
    "- **Manejo de entradas y conversión de tipos:** Uso de `input()` y conversión a `float` para operaciones aritméticas.\n"
   ]
  },
  {
   "cell_type": "markdown",
   "metadata": {},
   "source": [
    "#### 1. Funciones de Operación\n",
    "\n",
    "Creamos funciones para cada operación básica:\n",
    "- `add(n1, n2)`: suma dos números.\n",
    "- `subtract(n1, n2)`: resta el segundo número del primero.\n",
    "- `multiply(n1, n2)`: multiplica dos números.\n",
    "- `divide(n1, n2)`: divide el primer número por el segundo.\n",
    "\n",
    "Estas funciones reciben dos argumentos y retornan el resultado.\n"
   ]
  },
  {
   "cell_type": "code",
   "execution_count": 1,
   "metadata": {},
   "outputs": [
    {
     "name": "stdout",
     "output_type": "stream",
     "text": [
      "Suma: 6\n",
      "Resta: 6\n",
      "Multiplicación: 32\n",
      "División: 5.0\n"
     ]
    }
   ],
   "source": [
    "def add(n1, n2):\n",
    "    return n1 + n2\n",
    "\n",
    "def subtract(n1, n2):\n",
    "    return n1 - n2\n",
    "\n",
    "def multiply(n1, n2):\n",
    "    return n1 * n2\n",
    "\n",
    "def divide(n1, n2):\n",
    "    # Asegurarse de no dividir por cero\n",
    "    if n2 == 0:\n",
    "        return \"Error: División por cero\"\n",
    "    return n1 / n2\n",
    "\n",
    "# Ejemplo de prueba:\n",
    "print(\"Suma:\", add(3, 3))          # Debe imprimir 6\n",
    "print(\"Resta:\", subtract(10, 4))    # Debe imprimir 6\n",
    "print(\"Multiplicación:\", multiply(4, 8))  # Debe imprimir 32\n",
    "print(\"División:\", divide(15, 3))   # Debe imprimir 5.0\n"
   ]
  },
  {
   "cell_type": "markdown",
   "metadata": {},
   "source": [
    "#### 2. Diccionario de Operaciones\n",
    "\n",
    "Almacenamos las funciones creadas en un diccionario, donde las claves son los símbolos de la operación (`+`, `-`, `*`, `/`), y los valores son las funciones correspondientes.  \n",
    "De esta forma, podremos seleccionar la función a utilizar según el operador ingresado por el usuario.\n"
   ]
  },
  {
   "cell_type": "code",
   "execution_count": 2,
   "metadata": {},
   "outputs": [
    {
     "name": "stdout",
     "output_type": "stream",
     "text": [
      "Resultado de 4 * 8: 32\n"
     ]
    }
   ],
   "source": [
    "# Crear un diccionario con las operaciones\n",
    "operations = {\n",
    "    \"+\": add,\n",
    "    \"-\": subtract,\n",
    "    \"*\": multiply,\n",
    "    \"/\": divide\n",
    "}\n",
    "\n",
    "# Ejemplo de uso: multiplicar 4 por 8 utilizando el diccionario\n",
    "resultado = operations[\"*\"](4, 8)\n",
    "print(\"Resultado de 4 * 8:\", resultado)\n"
   ]
  },
  {
   "cell_type": "markdown",
   "metadata": {},
   "source": [
    "#### 3. Función Calculadora\n",
    "\n",
    "Implementamos la función `calculator()` que integra la lógica de la calculadora.  \n",
    "Esta función:\n",
    "- Solicita al usuario el primer número, el operador y el segundo número.\n",
    "- Realiza la operación seleccionada usando el diccionario `operations`.\n",
    "- Muestra la operación completa (ejemplo: \"3 + 3 = 6\").\n",
    "- Pregunta al usuario si desea continuar calculando con el resultado obtenido o reiniciar el cálculo.\n",
    "- Utiliza recursión para reiniciar la calculadora en caso de que el usuario quiera empezar un nuevo cálculo.\n",
    "  \n",
    "*Nota:* Si prefieres, puedes usar un bucle en lugar de recursión para continuar con la calculadora.\n"
   ]
  },
  {
   "cell_type": "code",
   "execution_count": 3,
   "metadata": {},
   "outputs": [],
   "source": [
    "def calculator():\n",
    "    #Switch para continuar realizando operaciones\n",
    "    acumular = True\n",
    "    \n",
    "    # Solicitar el primer número (convertir a float para poder trabajar con decimales)\n",
    "    num1 = float(input(\"¿Cuál es el primer número? \"))\n",
    "    \n",
    "    while acumular:\n",
    "        # Imprimir las opciones de operación disponibles (usando las claves del diccionario)\n",
    "        print(\"Elige una operación (elige de +, -, *, /):\")\n",
    "        # for op in operations:\n",
    "        #     print(op)\n",
    "        \n",
    "        operation_symbol = input(\"¿Qué operación quieres realizar? (elige de +, -, *, /): \") # Solicitar el operador\n",
    "        num2 = float(input(\"¿Cuál es el siguiente número? \"))           # Solicitar el segundo número\n",
    "\n",
    "        answer = operations[operation_symbol](num1, num2)               # Realizar la operación utilizando el diccionario\n",
    "        print(f\"{num1} {operation_symbol} {num2} = {answer}\")           # Mostrar el resultado de la operación\n",
    "    \n",
    "        # Preguntar si el usuario quiere continuar con el resultado o reiniciar\n",
    "        choice = input(f\"Escribe 'si' para continuar calculando con {answer}, o 'no' para iniciar una nueva operación: \").lower()\n",
    "    \n",
    "        \n",
    "        if choice == \"si\":\n",
    "            # Aquí simplificamos el proceso: reiniciamos la función y usamos el resultado previo\n",
    "            num1 = answer\n",
    "            print(\"\\n\" * 2)\n",
    "        else:\n",
    "            acumular = False        #Cambiamos el Switch para apagar la calculadora\n",
    "            print(\"\\n\" * 2)\n",
    "            print(\"Calculadora finalizada. ¡Hasta luego!\")        "
   ]
  },
  {
   "cell_type": "code",
   "execution_count": 4,
   "metadata": {},
   "outputs": [
    {
     "name": "stdout",
     "output_type": "stream",
     "text": [
      "Elige una operación (elige de +, -, *, /):\n",
      "2.0 + 3.0 = 5.0\n",
      "\n",
      "\n",
      "\n",
      "Elige una operación (elige de +, -, *, /):\n",
      "5.0 * 4.0 = 20.0\n",
      "\n",
      "\n",
      "\n",
      "Elige una operación (elige de +, -, *, /):\n",
      "20.0 - 6.0 = 14.0\n",
      "\n",
      "\n",
      "\n",
      "Elige una operación (elige de +, -, *, /):\n",
      "14.0 / 4.0 = 3.5\n",
      "\n",
      "\n",
      "\n",
      "Calculadora finalizada. ¡Hasta luego!\n"
     ]
    }
   ],
   "source": [
    "# Iniciar la calculadora\n",
    "calculator()"
   ]
  },
  {
   "cell_type": "markdown",
   "metadata": {},
   "source": [
    "#### Conclusión\n",
    "\n",
    "En este proyecto hemos aplicado conceptos fundamentales de Python, tales como:\n",
    "- **Funciones:**  \n",
    "  Creación de funciones para cada operación (suma, resta, multiplicación y división) y para la calculadora en sí.\n",
    "- **Diccionarios:**  \n",
    "  Almacenamiento de funciones en un diccionario, lo que permite seleccionar la operación a través de una clave.\n",
    "- **Recursión y/o Bucles:**  \n",
    "  Permitir que el usuario continúe calculando con el resultado previo o reiniciar el cálculo.\n",
    "- **Manejo de Entradas y Conversión de Tipos:**  \n",
    "  Uso de `input()` y conversión a `float` para realizar cálculos con precisión.\n",
    "- **Interacción con el Usuario:**  \n",
    "  Presentar un logo, mostrar la ecuación completa y ofrecer una experiencia interactiva.\n",
    "\n",
    "Este enfoque no solo refuerza los fundamentos de Python, sino que también demuestra habilidades en la organización y modularización del código, elementos clave para proyectos profesionales.\n"
   ]
  }
 ],
 "metadata": {
  "kernelspec": {
   "display_name": "base",
   "language": "python",
   "name": "python3"
  },
  "language_info": {
   "codemirror_mode": {
    "name": "ipython",
    "version": 3
   },
   "file_extension": ".py",
   "mimetype": "text/x-python",
   "name": "python",
   "nbconvert_exporter": "python",
   "pygments_lexer": "ipython3",
   "version": "3.11.7"
  }
 },
 "nbformat": 4,
 "nbformat_minor": 2
}
