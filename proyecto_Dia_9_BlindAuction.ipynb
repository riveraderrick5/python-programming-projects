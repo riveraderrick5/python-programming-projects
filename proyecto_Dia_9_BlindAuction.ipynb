{
 "cells": [
  {
   "cell_type": "markdown",
   "metadata": {},
   "source": [
    "## Day 9 Proyect: Blind Auction"
   ]
  },
  {
   "cell_type": "markdown",
   "metadata": {},
   "source": [
    "### Blind Auction – Proyecto del Día 9 🧧​\n",
    "\n",
    "En este proyecto desarrollamos un programa de **subasta a ciegas**.  \n",
    "El flujo del programa es el siguiente:\n",
    "- Se muestra un logo introductorio.\n",
    "- Se solicita al usuario su nombre y su oferta.\n",
    "- Se guarda la información en un diccionario donde el nombre es la llave y la oferta, el valor.\n",
    "- Se pregunta si hay más participantes. Si la respuesta es \"yes\", se \"limpia\" la pantalla (se imprimen múltiples saltos de línea) y se repite el proceso.\n",
    "- Una vez que no hay más participantes, se recorre el diccionario para determinar quién hizo la mayor oferta.\n",
    "- Finalmente, se muestra el ganador junto con su puja."
   ]
  },
  {
   "cell_type": "markdown",
   "metadata": {},
   "source": [
    "![Flujo de la subasta a ciegas](./proyecto_Dia_9_BlindAuction_FlowChart.png)\n",
    "\n",
    "*Flujo de la subasta a ciegas*"
   ]
  },
  {
   "cell_type": "markdown",
   "metadata": {},
   "source": [
    "#### 1. Preparación Inicial\n",
    "\n",
    "Preparamos el diccionario para almacenar las ofertas.\n"
   ]
  },
  {
   "cell_type": "code",
   "execution_count": 1,
   "metadata": {},
   "outputs": [],
   "source": [
    "# Inicializar el diccionario de ofertas (bids)\n",
    "ofertas = {}"
   ]
  },
  {
   "cell_type": "markdown",
   "metadata": {},
   "source": [
    "#### 2. Captura de Ofertas y Limpieza de Pantalla\n",
    "\n",
    "Se solicita al usuario su nombre y su oferta, convirtiendo la oferta a un número. Luego se pregunta si hay más participantes; si la respuesta es \"yes\", se \"limpia\" la pantalla imprimiendo múltiples saltos de línea para que los datos anteriores no sean visibles.\n"
   ]
  },
  {
   "cell_type": "code",
   "execution_count": 2,
   "metadata": {},
   "outputs": [
    {
     "name": "stdout",
     "output_type": "stream",
     "text": [
      "\n",
      "\n",
      "\n",
      "\n",
      "\n",
      "\n",
      "\n",
      "\n",
      "\n",
      "\n",
      "\n",
      "\n"
     ]
    }
   ],
   "source": [
    "# Bucle para capturar las ofertas de todos los participantes\n",
    "seguir_ofertando = True\n",
    "\n",
    "while seguir_ofertando:\n",
    "    # Capturar datos del participante\n",
    "    ofertanteNombre = input(\"¿Cuál es tu nombre? \")\n",
    "    try:\n",
    "        ofertanteOferta = float(input(\"¿Cuál es tu puja? $\"))\n",
    "    except ValueError:\n",
    "        print(\"Por favor, ingresa un número válido para la puja.\")\n",
    "        break\n",
    "    \n",
    "    # Agregar la oferta al diccionario (la llave es el nombre y el valor, la puja)\n",
    "    ofertas[ofertanteNombre] = ofertanteOferta\n",
    "    \n",
    "    # Preguntar si hay más participantes\n",
    "    continuar = input(\"¿Hay algún otro postor? (sí/no): \").lower()\n",
    "    \n",
    "    if continuar == \"no\":\n",
    "        seguir_ofertando = False\n",
    "    else:\n",
    "        # \"Limpiar\" la pantalla imprimiendo múltiples saltos de línea\n",
    "        print(\"\\n\" * 5)\n",
    "\n"
   ]
  },
  {
   "cell_type": "code",
   "execution_count": 3,
   "metadata": {},
   "outputs": [
    {
     "name": "stdout",
     "output_type": "stream",
     "text": [
      "{'David': 300.0, 'Jose': 100.0, 'Alex': 150.0}\n"
     ]
    }
   ],
   "source": [
    "print(ofertas)"
   ]
  },
  {
   "cell_type": "markdown",
   "metadata": {},
   "source": [
    "#### 3. Determinar al Ganador\n",
    "\n",
    "Crearemos una función llamada `encontrar_el_mayor_ofertador` que recorre el diccionario de ofertas y determina quién realizó la puja más alta.\n"
   ]
  },
  {
   "cell_type": "code",
   "execution_count": 4,
   "metadata": {},
   "outputs": [],
   "source": [
    "def encontrar_el_mayor_ofertador(diccionario_de_ofertas):\n",
    "    \"\"\"Recorre el diccionario y devuelve el nombre y la puja más alta.\"\"\"\n",
    "    puja_mas_alta = 0\n",
    "    ganador = \"\"\n",
    "    \n",
    "    for ofertador in diccionario_de_ofertas:\n",
    "        monto_de_puja = diccionario_de_ofertas[ofertador]\n",
    "        if monto_de_puja > puja_mas_alta:\n",
    "            puja_mas_alta = monto_de_puja\n",
    "            ganador = ofertador\n",
    "    print(f\"\\nEl ganador es {ganador} con una puja de ${puja_mas_alta}.\")\n"
   ]
  },
  {
   "cell_type": "code",
   "execution_count": 5,
   "metadata": {},
   "outputs": [
    {
     "name": "stdout",
     "output_type": "stream",
     "text": [
      "\n",
      "El ganador es David con una puja de $300.0.\n"
     ]
    }
   ],
   "source": [
    "encontrar_el_mayor_ofertador(ofertas)"
   ]
  },
  {
   "cell_type": "markdown",
   "metadata": {},
   "source": [
    "#### 4. Bucle Principal de la Subasta"
   ]
  },
  {
   "cell_type": "code",
   "execution_count": 6,
   "metadata": {},
   "outputs": [
    {
     "name": "stdout",
     "output_type": "stream",
     "text": [
      "\n",
      "\n",
      "\n",
      "\n",
      "\n",
      "\n",
      "\n",
      "\n",
      "\n",
      "\n",
      "\n",
      "\n",
      "\n",
      "El ganador es David con una puja de $300.0.\n"
     ]
    }
   ],
   "source": [
    "# Inicializar el diccionario de ofertas (bids)\n",
    "ofertas = {}\n",
    "\n",
    "# Bucle para capturar las ofertas de todos los participantes\n",
    "seguir_ofertando = True\n",
    "\n",
    "while seguir_ofertando:\n",
    "    # Capturar datos del participante\n",
    "    ofertanteNombre = input(\"¿Cuál es tu nombre? \")\n",
    "    try:\n",
    "        ofertanteOferta = float(input(\"¿Cuál es tu puja? $\"))\n",
    "    except ValueError:\n",
    "        print(\"Por favor, ingresa un número válido para la puja.\")\n",
    "        break\n",
    "    \n",
    "    # Agregar la oferta al diccionario (la llave es el nombre y el valor, la puja)\n",
    "    ofertas[ofertanteNombre] = ofertanteOferta\n",
    "    \n",
    "    # Preguntar si hay más participantes\n",
    "    continuar = input(\"¿Hay algún otro postor? (sí/no): \").lower()\n",
    "    \n",
    "    if continuar == \"no\":\n",
    "        seguir_ofertando = False\n",
    "        encontrar_el_mayor_ofertador(ofertas)\n",
    "    else:\n",
    "        # \"Limpiar\" la pantalla imprimiendo múltiples saltos de línea\n",
    "        print(\"\\n\" * 5)"
   ]
  },
  {
   "cell_type": "markdown",
   "metadata": {},
   "source": [
    "#### Conclusión\n",
    "\n",
    "En este proyecto hemos aplicado conceptos fundamentales de Python, tales como:\n",
    "- **Diccionarios:**  \n",
    "  Almacenamos las ofertas con el nombre del participante como llave y la puja como valor.\n",
    "- **Bucles:**  \n",
    "  Utilizamos un bucle `while` para permitir múltiples entradas y gestionar la continuidad de la subasta.\n",
    "- **Funciones:**  \n",
    "  La función `encontrar_el_mayor_ofertador` modulariza la lógica de comparación para determinar el ganador.\n",
    "- **Interacción con el Usuario y Limpieza de Pantalla:**  \n",
    "  Se implementa una \"limpieza\" de pantalla mediante la impresión de múltiples saltos de línea para mantener la confidencialidad de las ofertas.\n",
    "\n",
    "Este enfoque no solo refuerza los fundamentos de Python, sino que también demuestra cómo estructurar y organizar un programa interactivo con claridad y profesionalismo.\n"
   ]
  }
 ],
 "metadata": {
  "kernelspec": {
   "display_name": "base",
   "language": "python",
   "name": "python3"
  },
  "language_info": {
   "codemirror_mode": {
    "name": "ipython",
    "version": 3
   },
   "file_extension": ".py",
   "mimetype": "text/x-python",
   "name": "python",
   "nbconvert_exporter": "python",
   "pygments_lexer": "ipython3",
   "version": "3.11.7"
  }
 },
 "nbformat": 4,
 "nbformat_minor": 2
}
