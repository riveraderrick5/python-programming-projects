{
 "cells": [
  {
   "cell_type": "markdown",
   "metadata": {},
   "source": [
    "## Day 36 Proyect: Stock News Notifier"
   ]
  },
  {
   "cell_type": "markdown",
   "metadata": {},
   "source": [
    "### Stock News Notifier 📈📰 – Proyecto del Día 36\n",
    "\n",
    "Este proyecto te alerta cuando el precio de una acción (por ejemplo, Tesla - TSLA) cambia significativamente.  \n",
    "Cuando ocurre una variación importante, se consulta la API de noticias y se envía un resumen por WhatsApp.\n",
    "\n",
    "📌 Se integran habilidades como:\n",
    "- Consumo de APIs (Alpha Vantage y NewsAPI)\n",
    "- Análisis de cambios porcentuales\n",
    "- Slicing de listas\n",
    "- Formato condicional con emojis 📊\n",
    "- Automatización de notificaciones vía WhatsApp (Twilio)\n"
   ]
  },
  {
   "cell_type": "markdown",
   "metadata": {},
   "source": [
    "#### Paso 1: Consulta del precio de acciones con Alpha Vantage\n",
    "\n",
    "Obtenemos los precios de cierre de los dos últimos días para calcular la diferencia porcentual.\n"
   ]
  },
  {
   "cell_type": "code",
   "execution_count": 1,
   "metadata": {},
   "outputs": [],
   "source": [
    "import requests\n",
    "import os\n",
    "from twilio.rest import Client"
   ]
  },
  {
   "cell_type": "code",
   "execution_count": null,
   "metadata": {},
   "outputs": [],
   "source": [
    "# Parametros para consultar la API de Alpha Vantage\n",
    "STOCK = \"TSLA\"\n",
    "COMPANY_NAME = \"Tesla Inc\"\n",
    "ALPHA_VANTAGE_API_KEY = \"ALPHA_VANTAGE_API_KEY\"\n",
    "stock_url = \"https://www.alphavantage.co/query\"\n",
    "\n",
    "\n",
    "stock_params = {\n",
    "    \"function\": \"TIME_SERIES_DAILY\",\n",
    "    \"symbol\": STOCK,\n",
    "    \"apikey\": ALPHA_VANTAGE_API_KEY\n",
    "}\n"
   ]
  },
  {
   "cell_type": "code",
   "execution_count": 3,
   "metadata": {},
   "outputs": [
    {
     "name": "stdout",
     "output_type": "stream",
     "text": [
      "✅ Solicitud exitosa\n"
     ]
    }
   ],
   "source": [
    "# Crear la solicitud al API de Alpha Vantage\n",
    "response = requests.get(url=stock_url\n",
    "                        ,params=stock_params\n",
    "                        )\n",
    "\n",
    "# Validar la solicitud\n",
    "if response.status_code == 200:                         #Si es exitosa imprimimos el mensaje de éxito\n",
    "    print(\"✅ Solicitud exitosa\")\n",
    "else:\n",
    "    print(\"❌ Error:\", response.status_code)            # Si no es exitosa imprimimos el mensaje de error\n",
    "    print(\"Respuesta:\", response.json()[\"message\"]) "
   ]
  },
  {
   "cell_type": "code",
   "execution_count": 4,
   "metadata": {},
   "outputs": [
    {
     "name": "stdout",
     "output_type": "stream",
     "text": [
      "TSLA: 🔻 2%\n"
     ]
    }
   ],
   "source": [
    "# Obtener el diccionario de datos por día\n",
    "data = response.json()[\"Time Series (Daily)\"]\n",
    "\n",
    "# Convertir a lista ordenada\n",
    "data_list = [value for (date, value) in data.items()]\n",
    "\n",
    "# Obtener los precios de cierre de ayer y anteayer\n",
    "yesterday_close = float(data_list[0][\"4. close\"])               # Convertir a float para poder hacer operaciones matemáticas\n",
    "day_before_yesterday_close = float(data_list[1][\"4. close\"])    # Convertir a float para poder hacer operaciones matemáticas\n",
    "\n",
    "# Calcular diferencia\n",
    "difference = yesterday_close - day_before_yesterday_close\n",
    "\n",
    "# Calcular porcentaje de diferencia\n",
    "diff_percent = round(abs(difference) / day_before_yesterday_close * 100)\n",
    "\n",
    "# Asignar el emoji de subida o bajada\n",
    "up_down = \"🔼\" if difference > 0 else \"🔻\"\n",
    "\n",
    "# Mostrar el resultado de manera amigable\n",
    "print(f\"{STOCK}: {up_down} {diff_percent}%\")"
   ]
  },
  {
   "cell_type": "markdown",
   "metadata": {},
   "source": [
    "#### Paso 2: Si hay cambio importante, consultar noticias relevantes 🗞️\n",
    "\n",
    "Usamos NewsAPI para buscar noticias recientes que mencionen el nombre de la compañía.\n"
   ]
  },
  {
   "cell_type": "code",
   "execution_count": null,
   "metadata": {},
   "outputs": [],
   "source": [
    "# Parametros para consultar la API de News API\n",
    "#NEWS_API_KEY = os.environ.get(\"NEWS_API_KEY\")\n",
    "NEWS_API_KEY = \"NEWS_API_KEY\"\n",
    "news_url = \"https://newsapi.org/v2/everything\"\n",
    "news_params = {\n",
    "    \"qInTitle\": COMPANY_NAME,\n",
    "    \"apiKey\": NEWS_API_KEY,\n",
    "    \"language\": \"en\"\n",
    "}"
   ]
  },
  {
   "cell_type": "code",
   "execution_count": 6,
   "metadata": {},
   "outputs": [
    {
     "name": "stdout",
     "output_type": "stream",
     "text": [
      "✅ Solicitud exitosa\n",
      "Artículos formateados: ['TSLA: 🔻2%\\nHeadline: Analyst Report: Tesla Inc\\nDate: 2025-04-24T10:58:25Z\\nBrief: None', 'TSLA: 🔻2%\\nHeadline: Tesla, Inc. (TSLA): A Bull Case Theory\\nDate: 2025-04-28T16:33:52Z\\nBrief: None', 'TSLA: 🔻2%\\nHeadline: Tesla, Inc. (TSLA): A Bull Case Theory\\nDate: 2025-04-08T13:17:04Z\\nBrief: None']\n"
     ]
    }
   ],
   "source": [
    "# Consutar la API de NewsAPI si la diferencia es mayor al 1%\n",
    "if diff_percent > 1:\n",
    "  # Crear la solicitud al API de NewsAPI\n",
    "  news_response = requests.get(url=news_url\n",
    "                              , params=news_params)\n",
    "  \n",
    "  # Validar la solicitud\n",
    "  if news_response.status_code == 200:                       # Si es exitosa imprimimos el mensaje de éxito\n",
    "    print(\"✅ Solicitud exitosa\")\n",
    "  else:\n",
    "    print(\"❌ Error:\", news_response.status_code)            # Si no es exitosa imprimimos el mensaje de error\n",
    "    print(\"Respuesta:\", news_response.json()[\"message\"]) \n",
    "\n",
    "# Obtener el diccionario de datos de noticias\n",
    "  articles = news_response.json()[\"articles\"]\n",
    "\n",
    "  # Seleccionar 3 noticias principales\n",
    "  top_3_articles = articles[:3]\n",
    "\n",
    "  # Formatear artículos\n",
    "  formatted_articles = [\n",
    "      f\"{STOCK}: {up_down}{diff_percent}%\\nHeadline: {article['title']}\\nDate: {article['publishedAt']}\\nBrief: {article['description']}\"\n",
    "      #f\"Headline: {article['title']}.\\nBrief: {article['description']}\"\n",
    "      for article in top_3_articles\n",
    "  ]\n",
    "\n",
    "  print(f\"Artículos formateados: {formatted_articles}\")\n",
    "\n",
    "\n",
    "# Si la diferencia es menor a 1% no se consulta la API de NewsAPI\n",
    "else:\n",
    "  print(\"La diferencia es menor al 5%\")\n"
   ]
  },
  {
   "cell_type": "markdown",
   "metadata": {},
   "source": [
    "#### Paso 3: Enviar resumen por WhatsApp con Twilio 📲\n",
    "\n",
    "Se envía cada artículo como un mensaje separado al número verificado por el sandbox.\n"
   ]
  },
  {
   "cell_type": "code",
   "execution_count": null,
   "metadata": {},
   "outputs": [],
   "source": [
    "# Twilio credentials \n",
    "# TWILIO_SID = os.getenv(\"TWILIO_SID\")\n",
    "# TWILIO_AUTH_TOKEN = os.environ.get(\"TWILIO_AUTH_TOKEN\")\n",
    "\n",
    "TWILIO_SID =\"TWILIO_SID\"\n",
    "TWILIO_AUTH_TOKEN = \"TWILIO_SID\"\n",
    "\n",
    "\n",
    "# Sandbox de WhatsApp\n",
    "WHATSAPP_FROM = \"whatsapp:+1415523xxxx\"   # Número de Twilio Sandbox\n",
    "WHATSAPP_TO = \"whatsapp:+521556696xxxx\"   # Tu número verificado con prefijo"
   ]
  },
  {
   "cell_type": "code",
   "execution_count": 8,
   "metadata": {},
   "outputs": [
    {
     "name": "stdout",
     "output_type": "stream",
     "text": [
      "✅ Mensaje enviado: TSLA: 🔻2%\n",
      "Headline: Analyst Report: Tesla Inc\n",
      "Date: 2025-04-24T10:58:25Z\n",
      "Brief: None\n",
      "✅ Mensaje enviado: TSLA: 🔻2%\n",
      "Headline: Tesla, Inc. (TSLA): A Bull Case Theory\n",
      "Date: 2025-04-28T16:33:52Z\n",
      "Brief: None\n",
      "✅ Mensaje enviado: TSLA: 🔻2%\n",
      "Headline: Tesla, Inc. (TSLA): A Bull Case Theory\n",
      "Date: 2025-04-08T13:17:04Z\n",
      "Brief: None\n"
     ]
    }
   ],
   "source": [
    "client = Client(TWILIO_SID, TWILIO_AUTH_TOKEN)\n",
    "\n",
    "for article in formatted_articles:\n",
    "    message = client.messages.create(\n",
    "        from_=WHATSAPP_FROM,  # Twilio Sandbox\n",
    "        to=WHATSAPP_TO,     # Número verificado\n",
    "        body=article\n",
    "    )\n",
    "    print(f\"✅ Mensaje enviado: {message.body}\")\n"
   ]
  },
  {
   "cell_type": "markdown",
   "metadata": {},
   "source": [
    "#### 🧠 Conclusión\n",
    "\n",
    "Este proyecto combinó múltiples componentes del mundo real:\n",
    "\n",
    "- 📊 Consultar datos históricos de acciones con Alpha Vantage\n",
    "- 📉 Analizar cambios porcentuales significativos\n",
    "- 📰 Buscar noticias relacionadas con empresas usando NewsAPI\n",
    "- 💬 Automatizar notificaciones a través de WhatsApp\n",
    "\n",
    "Este flujo puede escalarse para alertas financieras, sistemas de monitoreo bursátil o trading algorítmico.\n"
   ]
  }
 ],
 "metadata": {
  "kernelspec": {
   "display_name": "base",
   "language": "python",
   "name": "python3"
  },
  "language_info": {
   "codemirror_mode": {
    "name": "ipython",
    "version": 3
   },
   "file_extension": ".py",
   "mimetype": "text/x-python",
   "name": "python",
   "nbconvert_exporter": "python",
   "pygments_lexer": "ipython3",
   "version": "3.11.7"
  }
 },
 "nbformat": 4,
 "nbformat_minor": 2
}
