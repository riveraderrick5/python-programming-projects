{
 "cells": [
  {
   "cell_type": "markdown",
   "metadata": {},
   "source": [
    "## Day 22 Proyect: Pong Game"
   ]
  },
  {
   "cell_type": "markdown",
   "metadata": {},
   "source": [
    "### Pong Game – Proyecto del Día 22 🏓\n",
    "\n",
    "En este proyecto creamos un juego de Pong usando el módulo **turtle** de Python.  \n",
    "El juego consiste en:\n",
    "- **Configuración de la Pantalla:** Se establece una ventana de 800x600 píxeles, con fondo negro y título \"Pong\".\n",
    "- **Creación de las Paletas (Paddles):** Se desarrollan dos paletas, una a la derecha y otra a la izquierda, con dimensiones de 20x100 píxeles. Cada paleta se controla con el teclado (flechas para la derecha, \"w\" y \"s\" para la izquierda).\n",
    "- **Creación del Balón:** Un objeto (Ball) se mueve de forma continua, rebotando en las paredes superior e inferior. También se detecta la colisión con las paletas y, en caso de fallo, el balón se reinicia en el centro.\n",
    "- **Lógica del Juego:** Se detecta la colisión del balón con los bordes y las paletas, se cambia la dirección de movimiento según corresponda, y se reinicia el balón cuando una paleta falla.\n",
    "  \n",
    "Este proyecto refuerza conceptos de programación orientada a objetos, control de eventos con Turtle y lógica de juego.\n"
   ]
  },
  {
   "cell_type": "code",
   "execution_count": 7,
   "metadata": {},
   "outputs": [
    {
     "ename": "SyntaxError",
     "evalue": "invalid syntax (1879532320.py, line 3)",
     "output_type": "error",
     "traceback": [
      "\u001b[1;36m  Cell \u001b[1;32mIn[7], line 3\u001b[1;36m\u001b[0m\n\u001b[1;33m    *Pong Game*\u001b[0m\n\u001b[1;37m          ^\u001b[0m\n\u001b[1;31mSyntaxError\u001b[0m\u001b[1;31m:\u001b[0m invalid syntax\n"
     ]
    }
   ],
   "source": [
    "![Pong Game](./proyecto_Dia_22_image.jpg)\n",
    "\n",
    "*Pong Game*"
   ]
  },
  {
   "cell_type": "markdown",
   "metadata": {},
   "source": [
    "#### Sección 1: Configuración de las Clases y Constantes\n",
    "\n",
    "En este bloque definimos:\n",
    "- **Clase Paddle:** Modela una paleta del juego. Al inicializarla se le puede pasar la posición de inicio (una tupla con coordenadas).\n",
    "- **Clase Ball:** Modela el balón que se mueve continuamente. Posee atributos para controlar el desplazamiento en X e Y, y métodos para mover el balón y hacerlo rebotar en las paredes o paletas.\n",
    "- **Clase Scoreboard:** Modela el marcador que se actualiza conforme los jugadores generen puntos\n",
    "\n",
    "Además, definimos algunas constantes que utilizaremos en el juego.\n"
   ]
  },
  {
   "cell_type": "code",
   "execution_count": 1,
   "metadata": {},
   "outputs": [],
   "source": [
    "from turtle import Turtle\n",
    "import random\n",
    "\n",
    "# Clase: Paddle\n",
    "\n",
    "class Paddle(Turtle):\n",
    "    \"\"\"Clase que modela una paleta de Pong.\"\"\"\n",
    "    def __init__(self, position):\n",
    "        super().__init__()\n",
    "        self.shape(\"square\")\n",
    "        self.color(\"white\")\n",
    "        self.penup()\n",
    "        self.shapesize(stretch_wid=5, stretch_len=1)  # Dimensiones (20x5 y 20x1)\n",
    "        self.goto(position)\n",
    "    \n",
    "    def go_up(self):\n",
    "        \"\"\"Mueve la paleta 20 píxeles hacia arriba.\"\"\"\n",
    "        new_y = self.ycor() + 20\n",
    "        self.goto(self.xcor(), new_y)\n",
    "    \n",
    "    def go_down(self):\n",
    "        \"\"\"Mueve la paleta 20 píxeles hacia abajo.\"\"\"\n",
    "        new_y = self.ycor() - 20\n",
    "        self.goto(self.xcor(), new_y)"
   ]
  },
  {
   "cell_type": "code",
   "execution_count": 2,
   "metadata": {},
   "outputs": [],
   "source": [
    "# Clase: Ball\n",
    "\n",
    "class Ball(Turtle):\n",
    "    \"\"\"Clase que modela el balón del juego Pong.\"\"\"\n",
    "    def __init__(self):\n",
    "        super().__init__()\n",
    "        self.shape(\"circle\")\n",
    "        self.color(\"white\")\n",
    "        self.penup()\n",
    "        self.speed(\"fastest\")                   # Velocidad de movimiento del balón\n",
    "        self.x_move = 10                        # Desplazamiento en X\n",
    "        self.y_move = 10                        # Desplazamiento en Y\n",
    "\n",
    "    def move(self):\n",
    "        \"\"\"Mueve el balón según sus atributos x_move y y_move.\"\"\"\n",
    "        new_x = self.xcor() + self.x_move       # Calcula la nueva posición en X agregando el desplazamiento\n",
    "        new_y = self.ycor() + self.y_move       # Calcula la nueva posición en Y agregando el desplazamiento\n",
    "        self.goto(new_x, new_y)                 # Mueve el balón a la nueva posición\n",
    "\n",
    "    def bounce_y(self):\n",
    "        \"\"\"Invierte la dirección en el eje Y para simular un rebote en la pared superior/inferior.\"\"\"\n",
    "        self.y_move *= -1\n",
    "\n",
    "    def bounce_x(self):\n",
    "        \"\"\"Invierte la dirección en el eje X para simular un rebote en una paleta.\"\"\"\n",
    "        self.x_move *= -1\n",
    "\n",
    "    def reset_position(self):\n",
    "        \"\"\"Resetea el balón a la posición central y revierte la dirección en el eje X.\"\"\"\n",
    "        self.goto(0, 0)\n",
    "        self.bounce_x()  # Cambia la dirección para que vaya hacia la paleta opuesta"
   ]
  },
  {
   "cell_type": "code",
   "execution_count": null,
   "metadata": {},
   "outputs": [],
   "source": [
    "# Clase: Scoreboard\n",
    "\n",
    "class Scoreboard(Turtle):\n",
    "    \"\"\"Clase que modela el marcador del juego Pong.\"\"\"\n",
    "    def __init__(self):\n",
    "        super().__init__()\n",
    "        self.score_left = 0\n",
    "        self.score_right = 0\n",
    "        self.color(\"white\")\n",
    "        self.penup()\n",
    "        self.hideturtle()\n",
    "        self.update_scoreboard()\n",
    "\n",
    "    def update_scoreboard(self):\n",
    "        \"\"\"Actualiza el marcador en la pantalla.\"\"\"\n",
    "        self.clear()                                                                    # Limpia el marcador actual\n",
    "        self.goto(-100, 200)                                                            # Posición del marcador izquierdo\n",
    "        self.write(self.score_left, align=\"center\", font=(\"Courier\", 80, \"normal\"))     # Muestra el puntaje izquierdo\n",
    "        self.goto(100, 200)                                                             # Posición del marcador derecho\n",
    "        self.write(self.score_right, align=\"center\", font=(\"Courier\", 80, \"normal\"))    # Muestra el puntaje derecho\n",
    "\n",
    "    def increase_left_score(self):\n",
    "        \"\"\"Incrementa el puntaje del jugador de la izquierda.\"\"\"\n",
    "        self.score_left += 1                                                            # Incrementa el puntaje izquierdo\n",
    "        self.update_scoreboard()                                                        # Actualiza el marcador\n",
    "\n",
    "    def increase_right_score(self):\n",
    "        \"\"\"Incrementa el puntaje del jugador de la derecha.\"\"\"\n",
    "        self.score_right += 1                                                           # Incrementa el puntaje derecho                 \n",
    "        self.update_scoreboard()                                                        # Actualiza el marcador    "
   ]
  },
  {
   "cell_type": "markdown",
   "metadata": {},
   "source": [
    "#### Sección 2: Ejecución del Juego\n",
    "\n",
    "En esta sección se configura la pantalla, se instancian los objetos (paletas y balón) y se establece la lógica principal del juego.  \n",
    "Se asignan los keybindings para controlar las paletas:\n",
    "- Flechas Up y Down para la paleta derecha.\n",
    "- Teclas \"w\" y \"s\" para la paleta izquierda.\n",
    "\n",
    "El bucle principal mueve el balón, actualiza la pantalla y detecta colisiones:\n",
    "- Rebote en las paredes superior e inferior.\n",
    "- Rebote en las paletas (cuando el balón se acerca a ellas).\n",
    "- Reset del balón (cuando se pasa de la paleta, simulando un fallo y punto para el contrario).\n"
   ]
  },
  {
   "cell_type": "code",
   "execution_count": null,
   "metadata": {},
   "outputs": [],
   "source": [
    "from turtle import Screen\n",
    "import time\n",
    "\n",
    "# Constantes globales para la pantalla y las paletas\n",
    "SCREEN_WIDTH = 800\n",
    "SCREEN_HEIGHT = 600\n",
    "\n",
    "\n",
    "# Configuración de la pantalla\n",
    "screen = Screen()\n",
    "screen.setup(width=SCREEN_WIDTH, height=SCREEN_HEIGHT)\n",
    "screen.bgcolor(\"black\")\n",
    "screen.title(\"Pong\")\n",
    "screen.tracer(0)  # Desactiva la animación automática para controlar la actualización manualmente\n",
    "\n",
    "# Instanciar paletas, balón y marcador\n",
    "r_paddle = Paddle((350, 0))                 # Paleta derecha (posición inicial (350, 0))\n",
    "l_paddle = Paddle((-350, 0))                # Paleta izquierda (posición incial (-350, 0))\n",
    "ball = Ball()                               # Instancia del balón (posición inicial (0, 0))\n",
    "scoreboard = Scoreboard()                   # Instancia del marcador\n",
    "\n",
    "# Configurar controles de teclado\n",
    "screen.listen()\n",
    "screen.onkey(r_paddle.go_up, \"Up\")          # Tecla de flecha arriba para la paleta derecha\n",
    "screen.onkey(r_paddle.go_down, \"Down\")      # Tecla de flecha abajo para la paleta derecha\n",
    "screen.onkey(l_paddle.go_up, \"w\")           # Tecla 'w' para la paleta izquierda\n",
    "screen.onkey(l_paddle.go_down, \"s\")         # Tecla 's' para la paleta izquierda\n",
    "\n",
    "# Bucle principal del juego \n",
    "game_is_on = True\n",
    "while game_is_on:\n",
    "    screen.update()                 # Actualiza la pantalla\n",
    "    time.sleep(0.05)                # Ajustar para controlar la velocidad del balón\n",
    "    ball.move()\n",
    "    \n",
    "    # Detectar colisión con la pared superior/inferior\n",
    "    if (ball.ycor() > (SCREEN_HEIGHT/2 - 20)                            # Detecta colisión con la pared superior\n",
    "        or ball.ycor() < -(SCREEN_HEIGHT/2 - 20)):                      # Detecta colisión con la pared inferior\n",
    "        ball.bounce_y()\n",
    "    \n",
    "    # Detectar colisión con las paletas \n",
    "    if (ball.distance(r_paddle) < 50 and ball.xcor() > (SCREEN_WIDTH/2 - SCREEN_WIDTH*.1)          # Detecta colisión con la paleta derecha\n",
    "        or ball.distance(l_paddle) < 50 and ball.xcor() < -(SCREEN_WIDTH/2 - SCREEN_WIDTH*.1)):    # Detecta colisión con la paleta izquierda\n",
    "        ball.bounce_x()\n",
    "    \n",
    "    # Detectar si el balón se sale a la derecha (punto para la paleta izquierda)\n",
    "    if ball.xcor() > SCREEN_WIDTH/2 - 10:\n",
    "        ball.reset_position()\n",
    "        scoreboard.increase_left_score()                      # Incrementa el puntaje de la paleta izquierda\n",
    "        \n",
    "    # Detectar si el balón se sale a la izquierda (punto para la paleta derecha)\n",
    "    if ball.xcor() < -(SCREEN_WIDTH/2 - 10):\n",
    "        ball.reset_position()\n",
    "        scoreboard.increase_right_score()                     # Incrementa el puntaje de la paleta derecha\n",
    "        \n",
    "\n",
    "screen.exitonclick()\n"
   ]
  },
  {
   "cell_type": "markdown",
   "metadata": {},
   "source": [
    "#### Conclusión\n",
    "\n",
    "En este proyecto (Proyecto del Día 22: Pong Game) hemos aplicado los siguientes conceptos:\n",
    "- **Configuración de la Pantalla:**  \n",
    "  Se establecen dimensiones, color de fondo y el título de la ventana.\n",
    "- **Programación Orientada a Objetos:**  \n",
    "  Se definen clases para los componentes del juego (Paddle, Ball y Scoreboard) mediante herencia (ambas heredan de Turtle).\n",
    "- **Listas y Constantes:**  \n",
    "  Uso de constantes para dimensiones, posiciones y direcciones.\n",
    "- **Control de Eventos:**  \n",
    "  Configuración de keybindings para mover las paletas (flechas para la derecha y \"w\"/\"s\" para la izquierda).\n",
    "- **Lógica de Colisiones y Movimiento:**  \n",
    "  Se implementa la detección de colisiones (con paredes y paletas), rebotes y reinicio del balón en caso de fallo.\n",
    "\n",
    "Este enfoque modular y organizado demuestra cómo combinar gráficos, interacción con el usuario y lógica de control para construir un juego clásico en Python.\n"
   ]
  }
 ],
 "metadata": {
  "kernelspec": {
   "display_name": "base",
   "language": "python",
   "name": "python3"
  },
  "language_info": {
   "codemirror_mode": {
    "name": "ipython",
    "version": 3
   },
   "file_extension": ".py",
   "mimetype": "text/x-python",
   "name": "python",
   "nbconvert_exporter": "python",
   "pygments_lexer": "ipython3",
   "version": "3.11.7"
  }
 },
 "nbformat": 4,
 "nbformat_minor": 2
}
