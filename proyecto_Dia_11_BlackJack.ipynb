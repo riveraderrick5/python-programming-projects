{
 "cells": [
  {
   "cell_type": "markdown",
   "metadata": {},
   "source": [
    "## Day 11 Proyect: BlackJack"
   ]
  },
  {
   "cell_type": "markdown",
   "metadata": {},
   "source": [
    "### Blackjack – Proyecto del Día 11 ♠️♥️♣️♦️\n",
    "\n",
    "En este proyecto implementamos una versión simplificada del juego de **Blackjack** (21).  \n",
    "Las reglas básicas son:\n",
    "- Se reparte dos cartas tanto al jugador como al crupier.  \n",
    "- El jugador puede pedir más cartas (hit) hasta decidir plantarse (stand) o hasta pasarse de 21 (bust).\n",
    "- El crupier debe pedir cartas hasta tener al menos 17.\n",
    "- El As se representa inicialmente como 11, pero se puede conviertir en 1.\n",
    "- Un Blackjack se detecta cuando, con 2 cartas, la suma es 21 (11 + 10). Al igual que al sumar 21 con un set de cartas.\n",
    "- Al final, se compara la puntuación del jugador y del crupier para determinar el ganador.\n",
    "\n",
    "Este proyecto pone en práctica conceptos como el manejo de diccionarios, funciones, bucles y condicionales, y la modularización del código.\n"
   ]
  },
  {
   "cell_type": "markdown",
   "metadata": {},
   "source": [
    "#### Contexto y Recursos\n",
    "\n",
    "Para este proyecto se usan:\n",
    "- **Listas:** para representar el mazo de cartas.\n",
    "- **Funciones:** para repartir cartas, calcular puntuaciones y comparar resultados.\n",
    "- **Diccionarios y bucles:** para manejar la lógica de juego y determinar el ganador.\n",
    "- **Control de flujo:** para gestionar los turnos del jugador y del crupier, y la decisión de reiniciar el juego.\n",
    "\n",
    "Recuerda que esta versión es simplificada y asume un mazo infinito.  "
   ]
  },
  {
   "cell_type": "markdown",
   "metadata": {},
   "source": [
    "#### 1. Preparación Inicial \n",
    "\n",
    "Importamos las librerías necesarias para la generación aleatoria de las primeras 2 cartas a repartir al jugador como al crupier."
   ]
  },
  {
   "cell_type": "code",
   "execution_count": 1,
   "metadata": {},
   "outputs": [
    {
     "name": "stdout",
     "output_type": "stream",
     "text": [
      "Cartas del jugador: 7 y 8\n"
     ]
    }
   ],
   "source": [
    "import random\n",
    "\n",
    "def repartir_carta():\n",
    "    \"\"\"Devuelve una carta aleatoria de la baraja.\"\"\"\n",
    "    cards = [2, 3, 4, 5, 6, 7, 8, 9, 10, 10, 10, 10, 11]\n",
    "    card = random.choice(cards)\n",
    "    return card\n",
    "\n",
    "# Ejemplo: repartir dos cartas al jugador\n",
    "carta_1 = repartir_carta()\n",
    "carta_2 = repartir_carta()\n",
    "print(f\"Cartas del jugador: {carta_1} y {carta_2}\")\n"
   ]
  },
  {
   "cell_type": "markdown",
   "metadata": {},
   "source": [
    "#### 2. Función calcular_puntuacion()\n",
    "\n",
    "La función `calcular_puntuacion(cartas)` recibe una lista de cartas y devuelve la puntuación total.  \n",
    "- Si la mano tiene 2 cartas y suma 21 (un Blackjack), retorna 0 para indicar Blackjack.  \n",
    "- Si hay un As (11) y la puntuación corriente supera 21, se convierte el As en 1.\n"
   ]
  },
  {
   "cell_type": "code",
   "execution_count": 2,
   "metadata": {},
   "outputs": [
    {
     "name": "stdout",
     "output_type": "stream",
     "text": [
      "Mano del usuario [5, 10]\n",
      "Puntuación del jugador: 15\n"
     ]
    }
   ],
   "source": [
    "def calcular_puntuacion(cartas):\n",
    "    \"\"\"Recibe una lista de cartas para calcular y retornar la puntuación total de una mano de cartas.\"\"\"\n",
    "    # Verificar Blackjack: dos cartas y suma 21\n",
    "    if sum(cartas) == 21 and len(cartas) == 2:\n",
    "        return 0                                        # 0 indicará un Blackjack\n",
    "    \n",
    "    # Si hay un As (11) y la puntuación corriente es mayor a 21, cambiar el As a 1\n",
    "    if 11 in cartas and sum(cartas) > 21:\n",
    "        cartas.remove(11)                               # Remueve el 11 de la lista para remplazarlo por 1\n",
    "        cartas.append(1)                                # Agrega el 1 a la lista/mano de cartas\n",
    "    \n",
    "    return sum(cartas)                                  #Realiza la suma del valor de la mano de cartas\n",
    "\n",
    "\n",
    "# Ejemplo de prueba:\n",
    "mano_usuario = []\n",
    "\n",
    "for i in range(2):\n",
    "    carta = repartir_carta()\n",
    "    mano_usuario.append(carta)\n",
    "\n",
    "\n",
    "print(f\"Mano del usuario {mano_usuario}\\nPuntuación del jugador:\", calcular_puntuacion(mano_usuario))\n"
   ]
  },
  {
   "cell_type": "markdown",
   "metadata": {},
   "source": [
    "#### 3. Función comparar_puntuaciones()\n",
    "\n",
    "La función `comparar_puntuaciones(player_score, dealer_score)` compara las puntuaciones del jugador y del crupier y devuelve el resultado final del juego.\n"
   ]
  },
  {
   "cell_type": "code",
   "execution_count": 3,
   "metadata": {},
   "outputs": [
    {
     "name": "stdout",
     "output_type": "stream",
     "text": [
      "¡Ganaste!\n"
     ]
    }
   ],
   "source": [
    "def comparar_puntuaciones(punt_jugador, punt_crupier):\n",
    "    \"\"\"Compara las puntuaciones del jugador y del crupier y retorna el resultado.\"\"\"\n",
    "    # Condiciones \n",
    "    if punt_jugador == punt_crupier:\n",
    "        return \"Empate.\"\n",
    "    elif punt_crupier == 0:\n",
    "        return \"Perdiste, el crupier tiene Blackjack.\"\n",
    "    elif punt_jugador == 0:\n",
    "        return \"¡Ganaste con Blackjack!\"\n",
    "    elif punt_jugador > 21:\n",
    "        return \"Te pasaste de 21. ¡Perdiste!\"\n",
    "    elif punt_crupier > 21:\n",
    "        return \"El crupier se pasó de 21. ¡Ganaste!\"\n",
    "    elif punt_jugador > punt_crupier:\n",
    "        return \"¡Ganaste!\"\n",
    "    else:\n",
    "        return \"Perdiste.\"\n",
    "\n",
    "# Ejemplo de prueba (valores ficticios)\n",
    "print(comparar_puntuaciones(18, 17))\n"
   ]
  },
  {
   "cell_type": "markdown",
   "metadata": {},
   "source": [
    "#### 4. Lógica Principal del Juego\n",
    "\n",
    "Implementamos la función `jugar_blackjack()` que integra el flujo del juego:\n",
    "- Reparte dos cartas al jugador y al crupier.\n",
    "- Muestra la primera carta del crupier.\n",
    "- Permite al jugador pedir más cartas hasta plantarse o pasarse de 21.\n",
    "- Luego, el crupier roba cartas hasta alcanzar al menos 17.\n",
    "- Finalmente, se compara la puntuación del jugador y del crupier para determinar el ganador.\n",
    "- Se pregunta al usuario si desea jugar nuevamente.\n"
   ]
  },
  {
   "cell_type": "code",
   "execution_count": 5,
   "metadata": {},
   "outputs": [
    {
     "name": "stdout",
     "output_type": "stream",
     "text": [
      "\n",
      "\n",
      "\n",
      "\n",
      "Bienvenido al BlackJack Doble D\n",
      "Tu mano: [4, 5], puntuación: 9\n",
      "Primera carta del crupier: 11\n",
      "Tu mano: [4, 5, 2], puntuación: 11\n",
      "Primera carta del crupier: 11\n",
      "Tu mano: [4, 5, 2, 4], puntuación: 15\n",
      "Primera carta del crupier: 11\n",
      "Tu mano: [4, 5, 2, 4, 10], puntuación: 25\n",
      "Primera carta del crupier: 11\n",
      "Tu mano final: [4, 5, 2, 4, 10], puntuación: 25\n",
      "Mano final del crupier: [11, 3, 6], puntuación: 20\n",
      "Te pasaste de 21. ¡Perdiste!\n",
      "\n",
      "\n",
      "\n",
      "\n",
      "Bienvenido al BlackJack Doble D\n",
      "Tu mano: [10, 4], puntuación: 14\n",
      "Primera carta del crupier: 10\n",
      "Tu mano: [10, 4, 8], puntuación: 22\n",
      "Primera carta del crupier: 10\n",
      "Tu mano final: [10, 4, 8], puntuación: 22\n",
      "Mano final del crupier: [10, 10], puntuación: 20\n",
      "Te pasaste de 21. ¡Perdiste!\n",
      "\n",
      "\n",
      "\n",
      "\n",
      "Bienvenido al BlackJack Doble D\n",
      "Tu mano: [10, 10], puntuación: 20\n",
      "Primera carta del crupier: 3\n",
      "Tu mano final: [10, 10], puntuación: 20\n",
      "Mano final del crupier: [3, 6, 5, 10], puntuación: 24\n",
      "El crupier se pasó de 21. ¡Ganaste!\n"
     ]
    }
   ],
   "source": [
    "def jugar_blackjack():\n",
    "    print(\"Bienvenido al BlackJack Doble D\")\n",
    "    # Reiniciar variables globales para cada partida\n",
    "    cartas_jugador = []\n",
    "    cartas_crupier = []\n",
    "    fin_del_juego = False\n",
    "    \n",
    "    # Repartir dos cartas a cada uno\n",
    "    for _ in range(2):\n",
    "        cartas_jugador.append(repartir_carta())\n",
    "        cartas_crupier.append(repartir_carta())\n",
    "    \n",
    "    # El turno del jugador:\n",
    "    while not fin_del_juego:\n",
    "        puntuacion_jugador = calcular_puntuacion(cartas_jugador)\n",
    "        puntuacion_crutier = calcular_puntuacion(cartas_crupier)\n",
    "        \n",
    "        print(f\"Tu mano: {cartas_jugador}, puntuación: {puntuacion_jugador}\")\n",
    "        print(f\"Primera carta del crupier: {cartas_crupier[0]}\")\n",
    "        \n",
    "        # Verificar condiciones del fin del juego\n",
    "        if puntuacion_jugador == 0 or puntuacion_crutier == 0 or puntuacion_jugador > 21:\n",
    "            fin_del_juego = True\n",
    "        else:\n",
    "            otra_carta = input(\"¿Quieres otra carta? Escribe 'si' para sí o 'no' para plantarte: \").lower()\n",
    "            if otra_carta == \"si\":\n",
    "                cartas_jugador.append(repartir_carta())\n",
    "            else:\n",
    "                fin_del_juego = True\n",
    "    \n",
    "    # El turno del crupier: mientras su puntuación sea menor a 17 y no tenga Blackjack (0)\n",
    "    while puntuacion_crutier != 0 and puntuacion_crutier < 17:\n",
    "        cartas_crupier.append(repartir_carta())\n",
    "        puntuacion_crutier = calcular_puntuacion(cartas_crupier)\n",
    "    \n",
    "    print(f\"Tu mano final: {cartas_jugador}, puntuación: {puntuacion_jugador}\")\n",
    "    print(f\"Mano final del crupier: {cartas_crupier}, puntuación: {puntuacion_crutier}\")\n",
    "    print(comparar_puntuaciones(puntuacion_jugador, puntuacion_crutier))\n",
    "\n",
    "\n",
    "# Preguntar al usuario si desea volver a jugar\n",
    "while input(\"¿Quieres jugar blackjack? Escribe 'si' para sí o 'no' para no: \").lower() == \"si\":\n",
    "    # \"Limpiar\" la pantalla imprimiendo saltos de línea\n",
    "    print(\"\\n\" * 3)\n",
    "    jugar_blackjack()\n"
   ]
  },
  {
   "cell_type": "markdown",
   "metadata": {},
   "source": [
    "#### Conclusión\n",
    "\n",
    "En este proyecto hemos aplicado conceptos fundamentales de Python, tales como:\n",
    "- **Listas y Diccionarios:**  \n",
    "  Para almacenar las cartas y gestionar la lógica del juego.\n",
    "- **Funciones:**  \n",
    "  Se crearon funciones para repartir cartas (`repartir_carta()`), calcular la puntuación (`calcular_puntuacion()`), comparar resultados (`comparar_puntuaciones()`) y gestionar el juego completo (`jugar_blackjack()`).\n",
    "- **Bucles y Condicionales:**  \n",
    "  Para controlar los turnos del jugador y del crupier, y para decidir cuándo terminar el juego.\n",
    "- **Manejo de Flujos de Juego:**  \n",
    "  Permitir al usuario seguir pidiendo cartas o plantarse, y reiniciar el juego según su elección.\n",
    "\n",
    "Este enfoque no solo refuerza los fundamentos de Python, sino que también demuestra habilidades en la organización y modularización de un programa interactivo.\n"
   ]
  }
 ],
 "metadata": {
  "kernelspec": {
   "display_name": "base",
   "language": "python",
   "name": "python3"
  },
  "language_info": {
   "codemirror_mode": {
    "name": "ipython",
    "version": 3
   },
   "file_extension": ".py",
   "mimetype": "text/x-python",
   "name": "python",
   "nbconvert_exporter": "python",
   "pygments_lexer": "ipython3",
   "version": "3.11.7"
  }
 },
 "nbformat": 4,
 "nbformat_minor": 2
}
