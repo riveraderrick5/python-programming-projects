{
 "cells": [
  {
   "cell_type": "markdown",
   "id": "ceea7a51",
   "metadata": {},
   "source": [
    "## Day 42 Proyect: Birthday Invite Website"
   ]
  },
  {
   "cell_type": "markdown",
   "id": "2d451a09",
   "metadata": {},
   "source": [
    "### Proyecto Día 42 – Invitación de Cumpleaños en HTML 🎉🎂\n",
    "\n",
    "Este proyecto es una página web simple que sirve como invitación digital para una fiesta de cumpleaños.  \n",
    "Integra conceptos fundamentales de HTML:\n",
    "\n",
    "✅ Elementos aplicados:\n",
    "- Encabezados (`<h1>`, `<h2>`, `<h3>`)\n",
    "- Imagen con descripción alternativa (`<img alt=\"\">`)\n",
    "- Lista no ordenada (`<ul>`, `<li>`)\n",
    "- Enlace con `<a href=\"\">`"
   ]
  },
  {
   "cell_type": "markdown",
   "id": "3585a6c3",
   "metadata": {},
   "source": [
    "#### 💻 Código HTML del Proyecto\n",
    "\n",
    "A continuación, se muestra el contenido del archivo `index.html`."
   ]
  },
  {
   "cell_type": "code",
   "execution_count": 1,
   "id": "fa09221f",
   "metadata": {},
   "outputs": [],
   "source": [
    "from IPython.display import display, HTML      # Libreria para mostrar HTML"
   ]
  },
  {
   "cell_type": "code",
   "execution_count": 2,
   "id": "5a1b017f",
   "metadata": {},
   "outputs": [
    {
     "data": {
      "text/html": [
       "\n",
       "<!DOCTYPE html>\n",
       "<html lang=\"es\">\n",
       "  <head>\n",
       "    <meta charset=\"UTF-8\">\n",
       "    <title>¡Estás Invitado a Mi Cumpleaños!</title>\n",
       "  </head>\n",
       "  <body>\n",
       "    <h1>🎉 ¡Es Mi Cumpleaños! 🎉</h1>\n",
       "    <h2>Y tú estás invitado 🥳</h2>\n",
       "    <img src=\"https://raw.githubusercontent.com/appbrewery/webdev/main/birthday-cake3.4.jpeg\" \n",
       "         alt=\"Imagen de pastel de cumpleaños\">\n",
       "    <h3>¿Qué traer?</h3>\n",
       "    <ul>\n",
       "      <li>Globos 🎈</li>\n",
       "      <li>Regalos 🎁</li>\n",
       "      <li>Mucho apetito 🍕</li>\n",
       "    </ul>\n",
       "    <h3>¿Dónde será?</h3>\n",
       "    <p><a href=\"https://maps.app.goo.gl/xFNq8FgJSRxin3w68\" target=\"_blank\">Ver en Google Maps</a></p>\n",
       "  </body>\n",
       "</html>\n"
      ],
      "text/plain": [
       "<IPython.core.display.HTML object>"
      ]
     },
     "metadata": {},
     "output_type": "display_data"
    }
   ],
   "source": [
    "html_content = \"\"\"\n",
    "<!DOCTYPE html>\n",
    "<html lang=\"es\">\n",
    "  <head>\n",
    "    <meta charset=\"UTF-8\">\n",
    "    <title>¡Estás Invitado a Mi Cumpleaños!</title>\n",
    "  </head>\n",
    "  <body>\n",
    "    <h1>🎉 ¡Es Mi Cumpleaños! 🎉</h1>\n",
    "    <h2>Y tú estás invitado 🥳</h2>\n",
    "    <img src=\"https://raw.githubusercontent.com/appbrewery/webdev/main/birthday-cake3.4.jpeg\" \n",
    "         alt=\"Imagen de pastel de cumpleaños\">\n",
    "    <h3>¿Qué traer?</h3>\n",
    "    <ul>\n",
    "      <li>Globos 🎈</li>\n",
    "      <li>Regalos 🎁</li>\n",
    "      <li>Mucho apetito 🍕</li>\n",
    "    </ul>\n",
    "    <h3>¿Dónde será?</h3>\n",
    "    <p><a href=\"https://maps.app.goo.gl/xFNq8FgJSRxin3w68\" target=\"_blank\">Ver en Google Maps</a></p>\n",
    "  </body>\n",
    "</html>\n",
    "\"\"\"\n",
    "\n",
    "display(HTML(html_content))"
   ]
  },
  {
   "cell_type": "markdown",
   "id": "460d744c",
   "metadata": {},
   "source": [
    "#### 🧠 Conclusión\n",
    "\n",
    "En este proyecto aplicamos los fundamentos de HTML en un contexto creativo y práctico.  \n",
    "\n",
    "- Crear una estructura básica de HTML (`<html>`, `<head>`, `<body>`)\n",
    "- Mostrar imágenes y agregar texto alternativo accesible\n",
    "- Usar listas para organizar elementos\n",
    "- Agregar enlaces funcionales con `href`"
   ]
  }
 ],
 "metadata": {
  "kernelspec": {
   "display_name": "base",
   "language": "python",
   "name": "python3"
  },
  "language_info": {
   "codemirror_mode": {
    "name": "ipython",
    "version": 3
   },
   "file_extension": ".py",
   "mimetype": "text/x-python",
   "name": "python",
   "nbconvert_exporter": "python",
   "pygments_lexer": "ipython3",
   "version": "3.11.7"
  }
 },
 "nbformat": 4,
 "nbformat_minor": 5
}
