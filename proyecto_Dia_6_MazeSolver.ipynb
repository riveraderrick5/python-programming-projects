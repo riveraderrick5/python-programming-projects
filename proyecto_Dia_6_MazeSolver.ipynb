{
 "cells": [
  {
   "cell_type": "markdown",
   "metadata": {},
   "source": [
    "## Day 6 Proyect: Maze Solver"
   ]
  },
  {
   "cell_type": "markdown",
   "metadata": {},
   "source": [
    "### Maze Solver en Reeborg's World 🤖\n",
    "\n",
    "En este proyecto, implementamos una solución para que un robot navegue a través de un laberinto en [Reeborg's World](https://reeborg.ca/reeborg.html?lang=en&mode=python&menu=worlds%2Fmenus%2Freeborg_intro_en.json&name=Maze&url=worlds%2Ftutorial_en%2Fmaze1.json).  \n",
    "El objetivo es que, sin importar la posición inicial ni la dirección en la que se encuentre el robot, éste siga el **método de la mano derecha** para alcanzar la meta.\n",
    "\n",
    "La solución se divide en dos partes:\n",
    "1. **Inicialización:** Asegurarse de que el robot esté junto a una pared (esto evita bucles infinitos en ciertos escenarios).\n",
    "2. **Algoritmo de navegación:**  \n",
    "   - Si el lado derecho está libre, gira a la derecha y avanza.  \n",
    "   - Si no, y el frente está libre, avanza.  \n",
    "   - Si ninguna de estas opciones es posible, gira a la izquierda.\n",
    "\n",
    "¡Vamos a explorar el código y la lógica detrás de esta solución! 🚀\n"
   ]
  },
  {
   "cell_type": "markdown",
   "metadata": {},
   "source": [
    "#### 1. Contexto y Enlace al Entorno\n",
    "\n",
    "Este desafío se ejecuta en [Reeborg's World](https://reeborg.ca/reeborg.html?lang=en&mode=python&menu=worlds%2Fmenus%2Freeborg_intro_en.json&name=Maze&url=worlds%2Ftutorial_en%2Fmaze1.json), un entorno web interactivo que nos permite controlar un robot mediante comandos de Python.  \n",
    "En este entorno, el robot tiene funciones predefinidas para moverse y detectar paredes, lo que nos permite concentrarnos en la lógica de navegación.  \n"
   ]
  },
  {
   "cell_type": "markdown",
   "metadata": {},
   "source": [
    "#### 2. Descripción del Algoritmo\n",
    "\n",
    "El algoritmo se basa en seguir la **pared derecha**:\n",
    "1. **Alineación inicial:**  \n",
    "   Antes de comenzar la navegación, el robot se mueve hacia adelante hasta encontrarse con una pared. Una vez que se detecta una pared al frente, el robot gira a la izquierda para tener la pared a su derecha.\n",
    "   \n",
    "2. **Navegación mediante bucle:**  \n",
    "   Mientras el robot no haya alcanzado la meta (`at_goal()`), se evalúan las siguientes condiciones en cada iteración:\n",
    "   - **Si el lado derecho está libre:**  \n",
    "     Gira a la derecha y avanza.\n",
    "   - **Si el frente está libre:**  \n",
    "     Avanza.\n",
    "   - **Caso contrario:**  \n",
    "     Gira a la izquierda.\n",
    "\n",
    "Esta estrategia permite que el robot se mueva a lo largo del borde derecho del laberinto y, en condiciones normales, alcance la meta.  \n"
   ]
  },
  {
   "cell_type": "markdown",
   "metadata": {},
   "source": [
    "#### 3. Función Auxiliar: turn_right\n",
    "\n",
    "Dado que Reeborg's World no tiene una función para girar a la derecha, creamos `turn_right()` como tres giros a la izquierda.\n",
    "\n",
    "```\n",
    "def turn_right():\n",
    "    turn_left()\n",
    "    turn_left()\n",
    "    turn_left()\n",
    "```\n"
   ]
  },
  {
   "cell_type": "markdown",
   "metadata": {},
   "source": [
    "#### 4. Algoritmo\n",
    "\n",
    "```\n",
    "# Inicialización: mover al robot hasta que encuentre una pared al frente.\n",
    "while front_is_clear():\n",
    "    move()\n",
    "\n",
    "# Al encontrar una pared, girar a la izquierda para colocar la pared a la derecha.\n",
    "turn_left()\n",
    "\n",
    "# Algoritmo principal: mientras no se alcance la meta, sigue las instrucciones.\n",
    "while not at_goal():\n",
    "    if right_is_clear():\n",
    "        # Si el lado derecho está libre, gira a la derecha y avanza.\n",
    "        turn_right()\n",
    "        move()\n",
    "    elif front_is_clear():\n",
    "        # Si el frente está libre, avanza.\n",
    "        move()\n",
    "    else:\n",
    "        # Si no puede avanzar ni girar a la derecha, gira a la izquierda.\n",
    "        turn_left()\n",
    "\n",
    "\n",
    "\n",
    "```"
   ]
  },
  {
   "cell_type": "markdown",
   "metadata": {},
   "source": [
    "#### Conclusión\n",
    "\n",
    "En este proyecto hemos aplicado conceptos fundamentales de Python, tales como:\n",
    "- **Bucles y condicionales:**  \n",
    "  Uso de `while` y estructuras `if-elif-else` para controlar la navegación del robot.\n",
    "- **Funciones:**  \n",
    "  Creación de funciones auxiliares como `turn_right()` para modularizar el código.\n",
    "- **Gestión de errores y validación:**  \n",
    "  Asegurarnos de que el robot se alinee correctamente antes de comenzar la navegación para evitar bucles infinitos.\n",
    "- **Aplicación de algoritmos:**  \n",
    "  Implementación del método de la mano derecha para resolver laberintos, demostrando la capacidad de diseñar y depurar algoritmos en Python.\n"
   ]
  }
 ],
 "metadata": {
  "kernelspec": {
   "display_name": "base",
   "language": "python",
   "name": "python3"
  },
  "language_info": {
   "codemirror_mode": {
    "name": "ipython",
    "version": 3
   },
   "file_extension": ".py",
   "mimetype": "text/x-python",
   "name": "python",
   "nbconvert_exporter": "python",
   "pygments_lexer": "ipython3",
   "version": "3.11.7"
  }
 },
 "nbformat": 4,
 "nbformat_minor": 2
}
