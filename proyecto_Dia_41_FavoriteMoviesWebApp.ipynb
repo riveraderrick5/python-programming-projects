{
 "cells": [
  {
   "cell_type": "markdown",
   "id": "cdb2c726",
   "metadata": {},
   "source": [
    "## Day 41 Proyect: Favorite Movies Web App"
   ]
  },
  {
   "cell_type": "markdown",
   "id": "5cc62bc6",
   "metadata": {},
   "source": [
    "### Proyecto Día 41 – Sitio de Películas Favoritas 🎥🍿\n",
    "\n",
    "Este proyecto consiste en crear una página web estática utilizando solamente HTML.  \n",
    "La página lista tus películas favoritas, acompañadas de un título principal, subtítulo, separación visual, encabezados y descripciones.\n",
    "\n",
    "🎯 Objetivo: Aplicar los siguientes conceptos básicos de HTML:\n",
    "- Etiquetas de encabezado (`<h1>`, `<h2>`, `<h3>`)\n",
    "- Separador visual (`<hr>`)\n",
    "- Párrafos (`<p>`)\n",
    "- Estructura jerárquica del contenido\n"
   ]
  },
  {
   "cell_type": "markdown",
   "id": "6f845db3",
   "metadata": {},
   "source": [
    "#### 💻 Código del proyecto\n",
    "A continuación, se muestra el contenido del archivo `index.html`."
   ]
  },
  {
   "cell_type": "code",
   "execution_count": 1,
   "id": "eebd47d5",
   "metadata": {},
   "outputs": [
    {
     "name": "stderr",
     "output_type": "stream",
     "text": [
      "C:\\Users\\DIM-081215\\AppData\\Local\\Temp\\ipykernel_9652\\4264050566.py:1: DeprecationWarning: Importing display from IPython.core.display is deprecated since IPython 7.14, please import from IPython display\n",
      "  from IPython.core.display import display, HTML      # Libreria para mostrar HTML\n"
     ]
    }
   ],
   "source": [
    "from IPython.core.display import display, HTML      # Libreria para mostrar HTML"
   ]
  },
  {
   "cell_type": "code",
   "execution_count": 2,
   "id": "3e740fd9",
   "metadata": {},
   "outputs": [
    {
     "data": {
      "text/html": [
       "\n",
       "<!DOCTYPE html>\n",
       "<html lang=\"es\">\n",
       "  <head>\n",
       "    <meta charset=\"UTF-8\">\n",
       "    <title>Mis Películas Favoritas</title>\n",
       "  </head>\n",
       "  <body>\n",
       "    <h1>Top 3 Películas Favoritas de Derrick 🎬</h1>\n",
       "    <h2>Mis recomendaciones personales del año</h2>\n",
       "    <hr/>\n",
       "\n",
       "    <h3>Whiplash</h3>\n",
       "    <p>Una intensa historia sobre la obsesión y el perfeccionismo. Impresionante dirección y música.</p>\n",
       "\n",
       "    <h3>Inception</h3>\n",
       "    <p>Un thriller psicológico con conceptos profundos sobre los sueños y la percepción de la realidad.</p>\n",
       "\n",
       "    <h3>El Castillo Vagabundo</h3>\n",
       "    <p>Una obra visualmente mágica de Studio Ghibli, con una historia llena de corazón y fantasía.</p>\n",
       "  </body>\n",
       "</html>\n"
      ],
      "text/plain": [
       "<IPython.core.display.HTML object>"
      ]
     },
     "metadata": {},
     "output_type": "display_data"
    }
   ],
   "source": [
    "html_content = \"\"\"\n",
    "<!DOCTYPE html>\n",
    "<html lang=\"es\">\n",
    "  <head>\n",
    "    <meta charset=\"UTF-8\">\n",
    "    <title>Mis Películas Favoritas</title>\n",
    "  </head>\n",
    "  <body>\n",
    "    <h1>Top 3 Películas Favoritas de Derrick 🎬</h1>\n",
    "    <h2>Mis recomendaciones personales del año</h2>\n",
    "    <hr/>\n",
    "\n",
    "    <h3>Whiplash</h3>\n",
    "    <p>Una intensa historia sobre la obsesión y el perfeccionismo. Impresionante dirección y música.</p>\n",
    "\n",
    "    <h3>Inception</h3>\n",
    "    <p>Un thriller psicológico con conceptos profundos sobre los sueños y la percepción de la realidad.</p>\n",
    "\n",
    "    <h3>El Castillo Vagabundo</h3>\n",
    "    <p>Una obra visualmente mágica de Studio Ghibli, con una historia llena de corazón y fantasía.</p>\n",
    "  </body>\n",
    "</html>\n",
    "\"\"\"\n",
    "\n",
    "display(HTML(html_content))"
   ]
  },
  {
   "cell_type": "markdown",
   "id": "83b0561e",
   "metadata": {},
   "source": [
    "#### 🧠 Conclusión\n",
    "\n",
    "Este proyecto fue una excelente introducción a los fundamentos del lenguaje HTML:\n",
    "\n",
    "- 🏷️ Uso correcto de etiquetas semánticas\n",
    "- 🧱 Estructura básica de un documento HTML (`<!DOCTYPE html>`, `<html>`, `<head>`, `<body>`)\n",
    "- 🎨 Organización del contenido mediante encabezados y párrafos (`<h1>`, `<h2>`, `<h3>`, `<p>`)\n",
    "- 🧹 Separación visual con `<hr>`"
   ]
  }
 ],
 "metadata": {
  "kernelspec": {
   "display_name": "base",
   "language": "python",
   "name": "python3"
  },
  "language_info": {
   "codemirror_mode": {
    "name": "ipython",
    "version": 3
   },
   "file_extension": ".py",
   "mimetype": "text/x-python",
   "name": "python",
   "nbconvert_exporter": "python",
   "pygments_lexer": "ipython3",
   "version": "3.11.7"
  }
 },
 "nbformat": 4,
 "nbformat_minor": 5
}
