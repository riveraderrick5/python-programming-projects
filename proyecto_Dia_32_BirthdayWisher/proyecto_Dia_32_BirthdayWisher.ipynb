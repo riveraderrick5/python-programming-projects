{
 "cells": [
  {
   "cell_type": "markdown",
   "id": "fa6e9c1e",
   "metadata": {},
   "source": [
    "## Day 32 Proyect: Birthday Wisher"
   ]
  },
  {
   "cell_type": "markdown",
   "id": "f5c94a57",
   "metadata": {},
   "source": [
    "### Birthday Wisher – Proyecto del Día 32 🎉📬\n",
    "\n",
    "Este proyecto automatiza el envío de correos electrónicos personalizados de cumpleaños.  \n",
    "Se utilizan herramientas como `pandas`, `datetime`, `smtplib` y manejo de archivos para:\n",
    "\n",
    "- Leer una base de datos de cumpleaños (`birthdays.csv`)\n",
    "- Verificar si hay cumpleaños el día actual\n",
    "- Seleccionar una plantilla de carta aleatoria y personalizarla\n",
    "- Enviar el mensaje al destinatario usando correo electrónico\n",
    "\n",
    "Este proyecto refuerza conceptos clave de automatización, manejo de fechas, uso de CSVs, comprensión de diccionarios, y envío de correos con `SMTP`.\n"
   ]
  },
  {
   "cell_type": "markdown",
   "id": "a8983085",
   "metadata": {},
   "source": [
    "#### Paso 1: Leer la base de datos y verificar si hoy es el cumpleaños de alguien 🎂\n",
    "\n",
    "Se utiliza `pandas` para leer el archivo `birthdays.csv`.  \n",
    "Luego, usando `datetime`, se compara si el día y mes actuales coinciden con alguno de los registros.\n"
   ]
  },
  {
   "cell_type": "code",
   "execution_count": 1,
   "id": "a025ef81",
   "metadata": {},
   "outputs": [],
   "source": [
    "import pandas as pd\n",
    "import datetime as dt\n",
    "import random\n",
    "import smtplib\n",
    "from email.mime.text import MIMEText\n",
    "from email.header import Header"
   ]
  },
  {
   "cell_type": "code",
   "execution_count": null,
   "id": "953961c0",
   "metadata": {},
   "outputs": [],
   "source": [
    "# 📌 Variables para el correo de envío (debes completar con tus datos)\n",
    "MY_EMAIL = \"email@gmail.com\"\n",
    "MY_PASSWORD = \"password\""
   ]
  },
  {
   "cell_type": "code",
   "execution_count": 3,
   "id": "7569eca5",
   "metadata": {},
   "outputs": [],
   "source": [
    "# Leer la base de datos de cumpleaños\n",
    "birthdays = pd.read_csv(\"birthdays.csv\")\n",
    "\n",
    "# Obtener fecha actual\n",
    "today = dt.datetime.now()\n",
    "today_tuple = (today.month, today.day)\n",
    "\n",
    "# Crear diccionario con tuplas (mes, día) como llave y fila como valor\n",
    "birthday_dict = {\n",
    "    (row[\"month\"], row[\"day\"]): row for (index, row) in birthdays.iterrows()\n",
    "}\n"
   ]
  },
  {
   "cell_type": "markdown",
   "id": "dc9c39ae",
   "metadata": {},
   "source": [
    "#### Paso 2: Si hoy es cumpleaños de alguien, personalizar una carta 🎈\n",
    "\n",
    "Se verifica si la fecha de hoy coincide con alguna entrada del diccionario.  \n",
    "Si es así, se elige una plantilla al azar y se reemplaza el nombre del destinatario.\n"
   ]
  },
  {
   "cell_type": "code",
   "execution_count": 4,
   "id": "9470d8af",
   "metadata": {},
   "outputs": [
    {
     "name": "stdout",
     "output_type": "stream",
     "text": [
      "✅ Correo enviado a riveraderrick5@gmail.com\n"
     ]
    }
   ],
   "source": [
    "# Verificar si hoy es el cumpleaños de alguien\n",
    "if today_tuple in birthday_dict:\n",
    "    birthday_person = birthday_dict[today_tuple]    # Obtener la fila correspondiente al cumpleaños a través de la llave\n",
    "    name = birthday_person[\"name\"]                  # Obtener el nombre de la persona\n",
    "\n",
    "    # Elegir una plantilla de carta aleatoria\n",
    "    letter_path = f\"./letter_templates/letter_{random.randint(1,3)}.txt\"\n",
    "    with open(letter_path, \"r\") as letter_file:\n",
    "        contents = letter_file.read()\n",
    "        personalized_letter = contents.replace(\"[NAME]\", name)\n",
    "    \n",
    "    # Crear el objeto MIMEText con charset utf-8\n",
    "    msg = MIMEText(personalized_letter, _subtype=\"plain\", _charset=\"utf-8\")\n",
    "\n",
    "    #  Asignar cabeceras indicando también utf-8\n",
    "    msg['From']    = MY_EMAIL\n",
    "    msg['To']      = birthday_person[\"email\"]\n",
    "    msg['Subject'] = Header(\"¡Feliz Cumpleaños! 🎉\", \"utf-8\")\n",
    "    \n",
    "    # Enviar correo usando SMTPlib\n",
    "    with smtplib.SMTP(\"smtp.gmail.com\", port=587) as connection:\n",
    "        connection.starttls()                                               # Iniciar conexión segura\n",
    "        connection.login(user=MY_EMAIL, password=MY_PASSWORD)               # Iniciar sesión con tus credenciales\n",
    "        connection.send_message(msg)                                        # Enviar el mensaje\n",
    "        print(f\"✅ Correo enviado a {birthday_person['email']}\")\n"
   ]
  },
  {
   "cell_type": "markdown",
   "id": "493a8aaa",
   "metadata": {},
   "source": [
    "#### 🧠 Conclusión\n",
    "\n",
    "En este proyecto pusimos en práctica varios conceptos importantes de Python y automatización:\n",
    "\n",
    "- 📅 Uso del módulo `datetime` para verificar fechas\n",
    "- 📊 Lectura y procesamiento de datos con `pandas`\n",
    "- 📦 Manejo de archivos y plantillas de texto\n",
    "- 🧠 Comprensión de diccionarios\n",
    "- 📧 Envío de correos con `smtplib` y autenticación SMTP\n",
    "\n",
    "Este proyecto es una gran introducción al mundo de la automatización y puede escalar fácilmente a sistemas más complejos como recordatorios automáticos, notificaciones, newsletters, etc.\n"
   ]
  }
 ],
 "metadata": {
  "kernelspec": {
   "display_name": "Python 3",
   "language": "python",
   "name": "python3"
  },
  "language_info": {
   "codemirror_mode": {
    "name": "ipython",
    "version": 3
   },
   "file_extension": ".py",
   "mimetype": "text/x-python",
   "name": "python",
   "nbconvert_exporter": "python",
   "pygments_lexer": "ipython3",
   "version": "3.9.6"
  }
 },
 "nbformat": 4,
 "nbformat_minor": 5
}
